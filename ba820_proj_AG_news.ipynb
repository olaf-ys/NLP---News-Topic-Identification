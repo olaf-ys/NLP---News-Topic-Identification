{
  "nbformat": 4,
  "nbformat_minor": 0,
  "metadata": {
    "colab": {
      "provenance": [],
      "toc_visible": true,
      "include_colab_link": true
    },
    "kernelspec": {
      "name": "python3",
      "display_name": "Python 3"
    },
    "language_info": {
      "name": "python"
    }
  },
  "cells": [
    {
      "cell_type": "markdown",
      "metadata": {
        "id": "view-in-github",
        "colab_type": "text"
      },
      "source": [
        "<a href=\"https://colab.research.google.com/github/olaf-ys/NLP---News-Topic-Identification/blob/main/ba820_proj_AG_news.ipynb\" target=\"_parent\"><img src=\"https://colab.research.google.com/assets/colab-badge.svg\" alt=\"Open In Colab\"/></a>"
      ]
    },
    {
      "cell_type": "markdown",
      "source": [
        "# Library"
      ],
      "metadata": {
        "id": "cybEFbxZKbCr"
      }
    },
    {
      "cell_type": "code",
      "source": [
        "import csv\n",
        "import pandas as pd\n",
        "import datetime\n",
        "import numpy as np\n",
        "\n",
        "# NLP\n",
        "import re\n",
        "import spacy\n",
        "\n",
        "import nltk\n",
        "from nltk.stem import WordNetLemmatizer\n",
        "from nltk.corpus import stopwords\n",
        "from nltk.tokenize import word_tokenize\n",
        "\n",
        "import gensim\n",
        "from gensim import corpora, models\n",
        "from gensim.models.doc2vec import Doc2Vec, TaggedDocument\n",
        "from gensim.models import Word2Vec\n",
        "\n",
        "# visualization\n",
        "import matplotlib.pyplot as plt\n",
        "import seaborn as sns\n",
        "\n",
        "# sklean\n",
        "from sklearn.preprocessing import StandardScaler\n",
        "from sklearn.cluster import KMeans\n",
        "from sklearn.decomposition import TruncatedSVD\n",
        "from sklearn.feature_extraction.text import CountVectorizer, TfidfVectorizer\n",
        "from sklearn.metrics.pairwise import linear_kernel\n",
        "from sklearn.preprocessing import normalize\n",
        "from sklearn.model_selection import train_test_split\n",
        "from sklearn.linear_model import LinearRegression\n",
        "from sklearn.metrics import r2_score, mean_squared_error, classification_report\n",
        "from sklearn.ensemble import RandomForestClassifier\n",
        "\n",
        "# deep learning\n",
        "from keras.preprocessing.text import Tokenizer\n",
        "from keras.preprocessing.sequence import pad_sequences\n",
        "from keras.models import Sequential\n",
        "from keras.layers import Embedding, LSTM, Dense, Dropout, Conv1D, MaxPooling1D, SimpleRNN\n",
        "from keras.callbacks import EarlyStopping\n",
        "from keras import backend as K\n",
        "\n",
        "# ignore warnings\n",
        "import warnings\n",
        "warnings.filterwarnings('ignore')\n",
        "\n",
        "# downloads\n",
        "nltk.download('stopwords')\n",
        "nltk.download('wordnet')\n",
        "nltk.download('punkt')"
      ],
      "metadata": {
        "colab": {
          "base_uri": "https://localhost:8080/"
        },
        "id": "wJpeEXQv4sT5",
        "outputId": "abb6cc8d-df0c-405e-c45b-aaa4e301f32a"
      },
      "execution_count": 1,
      "outputs": [
        {
          "output_type": "stream",
          "name": "stderr",
          "text": [
            "[nltk_data] Downloading package stopwords to /root/nltk_data...\n",
            "[nltk_data]   Package stopwords is already up-to-date!\n",
            "[nltk_data] Downloading package wordnet to /root/nltk_data...\n",
            "[nltk_data]   Package wordnet is already up-to-date!\n",
            "[nltk_data] Downloading package punkt to /root/nltk_data...\n",
            "[nltk_data]   Package punkt is already up-to-date!\n"
          ]
        },
        {
          "output_type": "execute_result",
          "data": {
            "text/plain": [
              "True"
            ]
          },
          "metadata": {},
          "execution_count": 1
        }
      ]
    },
    {
      "cell_type": "markdown",
      "source": [
        "# Load, clean, and sample the data"
      ],
      "metadata": {
        "id": "ZYM4mfYQih8H"
      }
    },
    {
      "cell_type": "code",
      "source": [
        "from google.colab import drive\n",
        "drive.mount('/content/drive')"
      ],
      "metadata": {
        "colab": {
          "base_uri": "https://localhost:8080/"
        },
        "id": "gP3FeYbSEDy7",
        "outputId": "d4657343-6c20-49e6-9126-190cfe435d1c"
      },
      "execution_count": 2,
      "outputs": [
        {
          "output_type": "stream",
          "name": "stdout",
          "text": [
            "Drive already mounted at /content/drive; to attempt to forcibly remount, call drive.mount(\"/content/drive\", force_remount=True).\n"
          ]
        }
      ]
    },
    {
      "cell_type": "code",
      "source": [
        "# List to hold the corrected data\n",
        "data = []\n",
        "\n",
        "# Temporary list to hold fields that span multiple lines\n",
        "current_fields = []\n",
        "\n",
        "# Open the file and read line by line\n",
        "with open('/content/drive/MyDrive/newsSpace.txt', 'r', encoding='ISO-8859-1') as file:\n",
        "    for line in file:\n",
        "        # Check if the line ends with a backslash indicating continuation\n",
        "        if line.endswith('\\\\\\n'):\n",
        "            # Add the current line's content (except for the backslash and newline) to the current fields\n",
        "            current_fields.append(line[:-2])\n",
        "        else:\n",
        "            # This line does not end with a backslash, so it is the end of the current entry\n",
        "            # Combine any previously accumulated fields with the current line\n",
        "            current_fields.append(line)\n",
        "            full_entry = ''.join(current_fields)\n",
        "\n",
        "            # Split the full entry into fields using the tab delimiter\n",
        "            fields = full_entry.rstrip('\\n').split('\\t')\n",
        "\n",
        "            # Ensure that each line has the correct number of fields\n",
        "            if len(fields) == 9:\n",
        "                data.append(fields)\n",
        "\n",
        "            # Reset the current fields list for the next entry\n",
        "            current_fields = []\n",
        "\n",
        "# Convert the corrected data list to a DataFrame\n",
        "df = pd.DataFrame(data, columns=['source', 'url', 'title', 'image', 'category', 'description', 'rank', 'pubdate', 'video'])\n",
        "\n",
        "# Display the first few rows of the DataFrame to ensure correctness\n",
        "df.head()"
      ],
      "metadata": {
        "colab": {
          "base_uri": "https://localhost:8080/",
          "height": 518
        },
        "id": "c0lBRz7flfix",
        "outputId": "ed8e162d-3862-4085-de95-c7450e6bc113"
      },
      "execution_count": 3,
      "outputs": [
        {
          "output_type": "execute_result",
          "data": {
            "text/plain": [
              "           source                                                url  \\\n",
              "0  Yahoo Business  http://us.rd.yahoo.com/dailynews/rss/business/...   \n",
              "1  Yahoo Business  http://us.rd.yahoo.com/dailynews/rss/business/...   \n",
              "2  Yahoo Business  http://us.rd.yahoo.com/dailynews/rss/business/...   \n",
              "3  Yahoo Business  http://us.rd.yahoo.com/dailynews/rss/business/...   \n",
              "4  Yahoo Business  http://us.rd.yahoo.com/dailynews/rss/business/...   \n",
              "\n",
              "                                               title image  category  \\\n",
              "0  Wall St. Pullback Reflects Tech Blowout (Reuters)  none  Business   \n",
              "1  Wall St. Bears Claw Back Into the Black (Reuters)  none  Business   \n",
              "2  Carlyle Looks Toward Commercial Aerospace (Reu...  none  Business   \n",
              "3    Oil and Economy Cloud Stocks' Outlook (Reuters)  none  Business   \n",
              "4  Iraq Halts Oil Exports from Main Southern Pipe...  none  Business   \n",
              "\n",
              "                                         description rank  \\\n",
              "0  Reuters - Wall Street's long-playing drama,\"Wa...    5   \n",
              "1  Reuters - Short-sellers, Wall Street's dwindli...    5   \n",
              "2  Reuters - Private investment firm Carlyle Grou...    5   \n",
              "3  Reuters - Soaring crude prices plus worriesabo...    5   \n",
              "4  Reuters - Authorities have halted oil exportfl...    5   \n",
              "\n",
              "               pubdate video  \n",
              "0  0000-00-00 00:00:00    \\N  \n",
              "1  0000-00-00 00:00:00    \\N  \n",
              "2  0000-00-00 00:00:00    \\N  \n",
              "3  0000-00-00 00:00:00    \\N  \n",
              "4  0000-00-00 00:00:00    \\N  "
            ],
            "text/html": [
              "\n",
              "  <div id=\"df-d0d75873-1368-4613-a82e-cae990c458bc\" class=\"colab-df-container\">\n",
              "    <div>\n",
              "<style scoped>\n",
              "    .dataframe tbody tr th:only-of-type {\n",
              "        vertical-align: middle;\n",
              "    }\n",
              "\n",
              "    .dataframe tbody tr th {\n",
              "        vertical-align: top;\n",
              "    }\n",
              "\n",
              "    .dataframe thead th {\n",
              "        text-align: right;\n",
              "    }\n",
              "</style>\n",
              "<table border=\"1\" class=\"dataframe\">\n",
              "  <thead>\n",
              "    <tr style=\"text-align: right;\">\n",
              "      <th></th>\n",
              "      <th>source</th>\n",
              "      <th>url</th>\n",
              "      <th>title</th>\n",
              "      <th>image</th>\n",
              "      <th>category</th>\n",
              "      <th>description</th>\n",
              "      <th>rank</th>\n",
              "      <th>pubdate</th>\n",
              "      <th>video</th>\n",
              "    </tr>\n",
              "  </thead>\n",
              "  <tbody>\n",
              "    <tr>\n",
              "      <th>0</th>\n",
              "      <td>Yahoo Business</td>\n",
              "      <td>http://us.rd.yahoo.com/dailynews/rss/business/...</td>\n",
              "      <td>Wall St. Pullback Reflects Tech Blowout (Reuters)</td>\n",
              "      <td>none</td>\n",
              "      <td>Business</td>\n",
              "      <td>Reuters - Wall Street's long-playing drama,\"Wa...</td>\n",
              "      <td>5</td>\n",
              "      <td>0000-00-00 00:00:00</td>\n",
              "      <td>\\N</td>\n",
              "    </tr>\n",
              "    <tr>\n",
              "      <th>1</th>\n",
              "      <td>Yahoo Business</td>\n",
              "      <td>http://us.rd.yahoo.com/dailynews/rss/business/...</td>\n",
              "      <td>Wall St. Bears Claw Back Into the Black (Reuters)</td>\n",
              "      <td>none</td>\n",
              "      <td>Business</td>\n",
              "      <td>Reuters - Short-sellers, Wall Street's dwindli...</td>\n",
              "      <td>5</td>\n",
              "      <td>0000-00-00 00:00:00</td>\n",
              "      <td>\\N</td>\n",
              "    </tr>\n",
              "    <tr>\n",
              "      <th>2</th>\n",
              "      <td>Yahoo Business</td>\n",
              "      <td>http://us.rd.yahoo.com/dailynews/rss/business/...</td>\n",
              "      <td>Carlyle Looks Toward Commercial Aerospace (Reu...</td>\n",
              "      <td>none</td>\n",
              "      <td>Business</td>\n",
              "      <td>Reuters - Private investment firm Carlyle Grou...</td>\n",
              "      <td>5</td>\n",
              "      <td>0000-00-00 00:00:00</td>\n",
              "      <td>\\N</td>\n",
              "    </tr>\n",
              "    <tr>\n",
              "      <th>3</th>\n",
              "      <td>Yahoo Business</td>\n",
              "      <td>http://us.rd.yahoo.com/dailynews/rss/business/...</td>\n",
              "      <td>Oil and Economy Cloud Stocks' Outlook (Reuters)</td>\n",
              "      <td>none</td>\n",
              "      <td>Business</td>\n",
              "      <td>Reuters - Soaring crude prices plus worriesabo...</td>\n",
              "      <td>5</td>\n",
              "      <td>0000-00-00 00:00:00</td>\n",
              "      <td>\\N</td>\n",
              "    </tr>\n",
              "    <tr>\n",
              "      <th>4</th>\n",
              "      <td>Yahoo Business</td>\n",
              "      <td>http://us.rd.yahoo.com/dailynews/rss/business/...</td>\n",
              "      <td>Iraq Halts Oil Exports from Main Southern Pipe...</td>\n",
              "      <td>none</td>\n",
              "      <td>Business</td>\n",
              "      <td>Reuters - Authorities have halted oil exportfl...</td>\n",
              "      <td>5</td>\n",
              "      <td>0000-00-00 00:00:00</td>\n",
              "      <td>\\N</td>\n",
              "    </tr>\n",
              "  </tbody>\n",
              "</table>\n",
              "</div>\n",
              "    <div class=\"colab-df-buttons\">\n",
              "\n",
              "  <div class=\"colab-df-container\">\n",
              "    <button class=\"colab-df-convert\" onclick=\"convertToInteractive('df-d0d75873-1368-4613-a82e-cae990c458bc')\"\n",
              "            title=\"Convert this dataframe to an interactive table.\"\n",
              "            style=\"display:none;\">\n",
              "\n",
              "  <svg xmlns=\"http://www.w3.org/2000/svg\" height=\"24px\" viewBox=\"0 -960 960 960\">\n",
              "    <path d=\"M120-120v-720h720v720H120Zm60-500h600v-160H180v160Zm220 220h160v-160H400v160Zm0 220h160v-160H400v160ZM180-400h160v-160H180v160Zm440 0h160v-160H620v160ZM180-180h160v-160H180v160Zm440 0h160v-160H620v160Z\"/>\n",
              "  </svg>\n",
              "    </button>\n",
              "\n",
              "  <style>\n",
              "    .colab-df-container {\n",
              "      display:flex;\n",
              "      gap: 12px;\n",
              "    }\n",
              "\n",
              "    .colab-df-convert {\n",
              "      background-color: #E8F0FE;\n",
              "      border: none;\n",
              "      border-radius: 50%;\n",
              "      cursor: pointer;\n",
              "      display: none;\n",
              "      fill: #1967D2;\n",
              "      height: 32px;\n",
              "      padding: 0 0 0 0;\n",
              "      width: 32px;\n",
              "    }\n",
              "\n",
              "    .colab-df-convert:hover {\n",
              "      background-color: #E2EBFA;\n",
              "      box-shadow: 0px 1px 2px rgba(60, 64, 67, 0.3), 0px 1px 3px 1px rgba(60, 64, 67, 0.15);\n",
              "      fill: #174EA6;\n",
              "    }\n",
              "\n",
              "    .colab-df-buttons div {\n",
              "      margin-bottom: 4px;\n",
              "    }\n",
              "\n",
              "    [theme=dark] .colab-df-convert {\n",
              "      background-color: #3B4455;\n",
              "      fill: #D2E3FC;\n",
              "    }\n",
              "\n",
              "    [theme=dark] .colab-df-convert:hover {\n",
              "      background-color: #434B5C;\n",
              "      box-shadow: 0px 1px 3px 1px rgba(0, 0, 0, 0.15);\n",
              "      filter: drop-shadow(0px 1px 2px rgba(0, 0, 0, 0.3));\n",
              "      fill: #FFFFFF;\n",
              "    }\n",
              "  </style>\n",
              "\n",
              "    <script>\n",
              "      const buttonEl =\n",
              "        document.querySelector('#df-d0d75873-1368-4613-a82e-cae990c458bc button.colab-df-convert');\n",
              "      buttonEl.style.display =\n",
              "        google.colab.kernel.accessAllowed ? 'block' : 'none';\n",
              "\n",
              "      async function convertToInteractive(key) {\n",
              "        const element = document.querySelector('#df-d0d75873-1368-4613-a82e-cae990c458bc');\n",
              "        const dataTable =\n",
              "          await google.colab.kernel.invokeFunction('convertToInteractive',\n",
              "                                                    [key], {});\n",
              "        if (!dataTable) return;\n",
              "\n",
              "        const docLinkHtml = 'Like what you see? Visit the ' +\n",
              "          '<a target=\"_blank\" href=https://colab.research.google.com/notebooks/data_table.ipynb>data table notebook</a>'\n",
              "          + ' to learn more about interactive tables.';\n",
              "        element.innerHTML = '';\n",
              "        dataTable['output_type'] = 'display_data';\n",
              "        await google.colab.output.renderOutput(dataTable, element);\n",
              "        const docLink = document.createElement('div');\n",
              "        docLink.innerHTML = docLinkHtml;\n",
              "        element.appendChild(docLink);\n",
              "      }\n",
              "    </script>\n",
              "  </div>\n",
              "\n",
              "\n",
              "<div id=\"df-48b5cae5-2b3e-456f-b11b-ee46d59f6bc4\">\n",
              "  <button class=\"colab-df-quickchart\" onclick=\"quickchart('df-48b5cae5-2b3e-456f-b11b-ee46d59f6bc4')\"\n",
              "            title=\"Suggest charts\"\n",
              "            style=\"display:none;\">\n",
              "\n",
              "<svg xmlns=\"http://www.w3.org/2000/svg\" height=\"24px\"viewBox=\"0 0 24 24\"\n",
              "     width=\"24px\">\n",
              "    <g>\n",
              "        <path d=\"M19 3H5c-1.1 0-2 .9-2 2v14c0 1.1.9 2 2 2h14c1.1 0 2-.9 2-2V5c0-1.1-.9-2-2-2zM9 17H7v-7h2v7zm4 0h-2V7h2v10zm4 0h-2v-4h2v4z\"/>\n",
              "    </g>\n",
              "</svg>\n",
              "  </button>\n",
              "\n",
              "<style>\n",
              "  .colab-df-quickchart {\n",
              "      --bg-color: #E8F0FE;\n",
              "      --fill-color: #1967D2;\n",
              "      --hover-bg-color: #E2EBFA;\n",
              "      --hover-fill-color: #174EA6;\n",
              "      --disabled-fill-color: #AAA;\n",
              "      --disabled-bg-color: #DDD;\n",
              "  }\n",
              "\n",
              "  [theme=dark] .colab-df-quickchart {\n",
              "      --bg-color: #3B4455;\n",
              "      --fill-color: #D2E3FC;\n",
              "      --hover-bg-color: #434B5C;\n",
              "      --hover-fill-color: #FFFFFF;\n",
              "      --disabled-bg-color: #3B4455;\n",
              "      --disabled-fill-color: #666;\n",
              "  }\n",
              "\n",
              "  .colab-df-quickchart {\n",
              "    background-color: var(--bg-color);\n",
              "    border: none;\n",
              "    border-radius: 50%;\n",
              "    cursor: pointer;\n",
              "    display: none;\n",
              "    fill: var(--fill-color);\n",
              "    height: 32px;\n",
              "    padding: 0;\n",
              "    width: 32px;\n",
              "  }\n",
              "\n",
              "  .colab-df-quickchart:hover {\n",
              "    background-color: var(--hover-bg-color);\n",
              "    box-shadow: 0 1px 2px rgba(60, 64, 67, 0.3), 0 1px 3px 1px rgba(60, 64, 67, 0.15);\n",
              "    fill: var(--button-hover-fill-color);\n",
              "  }\n",
              "\n",
              "  .colab-df-quickchart-complete:disabled,\n",
              "  .colab-df-quickchart-complete:disabled:hover {\n",
              "    background-color: var(--disabled-bg-color);\n",
              "    fill: var(--disabled-fill-color);\n",
              "    box-shadow: none;\n",
              "  }\n",
              "\n",
              "  .colab-df-spinner {\n",
              "    border: 2px solid var(--fill-color);\n",
              "    border-color: transparent;\n",
              "    border-bottom-color: var(--fill-color);\n",
              "    animation:\n",
              "      spin 1s steps(1) infinite;\n",
              "  }\n",
              "\n",
              "  @keyframes spin {\n",
              "    0% {\n",
              "      border-color: transparent;\n",
              "      border-bottom-color: var(--fill-color);\n",
              "      border-left-color: var(--fill-color);\n",
              "    }\n",
              "    20% {\n",
              "      border-color: transparent;\n",
              "      border-left-color: var(--fill-color);\n",
              "      border-top-color: var(--fill-color);\n",
              "    }\n",
              "    30% {\n",
              "      border-color: transparent;\n",
              "      border-left-color: var(--fill-color);\n",
              "      border-top-color: var(--fill-color);\n",
              "      border-right-color: var(--fill-color);\n",
              "    }\n",
              "    40% {\n",
              "      border-color: transparent;\n",
              "      border-right-color: var(--fill-color);\n",
              "      border-top-color: var(--fill-color);\n",
              "    }\n",
              "    60% {\n",
              "      border-color: transparent;\n",
              "      border-right-color: var(--fill-color);\n",
              "    }\n",
              "    80% {\n",
              "      border-color: transparent;\n",
              "      border-right-color: var(--fill-color);\n",
              "      border-bottom-color: var(--fill-color);\n",
              "    }\n",
              "    90% {\n",
              "      border-color: transparent;\n",
              "      border-bottom-color: var(--fill-color);\n",
              "    }\n",
              "  }\n",
              "</style>\n",
              "\n",
              "  <script>\n",
              "    async function quickchart(key) {\n",
              "      const quickchartButtonEl =\n",
              "        document.querySelector('#' + key + ' button');\n",
              "      quickchartButtonEl.disabled = true;  // To prevent multiple clicks.\n",
              "      quickchartButtonEl.classList.add('colab-df-spinner');\n",
              "      try {\n",
              "        const charts = await google.colab.kernel.invokeFunction(\n",
              "            'suggestCharts', [key], {});\n",
              "      } catch (error) {\n",
              "        console.error('Error during call to suggestCharts:', error);\n",
              "      }\n",
              "      quickchartButtonEl.classList.remove('colab-df-spinner');\n",
              "      quickchartButtonEl.classList.add('colab-df-quickchart-complete');\n",
              "    }\n",
              "    (() => {\n",
              "      let quickchartButtonEl =\n",
              "        document.querySelector('#df-48b5cae5-2b3e-456f-b11b-ee46d59f6bc4 button');\n",
              "      quickchartButtonEl.style.display =\n",
              "        google.colab.kernel.accessAllowed ? 'block' : 'none';\n",
              "    })();\n",
              "  </script>\n",
              "</div>\n",
              "\n",
              "    </div>\n",
              "  </div>\n"
            ],
            "application/vnd.google.colaboratory.intrinsic+json": {
              "type": "dataframe",
              "variable_name": "df"
            }
          },
          "metadata": {},
          "execution_count": 3
        }
      ]
    },
    {
      "cell_type": "markdown",
      "source": [
        "sample 5000 data points from 'Business', 'Entertainment', 'Sports', 'Sci/Tech'"
      ],
      "metadata": {
        "id": "Z0roPjBziqkA"
      }
    },
    {
      "cell_type": "code",
      "source": [
        "# Import pandas library\n",
        "import pandas as pd\n",
        "\n",
        "sampled_category = ['Business', 'Entertainment', 'Sports', 'Sci/Tech']\n",
        "\n",
        "lst = []\n",
        "\n",
        "for i in sampled_category:\n",
        "  lst.append(df[df['category'] == i].sample(n=5000, random_state=42))\n",
        "\n",
        "data = pd.concat(lst)\n",
        "\n",
        "data = data[['title', 'description', 'category']]\n",
        "\n",
        "data['text'] = data['title'] + ' ' + data['description']\n",
        "\n",
        "data = data[['text', 'category']].reset_index(drop=True)\n",
        "\n",
        "data.head()"
      ],
      "metadata": {
        "id": "aDmaDewh7dVu",
        "colab": {
          "base_uri": "https://localhost:8080/",
          "height": 206
        },
        "outputId": "13d8079f-d9a2-4082-a3a7-218349149265"
      },
      "execution_count": 4,
      "outputs": [
        {
          "output_type": "execute_result",
          "data": {
            "text/plain": [
              "                                                text  category\n",
              "0  Microsoft on Sale Mr. Softy lures PeopleSoft c...  Business\n",
              "1  IBM &#39;to sell PC business&#39; IBM is repor...  Business\n",
              "2  Gartner buys Meta Group Both Gartner and Meta ...  Business\n",
              "3  Nikkei Dips for a 2nd Straight Session  TOKYO ...  Business\n",
              "4  GM Profit Falls on European Losses  Here's how...  Business"
            ],
            "text/html": [
              "\n",
              "  <div id=\"df-75c0f677-00d2-43d5-b9ff-7de6169cbdc3\" class=\"colab-df-container\">\n",
              "    <div>\n",
              "<style scoped>\n",
              "    .dataframe tbody tr th:only-of-type {\n",
              "        vertical-align: middle;\n",
              "    }\n",
              "\n",
              "    .dataframe tbody tr th {\n",
              "        vertical-align: top;\n",
              "    }\n",
              "\n",
              "    .dataframe thead th {\n",
              "        text-align: right;\n",
              "    }\n",
              "</style>\n",
              "<table border=\"1\" class=\"dataframe\">\n",
              "  <thead>\n",
              "    <tr style=\"text-align: right;\">\n",
              "      <th></th>\n",
              "      <th>text</th>\n",
              "      <th>category</th>\n",
              "    </tr>\n",
              "  </thead>\n",
              "  <tbody>\n",
              "    <tr>\n",
              "      <th>0</th>\n",
              "      <td>Microsoft on Sale Mr. Softy lures PeopleSoft c...</td>\n",
              "      <td>Business</td>\n",
              "    </tr>\n",
              "    <tr>\n",
              "      <th>1</th>\n",
              "      <td>IBM &amp;#39;to sell PC business&amp;#39; IBM is repor...</td>\n",
              "      <td>Business</td>\n",
              "    </tr>\n",
              "    <tr>\n",
              "      <th>2</th>\n",
              "      <td>Gartner buys Meta Group Both Gartner and Meta ...</td>\n",
              "      <td>Business</td>\n",
              "    </tr>\n",
              "    <tr>\n",
              "      <th>3</th>\n",
              "      <td>Nikkei Dips for a 2nd Straight Session  TOKYO ...</td>\n",
              "      <td>Business</td>\n",
              "    </tr>\n",
              "    <tr>\n",
              "      <th>4</th>\n",
              "      <td>GM Profit Falls on European Losses  Here's how...</td>\n",
              "      <td>Business</td>\n",
              "    </tr>\n",
              "  </tbody>\n",
              "</table>\n",
              "</div>\n",
              "    <div class=\"colab-df-buttons\">\n",
              "\n",
              "  <div class=\"colab-df-container\">\n",
              "    <button class=\"colab-df-convert\" onclick=\"convertToInteractive('df-75c0f677-00d2-43d5-b9ff-7de6169cbdc3')\"\n",
              "            title=\"Convert this dataframe to an interactive table.\"\n",
              "            style=\"display:none;\">\n",
              "\n",
              "  <svg xmlns=\"http://www.w3.org/2000/svg\" height=\"24px\" viewBox=\"0 -960 960 960\">\n",
              "    <path d=\"M120-120v-720h720v720H120Zm60-500h600v-160H180v160Zm220 220h160v-160H400v160Zm0 220h160v-160H400v160ZM180-400h160v-160H180v160Zm440 0h160v-160H620v160ZM180-180h160v-160H180v160Zm440 0h160v-160H620v160Z\"/>\n",
              "  </svg>\n",
              "    </button>\n",
              "\n",
              "  <style>\n",
              "    .colab-df-container {\n",
              "      display:flex;\n",
              "      gap: 12px;\n",
              "    }\n",
              "\n",
              "    .colab-df-convert {\n",
              "      background-color: #E8F0FE;\n",
              "      border: none;\n",
              "      border-radius: 50%;\n",
              "      cursor: pointer;\n",
              "      display: none;\n",
              "      fill: #1967D2;\n",
              "      height: 32px;\n",
              "      padding: 0 0 0 0;\n",
              "      width: 32px;\n",
              "    }\n",
              "\n",
              "    .colab-df-convert:hover {\n",
              "      background-color: #E2EBFA;\n",
              "      box-shadow: 0px 1px 2px rgba(60, 64, 67, 0.3), 0px 1px 3px 1px rgba(60, 64, 67, 0.15);\n",
              "      fill: #174EA6;\n",
              "    }\n",
              "\n",
              "    .colab-df-buttons div {\n",
              "      margin-bottom: 4px;\n",
              "    }\n",
              "\n",
              "    [theme=dark] .colab-df-convert {\n",
              "      background-color: #3B4455;\n",
              "      fill: #D2E3FC;\n",
              "    }\n",
              "\n",
              "    [theme=dark] .colab-df-convert:hover {\n",
              "      background-color: #434B5C;\n",
              "      box-shadow: 0px 1px 3px 1px rgba(0, 0, 0, 0.15);\n",
              "      filter: drop-shadow(0px 1px 2px rgba(0, 0, 0, 0.3));\n",
              "      fill: #FFFFFF;\n",
              "    }\n",
              "  </style>\n",
              "\n",
              "    <script>\n",
              "      const buttonEl =\n",
              "        document.querySelector('#df-75c0f677-00d2-43d5-b9ff-7de6169cbdc3 button.colab-df-convert');\n",
              "      buttonEl.style.display =\n",
              "        google.colab.kernel.accessAllowed ? 'block' : 'none';\n",
              "\n",
              "      async function convertToInteractive(key) {\n",
              "        const element = document.querySelector('#df-75c0f677-00d2-43d5-b9ff-7de6169cbdc3');\n",
              "        const dataTable =\n",
              "          await google.colab.kernel.invokeFunction('convertToInteractive',\n",
              "                                                    [key], {});\n",
              "        if (!dataTable) return;\n",
              "\n",
              "        const docLinkHtml = 'Like what you see? Visit the ' +\n",
              "          '<a target=\"_blank\" href=https://colab.research.google.com/notebooks/data_table.ipynb>data table notebook</a>'\n",
              "          + ' to learn more about interactive tables.';\n",
              "        element.innerHTML = '';\n",
              "        dataTable['output_type'] = 'display_data';\n",
              "        await google.colab.output.renderOutput(dataTable, element);\n",
              "        const docLink = document.createElement('div');\n",
              "        docLink.innerHTML = docLinkHtml;\n",
              "        element.appendChild(docLink);\n",
              "      }\n",
              "    </script>\n",
              "  </div>\n",
              "\n",
              "\n",
              "<div id=\"df-e6530aba-2da3-446c-8fc0-432d581566b0\">\n",
              "  <button class=\"colab-df-quickchart\" onclick=\"quickchart('df-e6530aba-2da3-446c-8fc0-432d581566b0')\"\n",
              "            title=\"Suggest charts\"\n",
              "            style=\"display:none;\">\n",
              "\n",
              "<svg xmlns=\"http://www.w3.org/2000/svg\" height=\"24px\"viewBox=\"0 0 24 24\"\n",
              "     width=\"24px\">\n",
              "    <g>\n",
              "        <path d=\"M19 3H5c-1.1 0-2 .9-2 2v14c0 1.1.9 2 2 2h14c1.1 0 2-.9 2-2V5c0-1.1-.9-2-2-2zM9 17H7v-7h2v7zm4 0h-2V7h2v10zm4 0h-2v-4h2v4z\"/>\n",
              "    </g>\n",
              "</svg>\n",
              "  </button>\n",
              "\n",
              "<style>\n",
              "  .colab-df-quickchart {\n",
              "      --bg-color: #E8F0FE;\n",
              "      --fill-color: #1967D2;\n",
              "      --hover-bg-color: #E2EBFA;\n",
              "      --hover-fill-color: #174EA6;\n",
              "      --disabled-fill-color: #AAA;\n",
              "      --disabled-bg-color: #DDD;\n",
              "  }\n",
              "\n",
              "  [theme=dark] .colab-df-quickchart {\n",
              "      --bg-color: #3B4455;\n",
              "      --fill-color: #D2E3FC;\n",
              "      --hover-bg-color: #434B5C;\n",
              "      --hover-fill-color: #FFFFFF;\n",
              "      --disabled-bg-color: #3B4455;\n",
              "      --disabled-fill-color: #666;\n",
              "  }\n",
              "\n",
              "  .colab-df-quickchart {\n",
              "    background-color: var(--bg-color);\n",
              "    border: none;\n",
              "    border-radius: 50%;\n",
              "    cursor: pointer;\n",
              "    display: none;\n",
              "    fill: var(--fill-color);\n",
              "    height: 32px;\n",
              "    padding: 0;\n",
              "    width: 32px;\n",
              "  }\n",
              "\n",
              "  .colab-df-quickchart:hover {\n",
              "    background-color: var(--hover-bg-color);\n",
              "    box-shadow: 0 1px 2px rgba(60, 64, 67, 0.3), 0 1px 3px 1px rgba(60, 64, 67, 0.15);\n",
              "    fill: var(--button-hover-fill-color);\n",
              "  }\n",
              "\n",
              "  .colab-df-quickchart-complete:disabled,\n",
              "  .colab-df-quickchart-complete:disabled:hover {\n",
              "    background-color: var(--disabled-bg-color);\n",
              "    fill: var(--disabled-fill-color);\n",
              "    box-shadow: none;\n",
              "  }\n",
              "\n",
              "  .colab-df-spinner {\n",
              "    border: 2px solid var(--fill-color);\n",
              "    border-color: transparent;\n",
              "    border-bottom-color: var(--fill-color);\n",
              "    animation:\n",
              "      spin 1s steps(1) infinite;\n",
              "  }\n",
              "\n",
              "  @keyframes spin {\n",
              "    0% {\n",
              "      border-color: transparent;\n",
              "      border-bottom-color: var(--fill-color);\n",
              "      border-left-color: var(--fill-color);\n",
              "    }\n",
              "    20% {\n",
              "      border-color: transparent;\n",
              "      border-left-color: var(--fill-color);\n",
              "      border-top-color: var(--fill-color);\n",
              "    }\n",
              "    30% {\n",
              "      border-color: transparent;\n",
              "      border-left-color: var(--fill-color);\n",
              "      border-top-color: var(--fill-color);\n",
              "      border-right-color: var(--fill-color);\n",
              "    }\n",
              "    40% {\n",
              "      border-color: transparent;\n",
              "      border-right-color: var(--fill-color);\n",
              "      border-top-color: var(--fill-color);\n",
              "    }\n",
              "    60% {\n",
              "      border-color: transparent;\n",
              "      border-right-color: var(--fill-color);\n",
              "    }\n",
              "    80% {\n",
              "      border-color: transparent;\n",
              "      border-right-color: var(--fill-color);\n",
              "      border-bottom-color: var(--fill-color);\n",
              "    }\n",
              "    90% {\n",
              "      border-color: transparent;\n",
              "      border-bottom-color: var(--fill-color);\n",
              "    }\n",
              "  }\n",
              "</style>\n",
              "\n",
              "  <script>\n",
              "    async function quickchart(key) {\n",
              "      const quickchartButtonEl =\n",
              "        document.querySelector('#' + key + ' button');\n",
              "      quickchartButtonEl.disabled = true;  // To prevent multiple clicks.\n",
              "      quickchartButtonEl.classList.add('colab-df-spinner');\n",
              "      try {\n",
              "        const charts = await google.colab.kernel.invokeFunction(\n",
              "            'suggestCharts', [key], {});\n",
              "      } catch (error) {\n",
              "        console.error('Error during call to suggestCharts:', error);\n",
              "      }\n",
              "      quickchartButtonEl.classList.remove('colab-df-spinner');\n",
              "      quickchartButtonEl.classList.add('colab-df-quickchart-complete');\n",
              "    }\n",
              "    (() => {\n",
              "      let quickchartButtonEl =\n",
              "        document.querySelector('#df-e6530aba-2da3-446c-8fc0-432d581566b0 button');\n",
              "      quickchartButtonEl.style.display =\n",
              "        google.colab.kernel.accessAllowed ? 'block' : 'none';\n",
              "    })();\n",
              "  </script>\n",
              "</div>\n",
              "\n",
              "    </div>\n",
              "  </div>\n"
            ],
            "application/vnd.google.colaboratory.intrinsic+json": {
              "type": "dataframe",
              "variable_name": "data",
              "summary": "{\n  \"name\": \"data\",\n  \"rows\": 20000,\n  \"fields\": [\n    {\n      \"column\": \"text\",\n      \"properties\": {\n        \"dtype\": \"string\",\n        \"num_unique_values\": 19833,\n        \"samples\": [\n          \"Schoolboy quizzed over sex video Police in India question a schoolboy in connection with the filming and sale of video clips of a sexual act.\",\n          \"Cisco denies Brazilian tax lambada <h4>Shhh! That's the forbidden fraud</h4><p>Cisco has denied wrongdoing in the tax fraud scandal that engulfed its Brazilian tentacle earlier this week.\\u00e2\\u0080\\u00a6</p><a href=\\\"http://ad.uk.doubleclick.net/jump/reg.rss.4159/main;sz=336x280;ord=2234567892?\\\" target=\\\"_blank\\\"><img src=\\\"http://ad.uk.doubleclick.net/ad/reg.rss.4159/main;sz=336x280;ord=2234567892?\\\" border=\\\"0\\\" alt=\\\"\\\"></a>\",\n          \"France's Chirac decorates Clint Eastwood     (AP) <p><a href=\\\"http://us.rd.yahoo.com/dailynews/rss/entertainment/*http://news.yahoo.com/s/ap/20070217/ap_en_mo/people_eastwood\\\"><img src=\\\"http://d.yimg.com/us.yimg.com/p/ap/20070217/capt.dlm10302171300.france_eastwood_dlm103.jpg?x=130&y=91&sig=rbE1RYk9s8bySYflSovbGA--\\\" align=\\\"left\\\" height=\\\"91\\\" width=\\\"130\\\" alt=\\\"French President Jacques Chirac pins the medal of the Legion of Honor on the lapel of U.S. actor and director Clint Eastwood during a ceremony at the Elysee Palace in Paris, Saturday Feb. 17, 2007. (AP Photo/Remy de la Mauviniere, Pool)\\\" border=\\\"0\\\" /></a>AP - French President Jacques Chirac inducted American actor-director Clint Eastwood into the Legion of Honor on Saturday, saying he represents \\\"the best of Hollywood.\\\"</p><br clear=\\\"all\\\"/>\"\n        ],\n        \"semantic_type\": \"\",\n        \"description\": \"\"\n      }\n    },\n    {\n      \"column\": \"category\",\n      \"properties\": {\n        \"dtype\": \"category\",\n        \"num_unique_values\": 4,\n        \"samples\": [\n          \"Entertainment\",\n          \"Sci/Tech\",\n          \"Business\"\n        ],\n        \"semantic_type\": \"\",\n        \"description\": \"\"\n      }\n    }\n  ]\n}"
            }
          },
          "metadata": {},
          "execution_count": 4
        }
      ]
    },
    {
      "cell_type": "markdown",
      "source": [
        "# Preprocessing"
      ],
      "metadata": {
        "id": "Fcv2cnwHOddZ"
      }
    },
    {
      "cell_type": "code",
      "source": [
        "# Set pandas to display the full content of text columns\n",
        "pd.set_option('display.max_colwidth', None)\n",
        "\n",
        "# Define a function to clean the text\n",
        "def clean_text(text):\n",
        "\n",
        "    text = text.lower()  # Convert to lowercase\n",
        "    text = re.sub(r'[^a-z\\s]', ' ', text)  # Remove special characters and digits\n",
        "    text = re.sub(r'\\s+', ' ', text)  # Remove extra white spaces\n",
        "\n",
        "    return text\n",
        "\n",
        "# Apply the cleaning function to the 'text' column\n",
        "data['cleaned_text'] = data['text'].apply(clean_text)\n",
        "\n",
        "# Show the first few rows of the cleaned text\n",
        "data[['text', 'cleaned_text']].head()"
      ],
      "metadata": {
        "colab": {
          "base_uri": "https://localhost:8080/",
          "height": 449
        },
        "id": "JwUs7mKbOhi_",
        "outputId": "2b575296-135a-41dc-ea7d-35dab14d62f9"
      },
      "execution_count": 5,
      "outputs": [
        {
          "output_type": "execute_result",
          "data": {
            "text/plain": [
              "                                                                                                                                                                                                                                                                                                                                              text  \\\n",
              "0                                                                                                                                                                                                                                 Microsoft on Sale Mr. Softy lures PeopleSoft customers with deep discounts, but investors shouldn't worry. Much.   \n",
              "1                                                                   IBM &#39;to sell PC business&#39; IBM is reportedly in talks to sell its personal computer business. It would mark the end of an era for the company that brought the computer into the mainstream when it began selling its desktop PC to corporations and consumers in 1981.   \n",
              "2                                                                                Gartner buys Meta Group Both Gartner and Meta Group are headquartered in Stamford so costs related to combining operations should be minimized. Gartner is known to have the largest segment of the research market, a leader in information technology research.   \n",
              "3                                                                        Nikkei Dips for a 2nd Straight Session  TOKYO (Reuters) - Tokyo's Nikkei fell for a second straight  session to close 0.99 percent lower on Tuesday as selling  increased after the dollar's retreat below 103 yen, putting  more pressure on exporters such as Sony Corp   \n",
              "4  GM Profit Falls on European Losses  Here's how hard it is to navigate today's fickle auto industry: Last year, General Motors Corp. managed to preserve profit in North America, but its market share tumbled. At the same time, GM's share of the European market rose to a five-year high, but the company lost a huge amount of money there.   \n",
              "\n",
              "                                                                                                                                                                                                                                                                                                                              cleaned_text  \n",
              "0                                                                                                                                                                                                                            microsoft on sale mr softy lures peoplesoft customers with deep discounts but investors shouldn t worry much   \n",
              "1                                                                           ibm to sell pc business ibm is reportedly in talks to sell its personal computer business it would mark the end of an era for the company that brought the computer into the mainstream when it began selling its desktop pc to corporations and consumers in   \n",
              "2                                                                          gartner buys meta group both gartner and meta group are headquartered in stamford so costs related to combining operations should be minimized gartner is known to have the largest segment of the research market a leader in information technology research   \n",
              "3                                                                                   nikkei dips for a nd straight session tokyo reuters tokyo s nikkei fell for a second straight session to close percent lower on tuesday as selling increased after the dollar s retreat below yen putting more pressure on exporters such as sony corp  \n",
              "4  gm profit falls on european losses here s how hard it is to navigate today s fickle auto industry last year general motors corp managed to preserve profit in north america but its market share tumbled at the same time gm s share of the european market rose to a five year high but the company lost a huge amount of money there   "
            ],
            "text/html": [
              "\n",
              "  <div id=\"df-bf7a57ec-61be-4b01-931a-d49a86ede8ac\" class=\"colab-df-container\">\n",
              "    <div>\n",
              "<style scoped>\n",
              "    .dataframe tbody tr th:only-of-type {\n",
              "        vertical-align: middle;\n",
              "    }\n",
              "\n",
              "    .dataframe tbody tr th {\n",
              "        vertical-align: top;\n",
              "    }\n",
              "\n",
              "    .dataframe thead th {\n",
              "        text-align: right;\n",
              "    }\n",
              "</style>\n",
              "<table border=\"1\" class=\"dataframe\">\n",
              "  <thead>\n",
              "    <tr style=\"text-align: right;\">\n",
              "      <th></th>\n",
              "      <th>text</th>\n",
              "      <th>cleaned_text</th>\n",
              "    </tr>\n",
              "  </thead>\n",
              "  <tbody>\n",
              "    <tr>\n",
              "      <th>0</th>\n",
              "      <td>Microsoft on Sale Mr. Softy lures PeopleSoft customers with deep discounts, but investors shouldn't worry. Much.</td>\n",
              "      <td>microsoft on sale mr softy lures peoplesoft customers with deep discounts but investors shouldn t worry much</td>\n",
              "    </tr>\n",
              "    <tr>\n",
              "      <th>1</th>\n",
              "      <td>IBM &amp;#39;to sell PC business&amp;#39; IBM is reportedly in talks to sell its personal computer business. It would mark the end of an era for the company that brought the computer into the mainstream when it began selling its desktop PC to corporations and consumers in 1981.</td>\n",
              "      <td>ibm to sell pc business ibm is reportedly in talks to sell its personal computer business it would mark the end of an era for the company that brought the computer into the mainstream when it began selling its desktop pc to corporations and consumers in</td>\n",
              "    </tr>\n",
              "    <tr>\n",
              "      <th>2</th>\n",
              "      <td>Gartner buys Meta Group Both Gartner and Meta Group are headquartered in Stamford so costs related to combining operations should be minimized. Gartner is known to have the largest segment of the research market, a leader in information technology research.</td>\n",
              "      <td>gartner buys meta group both gartner and meta group are headquartered in stamford so costs related to combining operations should be minimized gartner is known to have the largest segment of the research market a leader in information technology research</td>\n",
              "    </tr>\n",
              "    <tr>\n",
              "      <th>3</th>\n",
              "      <td>Nikkei Dips for a 2nd Straight Session  TOKYO (Reuters) - Tokyo's Nikkei fell for a second straight  session to close 0.99 percent lower on Tuesday as selling  increased after the dollar's retreat below 103 yen, putting  more pressure on exporters such as Sony Corp</td>\n",
              "      <td>nikkei dips for a nd straight session tokyo reuters tokyo s nikkei fell for a second straight session to close percent lower on tuesday as selling increased after the dollar s retreat below yen putting more pressure on exporters such as sony corp</td>\n",
              "    </tr>\n",
              "    <tr>\n",
              "      <th>4</th>\n",
              "      <td>GM Profit Falls on European Losses  Here's how hard it is to navigate today's fickle auto industry: Last year, General Motors Corp. managed to preserve profit in North America, but its market share tumbled. At the same time, GM's share of the European market rose to a five-year high, but the company lost a huge amount of money there.</td>\n",
              "      <td>gm profit falls on european losses here s how hard it is to navigate today s fickle auto industry last year general motors corp managed to preserve profit in north america but its market share tumbled at the same time gm s share of the european market rose to a five year high but the company lost a huge amount of money there</td>\n",
              "    </tr>\n",
              "  </tbody>\n",
              "</table>\n",
              "</div>\n",
              "    <div class=\"colab-df-buttons\">\n",
              "\n",
              "  <div class=\"colab-df-container\">\n",
              "    <button class=\"colab-df-convert\" onclick=\"convertToInteractive('df-bf7a57ec-61be-4b01-931a-d49a86ede8ac')\"\n",
              "            title=\"Convert this dataframe to an interactive table.\"\n",
              "            style=\"display:none;\">\n",
              "\n",
              "  <svg xmlns=\"http://www.w3.org/2000/svg\" height=\"24px\" viewBox=\"0 -960 960 960\">\n",
              "    <path d=\"M120-120v-720h720v720H120Zm60-500h600v-160H180v160Zm220 220h160v-160H400v160Zm0 220h160v-160H400v160ZM180-400h160v-160H180v160Zm440 0h160v-160H620v160ZM180-180h160v-160H180v160Zm440 0h160v-160H620v160Z\"/>\n",
              "  </svg>\n",
              "    </button>\n",
              "\n",
              "  <style>\n",
              "    .colab-df-container {\n",
              "      display:flex;\n",
              "      gap: 12px;\n",
              "    }\n",
              "\n",
              "    .colab-df-convert {\n",
              "      background-color: #E8F0FE;\n",
              "      border: none;\n",
              "      border-radius: 50%;\n",
              "      cursor: pointer;\n",
              "      display: none;\n",
              "      fill: #1967D2;\n",
              "      height: 32px;\n",
              "      padding: 0 0 0 0;\n",
              "      width: 32px;\n",
              "    }\n",
              "\n",
              "    .colab-df-convert:hover {\n",
              "      background-color: #E2EBFA;\n",
              "      box-shadow: 0px 1px 2px rgba(60, 64, 67, 0.3), 0px 1px 3px 1px rgba(60, 64, 67, 0.15);\n",
              "      fill: #174EA6;\n",
              "    }\n",
              "\n",
              "    .colab-df-buttons div {\n",
              "      margin-bottom: 4px;\n",
              "    }\n",
              "\n",
              "    [theme=dark] .colab-df-convert {\n",
              "      background-color: #3B4455;\n",
              "      fill: #D2E3FC;\n",
              "    }\n",
              "\n",
              "    [theme=dark] .colab-df-convert:hover {\n",
              "      background-color: #434B5C;\n",
              "      box-shadow: 0px 1px 3px 1px rgba(0, 0, 0, 0.15);\n",
              "      filter: drop-shadow(0px 1px 2px rgba(0, 0, 0, 0.3));\n",
              "      fill: #FFFFFF;\n",
              "    }\n",
              "  </style>\n",
              "\n",
              "    <script>\n",
              "      const buttonEl =\n",
              "        document.querySelector('#df-bf7a57ec-61be-4b01-931a-d49a86ede8ac button.colab-df-convert');\n",
              "      buttonEl.style.display =\n",
              "        google.colab.kernel.accessAllowed ? 'block' : 'none';\n",
              "\n",
              "      async function convertToInteractive(key) {\n",
              "        const element = document.querySelector('#df-bf7a57ec-61be-4b01-931a-d49a86ede8ac');\n",
              "        const dataTable =\n",
              "          await google.colab.kernel.invokeFunction('convertToInteractive',\n",
              "                                                    [key], {});\n",
              "        if (!dataTable) return;\n",
              "\n",
              "        const docLinkHtml = 'Like what you see? Visit the ' +\n",
              "          '<a target=\"_blank\" href=https://colab.research.google.com/notebooks/data_table.ipynb>data table notebook</a>'\n",
              "          + ' to learn more about interactive tables.';\n",
              "        element.innerHTML = '';\n",
              "        dataTable['output_type'] = 'display_data';\n",
              "        await google.colab.output.renderOutput(dataTable, element);\n",
              "        const docLink = document.createElement('div');\n",
              "        docLink.innerHTML = docLinkHtml;\n",
              "        element.appendChild(docLink);\n",
              "      }\n",
              "    </script>\n",
              "  </div>\n",
              "\n",
              "\n",
              "<div id=\"df-141d4f63-c8c7-4037-b47c-5aa42b775ef6\">\n",
              "  <button class=\"colab-df-quickchart\" onclick=\"quickchart('df-141d4f63-c8c7-4037-b47c-5aa42b775ef6')\"\n",
              "            title=\"Suggest charts\"\n",
              "            style=\"display:none;\">\n",
              "\n",
              "<svg xmlns=\"http://www.w3.org/2000/svg\" height=\"24px\"viewBox=\"0 0 24 24\"\n",
              "     width=\"24px\">\n",
              "    <g>\n",
              "        <path d=\"M19 3H5c-1.1 0-2 .9-2 2v14c0 1.1.9 2 2 2h14c1.1 0 2-.9 2-2V5c0-1.1-.9-2-2-2zM9 17H7v-7h2v7zm4 0h-2V7h2v10zm4 0h-2v-4h2v4z\"/>\n",
              "    </g>\n",
              "</svg>\n",
              "  </button>\n",
              "\n",
              "<style>\n",
              "  .colab-df-quickchart {\n",
              "      --bg-color: #E8F0FE;\n",
              "      --fill-color: #1967D2;\n",
              "      --hover-bg-color: #E2EBFA;\n",
              "      --hover-fill-color: #174EA6;\n",
              "      --disabled-fill-color: #AAA;\n",
              "      --disabled-bg-color: #DDD;\n",
              "  }\n",
              "\n",
              "  [theme=dark] .colab-df-quickchart {\n",
              "      --bg-color: #3B4455;\n",
              "      --fill-color: #D2E3FC;\n",
              "      --hover-bg-color: #434B5C;\n",
              "      --hover-fill-color: #FFFFFF;\n",
              "      --disabled-bg-color: #3B4455;\n",
              "      --disabled-fill-color: #666;\n",
              "  }\n",
              "\n",
              "  .colab-df-quickchart {\n",
              "    background-color: var(--bg-color);\n",
              "    border: none;\n",
              "    border-radius: 50%;\n",
              "    cursor: pointer;\n",
              "    display: none;\n",
              "    fill: var(--fill-color);\n",
              "    height: 32px;\n",
              "    padding: 0;\n",
              "    width: 32px;\n",
              "  }\n",
              "\n",
              "  .colab-df-quickchart:hover {\n",
              "    background-color: var(--hover-bg-color);\n",
              "    box-shadow: 0 1px 2px rgba(60, 64, 67, 0.3), 0 1px 3px 1px rgba(60, 64, 67, 0.15);\n",
              "    fill: var(--button-hover-fill-color);\n",
              "  }\n",
              "\n",
              "  .colab-df-quickchart-complete:disabled,\n",
              "  .colab-df-quickchart-complete:disabled:hover {\n",
              "    background-color: var(--disabled-bg-color);\n",
              "    fill: var(--disabled-fill-color);\n",
              "    box-shadow: none;\n",
              "  }\n",
              "\n",
              "  .colab-df-spinner {\n",
              "    border: 2px solid var(--fill-color);\n",
              "    border-color: transparent;\n",
              "    border-bottom-color: var(--fill-color);\n",
              "    animation:\n",
              "      spin 1s steps(1) infinite;\n",
              "  }\n",
              "\n",
              "  @keyframes spin {\n",
              "    0% {\n",
              "      border-color: transparent;\n",
              "      border-bottom-color: var(--fill-color);\n",
              "      border-left-color: var(--fill-color);\n",
              "    }\n",
              "    20% {\n",
              "      border-color: transparent;\n",
              "      border-left-color: var(--fill-color);\n",
              "      border-top-color: var(--fill-color);\n",
              "    }\n",
              "    30% {\n",
              "      border-color: transparent;\n",
              "      border-left-color: var(--fill-color);\n",
              "      border-top-color: var(--fill-color);\n",
              "      border-right-color: var(--fill-color);\n",
              "    }\n",
              "    40% {\n",
              "      border-color: transparent;\n",
              "      border-right-color: var(--fill-color);\n",
              "      border-top-color: var(--fill-color);\n",
              "    }\n",
              "    60% {\n",
              "      border-color: transparent;\n",
              "      border-right-color: var(--fill-color);\n",
              "    }\n",
              "    80% {\n",
              "      border-color: transparent;\n",
              "      border-right-color: var(--fill-color);\n",
              "      border-bottom-color: var(--fill-color);\n",
              "    }\n",
              "    90% {\n",
              "      border-color: transparent;\n",
              "      border-bottom-color: var(--fill-color);\n",
              "    }\n",
              "  }\n",
              "</style>\n",
              "\n",
              "  <script>\n",
              "    async function quickchart(key) {\n",
              "      const quickchartButtonEl =\n",
              "        document.querySelector('#' + key + ' button');\n",
              "      quickchartButtonEl.disabled = true;  // To prevent multiple clicks.\n",
              "      quickchartButtonEl.classList.add('colab-df-spinner');\n",
              "      try {\n",
              "        const charts = await google.colab.kernel.invokeFunction(\n",
              "            'suggestCharts', [key], {});\n",
              "      } catch (error) {\n",
              "        console.error('Error during call to suggestCharts:', error);\n",
              "      }\n",
              "      quickchartButtonEl.classList.remove('colab-df-spinner');\n",
              "      quickchartButtonEl.classList.add('colab-df-quickchart-complete');\n",
              "    }\n",
              "    (() => {\n",
              "      let quickchartButtonEl =\n",
              "        document.querySelector('#df-141d4f63-c8c7-4037-b47c-5aa42b775ef6 button');\n",
              "      quickchartButtonEl.style.display =\n",
              "        google.colab.kernel.accessAllowed ? 'block' : 'none';\n",
              "    })();\n",
              "  </script>\n",
              "</div>\n",
              "\n",
              "    </div>\n",
              "  </div>\n"
            ],
            "application/vnd.google.colaboratory.intrinsic+json": {
              "type": "dataframe",
              "summary": "{\n  \"name\": \"data[['text', 'cleaned_text']]\",\n  \"rows\": 5,\n  \"fields\": [\n    {\n      \"column\": \"text\",\n      \"properties\": {\n        \"dtype\": \"string\",\n        \"num_unique_values\": 5,\n        \"samples\": [\n          \"IBM &#39;to sell PC business&#39; IBM is reportedly in talks to sell its personal computer business. It would mark the end of an era for the company that brought the computer into the mainstream when it began selling its desktop PC to corporations and consumers in 1981.\",\n          \"GM Profit Falls on European Losses  Here's how hard it is to navigate today's fickle auto industry: Last year, General Motors Corp. managed to preserve profit in North America, but its market share tumbled. At the same time, GM's share of the European market rose to a five-year high, but the company lost a huge amount of money there.\",\n          \"Gartner buys Meta Group Both Gartner and Meta Group are headquartered in Stamford so costs related to combining operations should be minimized. Gartner is known to have the largest segment of the research market, a leader in information technology research.\"\n        ],\n        \"semantic_type\": \"\",\n        \"description\": \"\"\n      }\n    },\n    {\n      \"column\": \"cleaned_text\",\n      \"properties\": {\n        \"dtype\": \"string\",\n        \"num_unique_values\": 5,\n        \"samples\": [\n          \"ibm to sell pc business ibm is reportedly in talks to sell its personal computer business it would mark the end of an era for the company that brought the computer into the mainstream when it began selling its desktop pc to corporations and consumers in \",\n          \"gm profit falls on european losses here s how hard it is to navigate today s fickle auto industry last year general motors corp managed to preserve profit in north america but its market share tumbled at the same time gm s share of the european market rose to a five year high but the company lost a huge amount of money there \",\n          \"gartner buys meta group both gartner and meta group are headquartered in stamford so costs related to combining operations should be minimized gartner is known to have the largest segment of the research market a leader in information technology research \"\n        ],\n        \"semantic_type\": \"\",\n        \"description\": \"\"\n      }\n    }\n  ]\n}"
            }
          },
          "metadata": {},
          "execution_count": 5
        }
      ]
    },
    {
      "cell_type": "markdown",
      "source": [
        "### tokenize, remove stop words, lemmatize"
      ],
      "metadata": {
        "id": "ODlMXzb6E1r6"
      }
    },
    {
      "cell_type": "code",
      "source": [
        "import spacy\n",
        "import pandas as pd\n",
        "\n",
        "# Load the model, disabling unnecessary pipeline components (i.e. dependency parsing and named entity recognition)\n",
        "nlp = spacy.load(\"en_core_web_sm\", disable=[\"parser\", \"ner\"])\n",
        "\n",
        "def process_text_list(texts):\n",
        "    # Process a list of texts in batches using nlp.pipe\n",
        "    processed_texts = []\n",
        "    for doc in nlp.pipe(texts, batch_size=50): # use batch training to parallel computation\n",
        "        # For each doc, extract lemmas of non-stop words\n",
        "        lemmatized_text = [token.lemma_ for token in doc if not token.is_stop]\n",
        "        processed_texts.append(lemmatized_text)\n",
        "    return processed_texts"
      ],
      "metadata": {
        "id": "_Poqlzxsn91e"
      },
      "execution_count": 6,
      "outputs": []
    },
    {
      "cell_type": "code",
      "source": [
        "# apply process_text_list\n",
        "processed_texts = process_text_list(data['cleaned_text'].tolist())\n",
        "\n",
        "data['preprocessed_text'] = processed_texts\n",
        "\n",
        "data[[\"cleaned_text\", \"preprocessed_text\"]].head()"
      ],
      "metadata": {
        "id": "HqAMpmTHqZJi",
        "colab": {
          "base_uri": "https://localhost:8080/",
          "height": 449
        },
        "outputId": "1c933e84-6d2d-46ed-c66b-3ab241c910cc"
      },
      "execution_count": 7,
      "outputs": [
        {
          "output_type": "execute_result",
          "data": {
            "text/plain": [
              "                                                                                                                                                                                                                                                                                                                              cleaned_text  \\\n",
              "0                                                                                                                                                                                                                            microsoft on sale mr softy lures peoplesoft customers with deep discounts but investors shouldn t worry much    \n",
              "1                                                                           ibm to sell pc business ibm is reportedly in talks to sell its personal computer business it would mark the end of an era for the company that brought the computer into the mainstream when it began selling its desktop pc to corporations and consumers in    \n",
              "2                                                                          gartner buys meta group both gartner and meta group are headquartered in stamford so costs related to combining operations should be minimized gartner is known to have the largest segment of the research market a leader in information technology research    \n",
              "3                                                                                   nikkei dips for a nd straight session tokyo reuters tokyo s nikkei fell for a second straight session to close percent lower on tuesday as selling increased after the dollar s retreat below yen putting more pressure on exporters such as sony corp   \n",
              "4  gm profit falls on european losses here s how hard it is to navigate today s fickle auto industry last year general motors corp managed to preserve profit in north america but its market share tumbled at the same time gm s share of the european market rose to a five year high but the company lost a huge amount of money there    \n",
              "\n",
              "                                                                                                                                                                                                                                                           preprocessed_text  \n",
              "0                                                                                                                                                                      [microsoft, sale, mr, softy, lure, peoplesoft, customer, deep, discount, investor, shouldn, t, worry]  \n",
              "1                                                                                [ibm, sell, pc, business, ibm, reportedly, talk, sell, personal, computer, business, mark, end, era, company, bring, computer, mainstream, begin, sell, desktop, pc, corporation, consumer]  \n",
              "2                                                           [gartner, buy, meta, group, gartner, meta, group, headquarter, stamford, cost, relate, combine, operation, minimize, gartner, know, large, segment, research, market, leader, information, technology, research]  \n",
              "3                                                      [nikkei, dip, nd, straight, session, tokyo, reuters, tokyo, s, nikkei, fall, second, straight, session, close, percent, lower, tuesday, sell, increase, dollar, s, retreat, yen, put, pressure, exporter, sony, corp]  \n",
              "4  [gm, profit, fall, european, loss, s, hard, navigate, today, s, fickle, auto, industry, year, general, motors, corp, manage, preserve, profit, north, america, market, share, tumble, time, gm, s, share, european, market, rise, year, high, company, lose, huge, money]  "
            ],
            "text/html": [
              "\n",
              "  <div id=\"df-69263af3-7c5f-45eb-975f-49a224b90125\" class=\"colab-df-container\">\n",
              "    <div>\n",
              "<style scoped>\n",
              "    .dataframe tbody tr th:only-of-type {\n",
              "        vertical-align: middle;\n",
              "    }\n",
              "\n",
              "    .dataframe tbody tr th {\n",
              "        vertical-align: top;\n",
              "    }\n",
              "\n",
              "    .dataframe thead th {\n",
              "        text-align: right;\n",
              "    }\n",
              "</style>\n",
              "<table border=\"1\" class=\"dataframe\">\n",
              "  <thead>\n",
              "    <tr style=\"text-align: right;\">\n",
              "      <th></th>\n",
              "      <th>cleaned_text</th>\n",
              "      <th>preprocessed_text</th>\n",
              "    </tr>\n",
              "  </thead>\n",
              "  <tbody>\n",
              "    <tr>\n",
              "      <th>0</th>\n",
              "      <td>microsoft on sale mr softy lures peoplesoft customers with deep discounts but investors shouldn t worry much</td>\n",
              "      <td>[microsoft, sale, mr, softy, lure, peoplesoft, customer, deep, discount, investor, shouldn, t, worry]</td>\n",
              "    </tr>\n",
              "    <tr>\n",
              "      <th>1</th>\n",
              "      <td>ibm to sell pc business ibm is reportedly in talks to sell its personal computer business it would mark the end of an era for the company that brought the computer into the mainstream when it began selling its desktop pc to corporations and consumers in</td>\n",
              "      <td>[ibm, sell, pc, business, ibm, reportedly, talk, sell, personal, computer, business, mark, end, era, company, bring, computer, mainstream, begin, sell, desktop, pc, corporation, consumer]</td>\n",
              "    </tr>\n",
              "    <tr>\n",
              "      <th>2</th>\n",
              "      <td>gartner buys meta group both gartner and meta group are headquartered in stamford so costs related to combining operations should be minimized gartner is known to have the largest segment of the research market a leader in information technology research</td>\n",
              "      <td>[gartner, buy, meta, group, gartner, meta, group, headquarter, stamford, cost, relate, combine, operation, minimize, gartner, know, large, segment, research, market, leader, information, technology, research]</td>\n",
              "    </tr>\n",
              "    <tr>\n",
              "      <th>3</th>\n",
              "      <td>nikkei dips for a nd straight session tokyo reuters tokyo s nikkei fell for a second straight session to close percent lower on tuesday as selling increased after the dollar s retreat below yen putting more pressure on exporters such as sony corp</td>\n",
              "      <td>[nikkei, dip, nd, straight, session, tokyo, reuters, tokyo, s, nikkei, fall, second, straight, session, close, percent, lower, tuesday, sell, increase, dollar, s, retreat, yen, put, pressure, exporter, sony, corp]</td>\n",
              "    </tr>\n",
              "    <tr>\n",
              "      <th>4</th>\n",
              "      <td>gm profit falls on european losses here s how hard it is to navigate today s fickle auto industry last year general motors corp managed to preserve profit in north america but its market share tumbled at the same time gm s share of the european market rose to a five year high but the company lost a huge amount of money there</td>\n",
              "      <td>[gm, profit, fall, european, loss, s, hard, navigate, today, s, fickle, auto, industry, year, general, motors, corp, manage, preserve, profit, north, america, market, share, tumble, time, gm, s, share, european, market, rise, year, high, company, lose, huge, money]</td>\n",
              "    </tr>\n",
              "  </tbody>\n",
              "</table>\n",
              "</div>\n",
              "    <div class=\"colab-df-buttons\">\n",
              "\n",
              "  <div class=\"colab-df-container\">\n",
              "    <button class=\"colab-df-convert\" onclick=\"convertToInteractive('df-69263af3-7c5f-45eb-975f-49a224b90125')\"\n",
              "            title=\"Convert this dataframe to an interactive table.\"\n",
              "            style=\"display:none;\">\n",
              "\n",
              "  <svg xmlns=\"http://www.w3.org/2000/svg\" height=\"24px\" viewBox=\"0 -960 960 960\">\n",
              "    <path d=\"M120-120v-720h720v720H120Zm60-500h600v-160H180v160Zm220 220h160v-160H400v160Zm0 220h160v-160H400v160ZM180-400h160v-160H180v160Zm440 0h160v-160H620v160ZM180-180h160v-160H180v160Zm440 0h160v-160H620v160Z\"/>\n",
              "  </svg>\n",
              "    </button>\n",
              "\n",
              "  <style>\n",
              "    .colab-df-container {\n",
              "      display:flex;\n",
              "      gap: 12px;\n",
              "    }\n",
              "\n",
              "    .colab-df-convert {\n",
              "      background-color: #E8F0FE;\n",
              "      border: none;\n",
              "      border-radius: 50%;\n",
              "      cursor: pointer;\n",
              "      display: none;\n",
              "      fill: #1967D2;\n",
              "      height: 32px;\n",
              "      padding: 0 0 0 0;\n",
              "      width: 32px;\n",
              "    }\n",
              "\n",
              "    .colab-df-convert:hover {\n",
              "      background-color: #E2EBFA;\n",
              "      box-shadow: 0px 1px 2px rgba(60, 64, 67, 0.3), 0px 1px 3px 1px rgba(60, 64, 67, 0.15);\n",
              "      fill: #174EA6;\n",
              "    }\n",
              "\n",
              "    .colab-df-buttons div {\n",
              "      margin-bottom: 4px;\n",
              "    }\n",
              "\n",
              "    [theme=dark] .colab-df-convert {\n",
              "      background-color: #3B4455;\n",
              "      fill: #D2E3FC;\n",
              "    }\n",
              "\n",
              "    [theme=dark] .colab-df-convert:hover {\n",
              "      background-color: #434B5C;\n",
              "      box-shadow: 0px 1px 3px 1px rgba(0, 0, 0, 0.15);\n",
              "      filter: drop-shadow(0px 1px 2px rgba(0, 0, 0, 0.3));\n",
              "      fill: #FFFFFF;\n",
              "    }\n",
              "  </style>\n",
              "\n",
              "    <script>\n",
              "      const buttonEl =\n",
              "        document.querySelector('#df-69263af3-7c5f-45eb-975f-49a224b90125 button.colab-df-convert');\n",
              "      buttonEl.style.display =\n",
              "        google.colab.kernel.accessAllowed ? 'block' : 'none';\n",
              "\n",
              "      async function convertToInteractive(key) {\n",
              "        const element = document.querySelector('#df-69263af3-7c5f-45eb-975f-49a224b90125');\n",
              "        const dataTable =\n",
              "          await google.colab.kernel.invokeFunction('convertToInteractive',\n",
              "                                                    [key], {});\n",
              "        if (!dataTable) return;\n",
              "\n",
              "        const docLinkHtml = 'Like what you see? Visit the ' +\n",
              "          '<a target=\"_blank\" href=https://colab.research.google.com/notebooks/data_table.ipynb>data table notebook</a>'\n",
              "          + ' to learn more about interactive tables.';\n",
              "        element.innerHTML = '';\n",
              "        dataTable['output_type'] = 'display_data';\n",
              "        await google.colab.output.renderOutput(dataTable, element);\n",
              "        const docLink = document.createElement('div');\n",
              "        docLink.innerHTML = docLinkHtml;\n",
              "        element.appendChild(docLink);\n",
              "      }\n",
              "    </script>\n",
              "  </div>\n",
              "\n",
              "\n",
              "<div id=\"df-64531843-fba2-4e53-8b67-58ab17fb5cb3\">\n",
              "  <button class=\"colab-df-quickchart\" onclick=\"quickchart('df-64531843-fba2-4e53-8b67-58ab17fb5cb3')\"\n",
              "            title=\"Suggest charts\"\n",
              "            style=\"display:none;\">\n",
              "\n",
              "<svg xmlns=\"http://www.w3.org/2000/svg\" height=\"24px\"viewBox=\"0 0 24 24\"\n",
              "     width=\"24px\">\n",
              "    <g>\n",
              "        <path d=\"M19 3H5c-1.1 0-2 .9-2 2v14c0 1.1.9 2 2 2h14c1.1 0 2-.9 2-2V5c0-1.1-.9-2-2-2zM9 17H7v-7h2v7zm4 0h-2V7h2v10zm4 0h-2v-4h2v4z\"/>\n",
              "    </g>\n",
              "</svg>\n",
              "  </button>\n",
              "\n",
              "<style>\n",
              "  .colab-df-quickchart {\n",
              "      --bg-color: #E8F0FE;\n",
              "      --fill-color: #1967D2;\n",
              "      --hover-bg-color: #E2EBFA;\n",
              "      --hover-fill-color: #174EA6;\n",
              "      --disabled-fill-color: #AAA;\n",
              "      --disabled-bg-color: #DDD;\n",
              "  }\n",
              "\n",
              "  [theme=dark] .colab-df-quickchart {\n",
              "      --bg-color: #3B4455;\n",
              "      --fill-color: #D2E3FC;\n",
              "      --hover-bg-color: #434B5C;\n",
              "      --hover-fill-color: #FFFFFF;\n",
              "      --disabled-bg-color: #3B4455;\n",
              "      --disabled-fill-color: #666;\n",
              "  }\n",
              "\n",
              "  .colab-df-quickchart {\n",
              "    background-color: var(--bg-color);\n",
              "    border: none;\n",
              "    border-radius: 50%;\n",
              "    cursor: pointer;\n",
              "    display: none;\n",
              "    fill: var(--fill-color);\n",
              "    height: 32px;\n",
              "    padding: 0;\n",
              "    width: 32px;\n",
              "  }\n",
              "\n",
              "  .colab-df-quickchart:hover {\n",
              "    background-color: var(--hover-bg-color);\n",
              "    box-shadow: 0 1px 2px rgba(60, 64, 67, 0.3), 0 1px 3px 1px rgba(60, 64, 67, 0.15);\n",
              "    fill: var(--button-hover-fill-color);\n",
              "  }\n",
              "\n",
              "  .colab-df-quickchart-complete:disabled,\n",
              "  .colab-df-quickchart-complete:disabled:hover {\n",
              "    background-color: var(--disabled-bg-color);\n",
              "    fill: var(--disabled-fill-color);\n",
              "    box-shadow: none;\n",
              "  }\n",
              "\n",
              "  .colab-df-spinner {\n",
              "    border: 2px solid var(--fill-color);\n",
              "    border-color: transparent;\n",
              "    border-bottom-color: var(--fill-color);\n",
              "    animation:\n",
              "      spin 1s steps(1) infinite;\n",
              "  }\n",
              "\n",
              "  @keyframes spin {\n",
              "    0% {\n",
              "      border-color: transparent;\n",
              "      border-bottom-color: var(--fill-color);\n",
              "      border-left-color: var(--fill-color);\n",
              "    }\n",
              "    20% {\n",
              "      border-color: transparent;\n",
              "      border-left-color: var(--fill-color);\n",
              "      border-top-color: var(--fill-color);\n",
              "    }\n",
              "    30% {\n",
              "      border-color: transparent;\n",
              "      border-left-color: var(--fill-color);\n",
              "      border-top-color: var(--fill-color);\n",
              "      border-right-color: var(--fill-color);\n",
              "    }\n",
              "    40% {\n",
              "      border-color: transparent;\n",
              "      border-right-color: var(--fill-color);\n",
              "      border-top-color: var(--fill-color);\n",
              "    }\n",
              "    60% {\n",
              "      border-color: transparent;\n",
              "      border-right-color: var(--fill-color);\n",
              "    }\n",
              "    80% {\n",
              "      border-color: transparent;\n",
              "      border-right-color: var(--fill-color);\n",
              "      border-bottom-color: var(--fill-color);\n",
              "    }\n",
              "    90% {\n",
              "      border-color: transparent;\n",
              "      border-bottom-color: var(--fill-color);\n",
              "    }\n",
              "  }\n",
              "</style>\n",
              "\n",
              "  <script>\n",
              "    async function quickchart(key) {\n",
              "      const quickchartButtonEl =\n",
              "        document.querySelector('#' + key + ' button');\n",
              "      quickchartButtonEl.disabled = true;  // To prevent multiple clicks.\n",
              "      quickchartButtonEl.classList.add('colab-df-spinner');\n",
              "      try {\n",
              "        const charts = await google.colab.kernel.invokeFunction(\n",
              "            'suggestCharts', [key], {});\n",
              "      } catch (error) {\n",
              "        console.error('Error during call to suggestCharts:', error);\n",
              "      }\n",
              "      quickchartButtonEl.classList.remove('colab-df-spinner');\n",
              "      quickchartButtonEl.classList.add('colab-df-quickchart-complete');\n",
              "    }\n",
              "    (() => {\n",
              "      let quickchartButtonEl =\n",
              "        document.querySelector('#df-64531843-fba2-4e53-8b67-58ab17fb5cb3 button');\n",
              "      quickchartButtonEl.style.display =\n",
              "        google.colab.kernel.accessAllowed ? 'block' : 'none';\n",
              "    })();\n",
              "  </script>\n",
              "</div>\n",
              "\n",
              "    </div>\n",
              "  </div>\n"
            ],
            "application/vnd.google.colaboratory.intrinsic+json": {
              "type": "dataframe",
              "summary": "{\n  \"name\": \"data[[\\\"cleaned_text\\\", \\\"preprocessed_text\\\"]]\",\n  \"rows\": 5,\n  \"fields\": [\n    {\n      \"column\": \"cleaned_text\",\n      \"properties\": {\n        \"dtype\": \"string\",\n        \"num_unique_values\": 5,\n        \"samples\": [\n          \"ibm to sell pc business ibm is reportedly in talks to sell its personal computer business it would mark the end of an era for the company that brought the computer into the mainstream when it began selling its desktop pc to corporations and consumers in \",\n          \"gm profit falls on european losses here s how hard it is to navigate today s fickle auto industry last year general motors corp managed to preserve profit in north america but its market share tumbled at the same time gm s share of the european market rose to a five year high but the company lost a huge amount of money there \",\n          \"gartner buys meta group both gartner and meta group are headquartered in stamford so costs related to combining operations should be minimized gartner is known to have the largest segment of the research market a leader in information technology research \"\n        ],\n        \"semantic_type\": \"\",\n        \"description\": \"\"\n      }\n    },\n    {\n      \"column\": \"preprocessed_text\",\n      \"properties\": {\n        \"dtype\": \"object\",\n        \"semantic_type\": \"\",\n        \"description\": \"\"\n      }\n    }\n  ]\n}"
            }
          },
          "metadata": {},
          "execution_count": 7
        }
      ]
    },
    {
      "cell_type": "markdown",
      "source": [
        "Determine threshold for min_df/min_count"
      ],
      "metadata": {
        "id": "3GbrwZM6Ke1T"
      }
    },
    {
      "cell_type": "code",
      "source": [
        "tokens = data['preprocessed_text'].explode()\n",
        "\n",
        "# tokens and their frequencies\n",
        "token_frequency = tokens.value_counts()\n",
        "\n",
        "token_frequency.describe()"
      ],
      "metadata": {
        "colab": {
          "base_uri": "https://localhost:8080/"
        },
        "id": "Z7HmqbjpKD9a",
        "outputId": "973dc266-d4f5-4a51-e76d-3bb1ec4f765c"
      },
      "execution_count": 8,
      "outputs": [
        {
          "output_type": "execute_result",
          "data": {
            "text/plain": [
              "count    39229.000000\n",
              "mean        18.676056\n",
              "std        182.982909\n",
              "min          1.000000\n",
              "25%          1.000000\n",
              "50%          2.000000\n",
              "75%          5.000000\n",
              "max      14208.000000\n",
              "Name: preprocessed_text, dtype: float64"
            ]
          },
          "metadata": {},
          "execution_count": 8
        }
      ]
    },
    {
      "cell_type": "markdown",
      "source": [
        "- The dataset contains a total of 39,229 unique words.\n",
        "- The median frequency of word occurrences is 2, meaning half of the words appear no more than twice.\n",
        "- The average frequency of word occurrences is about 18.7, but this figure is likely skewed by a few extremely high-frequency words such as `com`, `http`, `s`, `p`, `img`, etc.\n",
        "- The most common word appears 14,208 times, while the least common words appear only once."
      ],
      "metadata": {
        "id": "gh3ITyfHKSM7"
      }
    },
    {
      "cell_type": "code",
      "source": [
        "tokens = data['preprocessed_text'].explode()\n",
        "\n",
        "# tokens and their frequencies\n",
        "token_frequency = tokens.value_counts()\n",
        "\n",
        "# frequencies and their times of being observed\n",
        "frequency_obs = token_frequency.value_counts()\n",
        "\n",
        "# total obersvations = number of total tokens\n",
        "total_obs = token_frequency.count()\n",
        "\n",
        "# frequencies and their prob of being observed\n",
        "frequency_probability = (frequency_obs/total_obs)[0:21]\n",
        "\n",
        "cumulative_percentage = frequency_probability.cumsum()\n",
        "\n",
        "# bar plot\n",
        "plt.figure(figsize=(10, 6))\n",
        "plt.bar(frequency_probability.index, frequency_probability.values)\n",
        "plt.step(frequency_probability.index, cumulative_percentage, where = 'mid', color = 'red')\n",
        "plt.title('Token Document Frequenct Dus')\n",
        "plt.xlabel('Document Frequency')\n",
        "plt.ylabel('Probability')\n",
        "plt.xticks(range(1, 21))\n",
        "plt.yticks(np.arange(0, 1, 0.1))\n",
        "plt.grid(linestyle='--')\n",
        "\n",
        "plt.show()"
      ],
      "metadata": {
        "colab": {
          "base_uri": "https://localhost:8080/",
          "height": 564
        },
        "id": "jyCYZ2oK-2_q",
        "outputId": "d645f049-3efe-4108-edfd-8e7dc3eb9163"
      },
      "execution_count": 9,
      "outputs": [
        {
          "output_type": "display_data",
          "data": {
            "text/plain": [
              "<Figure size 1000x600 with 1 Axes>"
            ],
            "image/png": "[encoded data removed]"
          },
          "metadata": {}
        }
      ]
    },
    {
      "cell_type": "markdown",
      "source": [
        "- more than 40% of tokens appear no more than once\n",
        "- more than 60% of tokens appear no more than twice\n",
        "\n",
        "Therefore, proper thresholds for min_count/min_df can be 2 or 3"
      ],
      "metadata": {
        "id": "POLPFhMeH54k"
      }
    },
    {
      "cell_type": "markdown",
      "source": [
        "## Text Vectorization"
      ],
      "metadata": {
        "id": "E9u7wVMn1wJL"
      }
    },
    {
      "cell_type": "markdown",
      "source": [
        "### Bag of Words"
      ],
      "metadata": {
        "id": "hq8vxutZ2OAz"
      }
    },
    {
      "cell_type": "code",
      "source": [
        "cv = CountVectorizer()\n",
        "bow = cv.fit_transform(data['preprocessed_text'].apply(lambda x: ' '.join(x)))\n",
        "bow_df = pd.DataFrame(bow.toarray(), columns=cv.get_feature_names_out())\n",
        "bow_df.head()"
      ],
      "metadata": {
        "colab": {
          "base_uri": "https://localhost:8080/",
          "height": 255
        },
        "id": "fzdAcIrSCz1o",
        "outputId": "16406cf5-ada1-46f2-8cbf-9e04dd27b974"
      },
      "execution_count": 10,
      "outputs": [
        {
          "output_type": "execute_result",
          "data": {
            "text/plain": [
              "   aa  aaa  aaaa  aab  aabf  aac  aaca  aacb  aacd  aachen  ...  zzdyg  \\\n",
              "0   0    0     0    0     0    0     0     0     0       0  ...      0   \n",
              "1   0    0     0    0     0    0     0     0     0       0  ...      0   \n",
              "2   0    0     0    0     0    0     0     0     0       0  ...      0   \n",
              "3   0    0     0    0     0    0     0     0     0       0  ...      0   \n",
              "4   0    0     0    0     0    0     0     0     0       0  ...      0   \n",
              "\n",
              "   zzggatjcqa  zzhv  zzkkjcsax  zzl  zzm  zzqn  zzuntyi  zzynjzd  zzyu  \n",
              "0           0     0          0    0    0     0        0        0     0  \n",
              "1           0     0          0    0    0     0        0        0     0  \n",
              "2           0     0          0    0    0     0        0        0     0  \n",
              "3           0     0          0    0    0     0        0        0     0  \n",
              "4           0     0          0    0    0     0        0        0     0  \n",
              "\n",
              "[5 rows x 39203 columns]"
            ],
            "text/html": [
              "\n",
              "  <div id=\"df-550a31ae-97eb-4fe0-833c-ed8f550c099e\" class=\"colab-df-container\">\n",
              "    <div>\n",
              "<style scoped>\n",
              "    .dataframe tbody tr th:only-of-type {\n",
              "        vertical-align: middle;\n",
              "    }\n",
              "\n",
              "    .dataframe tbody tr th {\n",
              "        vertical-align: top;\n",
              "    }\n",
              "\n",
              "    .dataframe thead th {\n",
              "        text-align: right;\n",
              "    }\n",
              "</style>\n",
              "<table border=\"1\" class=\"dataframe\">\n",
              "  <thead>\n",
              "    <tr style=\"text-align: right;\">\n",
              "      <th></th>\n",
              "      <th>aa</th>\n",
              "      <th>aaa</th>\n",
              "      <th>aaaa</th>\n",
              "      <th>aab</th>\n",
              "      <th>aabf</th>\n",
              "      <th>aac</th>\n",
              "      <th>aaca</th>\n",
              "      <th>aacb</th>\n",
              "      <th>aacd</th>\n",
              "      <th>aachen</th>\n",
              "      <th>...</th>\n",
              "      <th>zzdyg</th>\n",
              "      <th>zzggatjcqa</th>\n",
              "      <th>zzhv</th>\n",
              "      <th>zzkkjcsax</th>\n",
              "      <th>zzl</th>\n",
              "      <th>zzm</th>\n",
              "      <th>zzqn</th>\n",
              "      <th>zzuntyi</th>\n",
              "      <th>zzynjzd</th>\n",
              "      <th>zzyu</th>\n",
              "    </tr>\n",
              "  </thead>\n",
              "  <tbody>\n",
              "    <tr>\n",
              "      <th>0</th>\n",
              "      <td>0</td>\n",
              "      <td>0</td>\n",
              "      <td>0</td>\n",
              "      <td>0</td>\n",
              "      <td>0</td>\n",
              "      <td>0</td>\n",
              "      <td>0</td>\n",
              "      <td>0</td>\n",
              "      <td>0</td>\n",
              "      <td>0</td>\n",
              "      <td>...</td>\n",
              "      <td>0</td>\n",
              "      <td>0</td>\n",
              "      <td>0</td>\n",
              "      <td>0</td>\n",
              "      <td>0</td>\n",
              "      <td>0</td>\n",
              "      <td>0</td>\n",
              "      <td>0</td>\n",
              "      <td>0</td>\n",
              "      <td>0</td>\n",
              "    </tr>\n",
              "    <tr>\n",
              "      <th>1</th>\n",
              "      <td>0</td>\n",
              "      <td>0</td>\n",
              "      <td>0</td>\n",
              "      <td>0</td>\n",
              "      <td>0</td>\n",
              "      <td>0</td>\n",
              "      <td>0</td>\n",
              "      <td>0</td>\n",
              "      <td>0</td>\n",
              "      <td>0</td>\n",
              "      <td>...</td>\n",
              "      <td>0</td>\n",
              "      <td>0</td>\n",
              "      <td>0</td>\n",
              "      <td>0</td>\n",
              "      <td>0</td>\n",
              "      <td>0</td>\n",
              "      <td>0</td>\n",
              "      <td>0</td>\n",
              "      <td>0</td>\n",
              "      <td>0</td>\n",
              "    </tr>\n",
              "    <tr>\n",
              "      <th>2</th>\n",
              "      <td>0</td>\n",
              "      <td>0</td>\n",
              "      <td>0</td>\n",
              "      <td>0</td>\n",
              "      <td>0</td>\n",
              "      <td>0</td>\n",
              "      <td>0</td>\n",
              "      <td>0</td>\n",
              "      <td>0</td>\n",
              "      <td>0</td>\n",
              "      <td>...</td>\n",
              "      <td>0</td>\n",
              "      <td>0</td>\n",
              "      <td>0</td>\n",
              "      <td>0</td>\n",
              "      <td>0</td>\n",
              "      <td>0</td>\n",
              "      <td>0</td>\n",
              "      <td>0</td>\n",
              "      <td>0</td>\n",
              "      <td>0</td>\n",
              "    </tr>\n",
              "    <tr>\n",
              "      <th>3</th>\n",
              "      <td>0</td>\n",
              "      <td>0</td>\n",
              "      <td>0</td>\n",
              "      <td>0</td>\n",
              "      <td>0</td>\n",
              "      <td>0</td>\n",
              "      <td>0</td>\n",
              "      <td>0</td>\n",
              "      <td>0</td>\n",
              "      <td>0</td>\n",
              "      <td>...</td>\n",
              "      <td>0</td>\n",
              "      <td>0</td>\n",
              "      <td>0</td>\n",
              "      <td>0</td>\n",
              "      <td>0</td>\n",
              "      <td>0</td>\n",
              "      <td>0</td>\n",
              "      <td>0</td>\n",
              "      <td>0</td>\n",
              "      <td>0</td>\n",
              "    </tr>\n",
              "    <tr>\n",
              "      <th>4</th>\n",
              "      <td>0</td>\n",
              "      <td>0</td>\n",
              "      <td>0</td>\n",
              "      <td>0</td>\n",
              "      <td>0</td>\n",
              "      <td>0</td>\n",
              "      <td>0</td>\n",
              "      <td>0</td>\n",
              "      <td>0</td>\n",
              "      <td>0</td>\n",
              "      <td>...</td>\n",
              "      <td>0</td>\n",
              "      <td>0</td>\n",
              "      <td>0</td>\n",
              "      <td>0</td>\n",
              "      <td>0</td>\n",
              "      <td>0</td>\n",
              "      <td>0</td>\n",
              "      <td>0</td>\n",
              "      <td>0</td>\n",
              "      <td>0</td>\n",
              "    </tr>\n",
              "  </tbody>\n",
              "</table>\n",
              "<p>5 rows × 39203 columns</p>\n",
              "</div>\n",
              "    <div class=\"colab-df-buttons\">\n",
              "\n",
              "  <div class=\"colab-df-container\">\n",
              "    <button class=\"colab-df-convert\" onclick=\"convertToInteractive('df-550a31ae-97eb-4fe0-833c-ed8f550c099e')\"\n",
              "            title=\"Convert this dataframe to an interactive table.\"\n",
              "            style=\"display:none;\">\n",
              "\n",
              "  <svg xmlns=\"http://www.w3.org/2000/svg\" height=\"24px\" viewBox=\"0 -960 960 960\">\n",
              "    <path d=\"M120-120v-720h720v720H120Zm60-500h600v-160H180v160Zm220 220h160v-160H400v160Zm0 220h160v-160H400v160ZM180-400h160v-160H180v160Zm440 0h160v-160H620v160ZM180-180h160v-160H180v160Zm440 0h160v-160H620v160Z\"/>\n",
              "  </svg>\n",
              "    </button>\n",
              "\n",
              "  <style>\n",
              "    .colab-df-container {\n",
              "      display:flex;\n",
              "      gap: 12px;\n",
              "    }\n",
              "\n",
              "    .colab-df-convert {\n",
              "      background-color: #E8F0FE;\n",
              "      border: none;\n",
              "      border-radius: 50%;\n",
              "      cursor: pointer;\n",
              "      display: none;\n",
              "      fill: #1967D2;\n",
              "      height: 32px;\n",
              "      padding: 0 0 0 0;\n",
              "      width: 32px;\n",
              "    }\n",
              "\n",
              "    .colab-df-convert:hover {\n",
              "      background-color: #E2EBFA;\n",
              "      box-shadow: 0px 1px 2px rgba(60, 64, 67, 0.3), 0px 1px 3px 1px rgba(60, 64, 67, 0.15);\n",
              "      fill: #174EA6;\n",
              "    }\n",
              "\n",
              "    .colab-df-buttons div {\n",
              "      margin-bottom: 4px;\n",
              "    }\n",
              "\n",
              "    [theme=dark] .colab-df-convert {\n",
              "      background-color: #3B4455;\n",
              "      fill: #D2E3FC;\n",
              "    }\n",
              "\n",
              "    [theme=dark] .colab-df-convert:hover {\n",
              "      background-color: #434B5C;\n",
              "      box-shadow: 0px 1px 3px 1px rgba(0, 0, 0, 0.15);\n",
              "      filter: drop-shadow(0px 1px 2px rgba(0, 0, 0, 0.3));\n",
              "      fill: #FFFFFF;\n",
              "    }\n",
              "  </style>\n",
              "\n",
              "    <script>\n",
              "      const buttonEl =\n",
              "        document.querySelector('#df-550a31ae-97eb-4fe0-833c-ed8f550c099e button.colab-df-convert');\n",
              "      buttonEl.style.display =\n",
              "        google.colab.kernel.accessAllowed ? 'block' : 'none';\n",
              "\n",
              "      async function convertToInteractive(key) {\n",
              "        const element = document.querySelector('#df-550a31ae-97eb-4fe0-833c-ed8f550c099e');\n",
              "        const dataTable =\n",
              "          await google.colab.kernel.invokeFunction('convertToInteractive',\n",
              "                                                    [key], {});\n",
              "        if (!dataTable) return;\n",
              "\n",
              "        const docLinkHtml = 'Like what you see? Visit the ' +\n",
              "          '<a target=\"_blank\" href=https://colab.research.google.com/notebooks/data_table.ipynb>data table notebook</a>'\n",
              "          + ' to learn more about interactive tables.';\n",
              "        element.innerHTML = '';\n",
              "        dataTable['output_type'] = 'display_data';\n",
              "        await google.colab.output.renderOutput(dataTable, element);\n",
              "        const docLink = document.createElement('div');\n",
              "        docLink.innerHTML = docLinkHtml;\n",
              "        element.appendChild(docLink);\n",
              "      }\n",
              "    </script>\n",
              "  </div>\n",
              "\n",
              "\n",
              "<div id=\"df-39ae595a-de76-4a78-b0df-d70a61cfe36b\">\n",
              "  <button class=\"colab-df-quickchart\" onclick=\"quickchart('df-39ae595a-de76-4a78-b0df-d70a61cfe36b')\"\n",
              "            title=\"Suggest charts\"\n",
              "            style=\"display:none;\">\n",
              "\n",
              "<svg xmlns=\"http://www.w3.org/2000/svg\" height=\"24px\"viewBox=\"0 0 24 24\"\n",
              "     width=\"24px\">\n",
              "    <g>\n",
              "        <path d=\"M19 3H5c-1.1 0-2 .9-2 2v14c0 1.1.9 2 2 2h14c1.1 0 2-.9 2-2V5c0-1.1-.9-2-2-2zM9 17H7v-7h2v7zm4 0h-2V7h2v10zm4 0h-2v-4h2v4z\"/>\n",
              "    </g>\n",
              "</svg>\n",
              "  </button>\n",
              "\n",
              "<style>\n",
              "  .colab-df-quickchart {\n",
              "      --bg-color: #E8F0FE;\n",
              "      --fill-color: #1967D2;\n",
              "      --hover-bg-color: #E2EBFA;\n",
              "      --hover-fill-color: #174EA6;\n",
              "      --disabled-fill-color: #AAA;\n",
              "      --disabled-bg-color: #DDD;\n",
              "  }\n",
              "\n",
              "  [theme=dark] .colab-df-quickchart {\n",
              "      --bg-color: #3B4455;\n",
              "      --fill-color: #D2E3FC;\n",
              "      --hover-bg-color: #434B5C;\n",
              "      --hover-fill-color: #FFFFFF;\n",
              "      --disabled-bg-color: #3B4455;\n",
              "      --disabled-fill-color: #666;\n",
              "  }\n",
              "\n",
              "  .colab-df-quickchart {\n",
              "    background-color: var(--bg-color);\n",
              "    border: none;\n",
              "    border-radius: 50%;\n",
              "    cursor: pointer;\n",
              "    display: none;\n",
              "    fill: var(--fill-color);\n",
              "    height: 32px;\n",
              "    padding: 0;\n",
              "    width: 32px;\n",
              "  }\n",
              "\n",
              "  .colab-df-quickchart:hover {\n",
              "    background-color: var(--hover-bg-color);\n",
              "    box-shadow: 0 1px 2px rgba(60, 64, 67, 0.3), 0 1px 3px 1px rgba(60, 64, 67, 0.15);\n",
              "    fill: var(--button-hover-fill-color);\n",
              "  }\n",
              "\n",
              "  .colab-df-quickchart-complete:disabled,\n",
              "  .colab-df-quickchart-complete:disabled:hover {\n",
              "    background-color: var(--disabled-bg-color);\n",
              "    fill: var(--disabled-fill-color);\n",
              "    box-shadow: none;\n",
              "  }\n",
              "\n",
              "  .colab-df-spinner {\n",
              "    border: 2px solid var(--fill-color);\n",
              "    border-color: transparent;\n",
              "    border-bottom-color: var(--fill-color);\n",
              "    animation:\n",
              "      spin 1s steps(1) infinite;\n",
              "  }\n",
              "\n",
              "  @keyframes spin {\n",
              "    0% {\n",
              "      border-color: transparent;\n",
              "      border-bottom-color: var(--fill-color);\n",
              "      border-left-color: var(--fill-color);\n",
              "    }\n",
              "    20% {\n",
              "      border-color: transparent;\n",
              "      border-left-color: var(--fill-color);\n",
              "      border-top-color: var(--fill-color);\n",
              "    }\n",
              "    30% {\n",
              "      border-color: transparent;\n",
              "      border-left-color: var(--fill-color);\n",
              "      border-top-color: var(--fill-color);\n",
              "      border-right-color: var(--fill-color);\n",
              "    }\n",
              "    40% {\n",
              "      border-color: transparent;\n",
              "      border-right-color: var(--fill-color);\n",
              "      border-top-color: var(--fill-color);\n",
              "    }\n",
              "    60% {\n",
              "      border-color: transparent;\n",
              "      border-right-color: var(--fill-color);\n",
              "    }\n",
              "    80% {\n",
              "      border-color: transparent;\n",
              "      border-right-color: var(--fill-color);\n",
              "      border-bottom-color: var(--fill-color);\n",
              "    }\n",
              "    90% {\n",
              "      border-color: transparent;\n",
              "      border-bottom-color: var(--fill-color);\n",
              "    }\n",
              "  }\n",
              "</style>\n",
              "\n",
              "  <script>\n",
              "    async function quickchart(key) {\n",
              "      const quickchartButtonEl =\n",
              "        document.querySelector('#' + key + ' button');\n",
              "      quickchartButtonEl.disabled = true;  // To prevent multiple clicks.\n",
              "      quickchartButtonEl.classList.add('colab-df-spinner');\n",
              "      try {\n",
              "        const charts = await google.colab.kernel.invokeFunction(\n",
              "            'suggestCharts', [key], {});\n",
              "      } catch (error) {\n",
              "        console.error('Error during call to suggestCharts:', error);\n",
              "      }\n",
              "      quickchartButtonEl.classList.remove('colab-df-spinner');\n",
              "      quickchartButtonEl.classList.add('colab-df-quickchart-complete');\n",
              "    }\n",
              "    (() => {\n",
              "      let quickchartButtonEl =\n",
              "        document.querySelector('#df-39ae595a-de76-4a78-b0df-d70a61cfe36b button');\n",
              "      quickchartButtonEl.style.display =\n",
              "        google.colab.kernel.accessAllowed ? 'block' : 'none';\n",
              "    })();\n",
              "  </script>\n",
              "</div>\n",
              "\n",
              "    </div>\n",
              "  </div>\n"
            ],
            "application/vnd.google.colaboratory.intrinsic+json": {
              "type": "dataframe",
              "variable_name": "bow_df"
            }
          },
          "metadata": {},
          "execution_count": 10
        }
      ]
    },
    {
      "cell_type": "markdown",
      "source": [
        "### TF-IDF"
      ],
      "metadata": {
        "id": "Jhn8s3ep2IAV"
      }
    },
    {
      "cell_type": "code",
      "source": [
        "tfidf = TfidfVectorizer(min_df = 3) # 3 is based on the previous conclusion\n",
        "tfidf_matrix = tfidf.fit_transform(data['preprocessed_text'].apply(lambda x: ' '.join(x)))\n",
        "tfidf_df = pd.DataFrame(tfidf_matrix.toarray(), columns=tfidf.get_feature_names_out())\n",
        "tfidf_df.head()"
      ],
      "metadata": {
        "colab": {
          "base_uri": "https://localhost:8080/",
          "height": 255
        },
        "id": "2PHjrqTNxdVf",
        "outputId": "09807b61-af4a-4ad9-cd51-42c9b25b5d1f"
      },
      "execution_count": 11,
      "outputs": [
        {
          "output_type": "execute_result",
          "data": {
            "text/plain": [
              "    aa  aaa  aad  aae  aamir  aapl  aaron   ab  aba  abandon  ...   zq   zu  \\\n",
              "0  0.0  0.0  0.0  0.0    0.0   0.0    0.0  0.0  0.0      0.0  ...  0.0  0.0   \n",
              "1  0.0  0.0  0.0  0.0    0.0   0.0    0.0  0.0  0.0      0.0  ...  0.0  0.0   \n",
              "2  0.0  0.0  0.0  0.0    0.0   0.0    0.0  0.0  0.0      0.0  ...  0.0  0.0   \n",
              "3  0.0  0.0  0.0  0.0    0.0   0.0    0.0  0.0  0.0      0.0  ...  0.0  0.0   \n",
              "4  0.0  0.0  0.0  0.0    0.0   0.0    0.0  0.0  0.0      0.0  ...  0.0  0.0   \n",
              "\n",
              "   zucker  zune  zurich  zvonareva   zw  zwick   zy   zz  \n",
              "0     0.0   0.0     0.0        0.0  0.0    0.0  0.0  0.0  \n",
              "1     0.0   0.0     0.0        0.0  0.0    0.0  0.0  0.0  \n",
              "2     0.0   0.0     0.0        0.0  0.0    0.0  0.0  0.0  \n",
              "3     0.0   0.0     0.0        0.0  0.0    0.0  0.0  0.0  \n",
              "4     0.0   0.0     0.0        0.0  0.0    0.0  0.0  0.0  \n",
              "\n",
              "[5 rows x 12971 columns]"
            ],
            "text/html": [
              "\n",
              "  <div id=\"df-ce67260e-8ccf-4b68-8548-56606e411a99\" class=\"colab-df-container\">\n",
              "    <div>\n",
              "<style scoped>\n",
              "    .dataframe tbody tr th:only-of-type {\n",
              "        vertical-align: middle;\n",
              "    }\n",
              "\n",
              "    .dataframe tbody tr th {\n",
              "        vertical-align: top;\n",
              "    }\n",
              "\n",
              "    .dataframe thead th {\n",
              "        text-align: right;\n",
              "    }\n",
              "</style>\n",
              "<table border=\"1\" class=\"dataframe\">\n",
              "  <thead>\n",
              "    <tr style=\"text-align: right;\">\n",
              "      <th></th>\n",
              "      <th>aa</th>\n",
              "      <th>aaa</th>\n",
              "      <th>aad</th>\n",
              "      <th>aae</th>\n",
              "      <th>aamir</th>\n",
              "      <th>aapl</th>\n",
              "      <th>aaron</th>\n",
              "      <th>ab</th>\n",
              "      <th>aba</th>\n",
              "      <th>abandon</th>\n",
              "      <th>...</th>\n",
              "      <th>zq</th>\n",
              "      <th>zu</th>\n",
              "      <th>zucker</th>\n",
              "      <th>zune</th>\n",
              "      <th>zurich</th>\n",
              "      <th>zvonareva</th>\n",
              "      <th>zw</th>\n",
              "      <th>zwick</th>\n",
              "      <th>zy</th>\n",
              "      <th>zz</th>\n",
              "    </tr>\n",
              "  </thead>\n",
              "  <tbody>\n",
              "    <tr>\n",
              "      <th>0</th>\n",
              "      <td>0.0</td>\n",
              "      <td>0.0</td>\n",
              "      <td>0.0</td>\n",
              "      <td>0.0</td>\n",
              "      <td>0.0</td>\n",
              "      <td>0.0</td>\n",
              "      <td>0.0</td>\n",
              "      <td>0.0</td>\n",
              "      <td>0.0</td>\n",
              "      <td>0.0</td>\n",
              "      <td>...</td>\n",
              "      <td>0.0</td>\n",
              "      <td>0.0</td>\n",
              "      <td>0.0</td>\n",
              "      <td>0.0</td>\n",
              "      <td>0.0</td>\n",
              "      <td>0.0</td>\n",
              "      <td>0.0</td>\n",
              "      <td>0.0</td>\n",
              "      <td>0.0</td>\n",
              "      <td>0.0</td>\n",
              "    </tr>\n",
              "    <tr>\n",
              "      <th>1</th>\n",
              "      <td>0.0</td>\n",
              "      <td>0.0</td>\n",
              "      <td>0.0</td>\n",
              "      <td>0.0</td>\n",
              "      <td>0.0</td>\n",
              "      <td>0.0</td>\n",
              "      <td>0.0</td>\n",
              "      <td>0.0</td>\n",
              "      <td>0.0</td>\n",
              "      <td>0.0</td>\n",
              "      <td>...</td>\n",
              "      <td>0.0</td>\n",
              "      <td>0.0</td>\n",
              "      <td>0.0</td>\n",
              "      <td>0.0</td>\n",
              "      <td>0.0</td>\n",
              "      <td>0.0</td>\n",
              "      <td>0.0</td>\n",
              "      <td>0.0</td>\n",
              "      <td>0.0</td>\n",
              "      <td>0.0</td>\n",
              "    </tr>\n",
              "    <tr>\n",
              "      <th>2</th>\n",
              "      <td>0.0</td>\n",
              "      <td>0.0</td>\n",
              "      <td>0.0</td>\n",
              "      <td>0.0</td>\n",
              "      <td>0.0</td>\n",
              "      <td>0.0</td>\n",
              "      <td>0.0</td>\n",
              "      <td>0.0</td>\n",
              "      <td>0.0</td>\n",
              "      <td>0.0</td>\n",
              "      <td>...</td>\n",
              "      <td>0.0</td>\n",
              "      <td>0.0</td>\n",
              "      <td>0.0</td>\n",
              "      <td>0.0</td>\n",
              "      <td>0.0</td>\n",
              "      <td>0.0</td>\n",
              "      <td>0.0</td>\n",
              "      <td>0.0</td>\n",
              "      <td>0.0</td>\n",
              "      <td>0.0</td>\n",
              "    </tr>\n",
              "    <tr>\n",
              "      <th>3</th>\n",
              "      <td>0.0</td>\n",
              "      <td>0.0</td>\n",
              "      <td>0.0</td>\n",
              "      <td>0.0</td>\n",
              "      <td>0.0</td>\n",
              "      <td>0.0</td>\n",
              "      <td>0.0</td>\n",
              "      <td>0.0</td>\n",
              "      <td>0.0</td>\n",
              "      <td>0.0</td>\n",
              "      <td>...</td>\n",
              "      <td>0.0</td>\n",
              "      <td>0.0</td>\n",
              "      <td>0.0</td>\n",
              "      <td>0.0</td>\n",
              "      <td>0.0</td>\n",
              "      <td>0.0</td>\n",
              "      <td>0.0</td>\n",
              "      <td>0.0</td>\n",
              "      <td>0.0</td>\n",
              "      <td>0.0</td>\n",
              "    </tr>\n",
              "    <tr>\n",
              "      <th>4</th>\n",
              "      <td>0.0</td>\n",
              "      <td>0.0</td>\n",
              "      <td>0.0</td>\n",
              "      <td>0.0</td>\n",
              "      <td>0.0</td>\n",
              "      <td>0.0</td>\n",
              "      <td>0.0</td>\n",
              "      <td>0.0</td>\n",
              "      <td>0.0</td>\n",
              "      <td>0.0</td>\n",
              "      <td>...</td>\n",
              "      <td>0.0</td>\n",
              "      <td>0.0</td>\n",
              "      <td>0.0</td>\n",
              "      <td>0.0</td>\n",
              "      <td>0.0</td>\n",
              "      <td>0.0</td>\n",
              "      <td>0.0</td>\n",
              "      <td>0.0</td>\n",
              "      <td>0.0</td>\n",
              "      <td>0.0</td>\n",
              "    </tr>\n",
              "  </tbody>\n",
              "</table>\n",
              "<p>5 rows × 12971 columns</p>\n",
              "</div>\n",
              "    <div class=\"colab-df-buttons\">\n",
              "\n",
              "  <div class=\"colab-df-container\">\n",
              "    <button class=\"colab-df-convert\" onclick=\"convertToInteractive('df-ce67260e-8ccf-4b68-8548-56606e411a99')\"\n",
              "            title=\"Convert this dataframe to an interactive table.\"\n",
              "            style=\"display:none;\">\n",
              "\n",
              "  <svg xmlns=\"http://www.w3.org/2000/svg\" height=\"24px\" viewBox=\"0 -960 960 960\">\n",
              "    <path d=\"M120-120v-720h720v720H120Zm60-500h600v-160H180v160Zm220 220h160v-160H400v160Zm0 220h160v-160H400v160ZM180-400h160v-160H180v160Zm440 0h160v-160H620v160ZM180-180h160v-160H180v160Zm440 0h160v-160H620v160Z\"/>\n",
              "  </svg>\n",
              "    </button>\n",
              "\n",
              "  <style>\n",
              "    .colab-df-container {\n",
              "      display:flex;\n",
              "      gap: 12px;\n",
              "    }\n",
              "\n",
              "    .colab-df-convert {\n",
              "      background-color: #E8F0FE;\n",
              "      border: none;\n",
              "      border-radius: 50%;\n",
              "      cursor: pointer;\n",
              "      display: none;\n",
              "      fill: #1967D2;\n",
              "      height: 32px;\n",
              "      padding: 0 0 0 0;\n",
              "      width: 32px;\n",
              "    }\n",
              "\n",
              "    .colab-df-convert:hover {\n",
              "      background-color: #E2EBFA;\n",
              "      box-shadow: 0px 1px 2px rgba(60, 64, 67, 0.3), 0px 1px 3px 1px rgba(60, 64, 67, 0.15);\n",
              "      fill: #174EA6;\n",
              "    }\n",
              "\n",
              "    .colab-df-buttons div {\n",
              "      margin-bottom: 4px;\n",
              "    }\n",
              "\n",
              "    [theme=dark] .colab-df-convert {\n",
              "      background-color: #3B4455;\n",
              "      fill: #D2E3FC;\n",
              "    }\n",
              "\n",
              "    [theme=dark] .colab-df-convert:hover {\n",
              "      background-color: #434B5C;\n",
              "      box-shadow: 0px 1px 3px 1px rgba(0, 0, 0, 0.15);\n",
              "      filter: drop-shadow(0px 1px 2px rgba(0, 0, 0, 0.3));\n",
              "      fill: #FFFFFF;\n",
              "    }\n",
              "  </style>\n",
              "\n",
              "    <script>\n",
              "      const buttonEl =\n",
              "        document.querySelector('#df-ce67260e-8ccf-4b68-8548-56606e411a99 button.colab-df-convert');\n",
              "      buttonEl.style.display =\n",
              "        google.colab.kernel.accessAllowed ? 'block' : 'none';\n",
              "\n",
              "      async function convertToInteractive(key) {\n",
              "        const element = document.querySelector('#df-ce67260e-8ccf-4b68-8548-56606e411a99');\n",
              "        const dataTable =\n",
              "          await google.colab.kernel.invokeFunction('convertToInteractive',\n",
              "                                                    [key], {});\n",
              "        if (!dataTable) return;\n",
              "\n",
              "        const docLinkHtml = 'Like what you see? Visit the ' +\n",
              "          '<a target=\"_blank\" href=https://colab.research.google.com/notebooks/data_table.ipynb>data table notebook</a>'\n",
              "          + ' to learn more about interactive tables.';\n",
              "        element.innerHTML = '';\n",
              "        dataTable['output_type'] = 'display_data';\n",
              "        await google.colab.output.renderOutput(dataTable, element);\n",
              "        const docLink = document.createElement('div');\n",
              "        docLink.innerHTML = docLinkHtml;\n",
              "        element.appendChild(docLink);\n",
              "      }\n",
              "    </script>\n",
              "  </div>\n",
              "\n",
              "\n",
              "<div id=\"df-920357d0-dcea-483e-8e84-ad63c252f1d3\">\n",
              "  <button class=\"colab-df-quickchart\" onclick=\"quickchart('df-920357d0-dcea-483e-8e84-ad63c252f1d3')\"\n",
              "            title=\"Suggest charts\"\n",
              "            style=\"display:none;\">\n",
              "\n",
              "<svg xmlns=\"http://www.w3.org/2000/svg\" height=\"24px\"viewBox=\"0 0 24 24\"\n",
              "     width=\"24px\">\n",
              "    <g>\n",
              "        <path d=\"M19 3H5c-1.1 0-2 .9-2 2v14c0 1.1.9 2 2 2h14c1.1 0 2-.9 2-2V5c0-1.1-.9-2-2-2zM9 17H7v-7h2v7zm4 0h-2V7h2v10zm4 0h-2v-4h2v4z\"/>\n",
              "    </g>\n",
              "</svg>\n",
              "  </button>\n",
              "\n",
              "<style>\n",
              "  .colab-df-quickchart {\n",
              "      --bg-color: #E8F0FE;\n",
              "      --fill-color: #1967D2;\n",
              "      --hover-bg-color: #E2EBFA;\n",
              "      --hover-fill-color: #174EA6;\n",
              "      --disabled-fill-color: #AAA;\n",
              "      --disabled-bg-color: #DDD;\n",
              "  }\n",
              "\n",
              "  [theme=dark] .colab-df-quickchart {\n",
              "      --bg-color: #3B4455;\n",
              "      --fill-color: #D2E3FC;\n",
              "      --hover-bg-color: #434B5C;\n",
              "      --hover-fill-color: #FFFFFF;\n",
              "      --disabled-bg-color: #3B4455;\n",
              "      --disabled-fill-color: #666;\n",
              "  }\n",
              "\n",
              "  .colab-df-quickchart {\n",
              "    background-color: var(--bg-color);\n",
              "    border: none;\n",
              "    border-radius: 50%;\n",
              "    cursor: pointer;\n",
              "    display: none;\n",
              "    fill: var(--fill-color);\n",
              "    height: 32px;\n",
              "    padding: 0;\n",
              "    width: 32px;\n",
              "  }\n",
              "\n",
              "  .colab-df-quickchart:hover {\n",
              "    background-color: var(--hover-bg-color);\n",
              "    box-shadow: 0 1px 2px rgba(60, 64, 67, 0.3), 0 1px 3px 1px rgba(60, 64, 67, 0.15);\n",
              "    fill: var(--button-hover-fill-color);\n",
              "  }\n",
              "\n",
              "  .colab-df-quickchart-complete:disabled,\n",
              "  .colab-df-quickchart-complete:disabled:hover {\n",
              "    background-color: var(--disabled-bg-color);\n",
              "    fill: var(--disabled-fill-color);\n",
              "    box-shadow: none;\n",
              "  }\n",
              "\n",
              "  .colab-df-spinner {\n",
              "    border: 2px solid var(--fill-color);\n",
              "    border-color: transparent;\n",
              "    border-bottom-color: var(--fill-color);\n",
              "    animation:\n",
              "      spin 1s steps(1) infinite;\n",
              "  }\n",
              "\n",
              "  @keyframes spin {\n",
              "    0% {\n",
              "      border-color: transparent;\n",
              "      border-bottom-color: var(--fill-color);\n",
              "      border-left-color: var(--fill-color);\n",
              "    }\n",
              "    20% {\n",
              "      border-color: transparent;\n",
              "      border-left-color: var(--fill-color);\n",
              "      border-top-color: var(--fill-color);\n",
              "    }\n",
              "    30% {\n",
              "      border-color: transparent;\n",
              "      border-left-color: var(--fill-color);\n",
              "      border-top-color: var(--fill-color);\n",
              "      border-right-color: var(--fill-color);\n",
              "    }\n",
              "    40% {\n",
              "      border-color: transparent;\n",
              "      border-right-color: var(--fill-color);\n",
              "      border-top-color: var(--fill-color);\n",
              "    }\n",
              "    60% {\n",
              "      border-color: transparent;\n",
              "      border-right-color: var(--fill-color);\n",
              "    }\n",
              "    80% {\n",
              "      border-color: transparent;\n",
              "      border-right-color: var(--fill-color);\n",
              "      border-bottom-color: var(--fill-color);\n",
              "    }\n",
              "    90% {\n",
              "      border-color: transparent;\n",
              "      border-bottom-color: var(--fill-color);\n",
              "    }\n",
              "  }\n",
              "</style>\n",
              "\n",
              "  <script>\n",
              "    async function quickchart(key) {\n",
              "      const quickchartButtonEl =\n",
              "        document.querySelector('#' + key + ' button');\n",
              "      quickchartButtonEl.disabled = true;  // To prevent multiple clicks.\n",
              "      quickchartButtonEl.classList.add('colab-df-spinner');\n",
              "      try {\n",
              "        const charts = await google.colab.kernel.invokeFunction(\n",
              "            'suggestCharts', [key], {});\n",
              "      } catch (error) {\n",
              "        console.error('Error during call to suggestCharts:', error);\n",
              "      }\n",
              "      quickchartButtonEl.classList.remove('colab-df-spinner');\n",
              "      quickchartButtonEl.classList.add('colab-df-quickchart-complete');\n",
              "    }\n",
              "    (() => {\n",
              "      let quickchartButtonEl =\n",
              "        document.querySelector('#df-920357d0-dcea-483e-8e84-ad63c252f1d3 button');\n",
              "      quickchartButtonEl.style.display =\n",
              "        google.colab.kernel.accessAllowed ? 'block' : 'none';\n",
              "    })();\n",
              "  </script>\n",
              "</div>\n",
              "\n",
              "    </div>\n",
              "  </div>\n"
            ],
            "application/vnd.google.colaboratory.intrinsic+json": {
              "type": "dataframe",
              "variable_name": "tfidf_df"
            }
          },
          "metadata": {},
          "execution_count": 11
        }
      ]
    },
    {
      "cell_type": "markdown",
      "source": [
        "## Text Embedding"
      ],
      "metadata": {
        "id": "FPajeE_J5j4H"
      }
    },
    {
      "cell_type": "markdown",
      "source": [
        "### Word2Vec"
      ],
      "metadata": {
        "id": "omym75hM2K9z"
      }
    },
    {
      "cell_type": "code",
      "source": [
        "# train a Word2Vec model\n",
        "w2v = Word2Vec(sentences=data['preprocessed_text'], vector_size=100, window=2, min_count=3, workers=2)"
      ],
      "metadata": {
        "id": "82T6OkJc4c3z"
      },
      "execution_count": 12,
      "outputs": []
    },
    {
      "cell_type": "markdown",
      "source": [
        "#### average"
      ],
      "metadata": {
        "id": "2BUbDwM34mzP"
      }
    },
    {
      "cell_type": "code",
      "source": [
        "# average word embedding\n",
        "def avg(model, doc_tokens):\n",
        "\n",
        "    # Retrieve vectors for words in the vocabulary from the model\n",
        "    vectors = [model.wv[word] for word in doc_tokens if word in model.wv.key_to_index]\n",
        "    if vectors:\n",
        "        return np.mean(vectors, axis=0)\n",
        "    else:\n",
        "        return np.zeros(model.vector_size)\n",
        "\n",
        "# Calculate the vector for each document\n",
        "data['w2v_avg'] = data['preprocessed_text'].apply(lambda doc: avg(w2v, doc))\n",
        "data['w2v_avg'].head(1)"
      ],
      "metadata": {
        "colab": {
          "base_uri": "https://localhost:8080/"
        },
        "id": "2FQhn4qtOLO0",
        "outputId": "15604434-4642-4486-ede3-79cd168e8836"
      },
      "execution_count": 13,
      "outputs": [
        {
          "output_type": "execute_result",
          "data": {
            "text/plain": [
              "0    [-0.13509525, 0.2982848, -0.061097566, 0.3737787, 0.09332806, -0.51609015, -0.21579117, 0.29578623, -0.5232875, 0.16044056, -0.101469666, -0.27212015, -0.396696, 0.37438664, 0.0096036615, -0.56623816, 0.007910813, 0.16562901, -0.13051878, -0.28772503, -0.097845115, 0.03007341, -0.09719879, -0.24900655, -0.024553314, 0.060797308, -0.3475523, 0.010526787, -0.2261361, 0.03552557, 0.13480182, -0.10257327, 0.4319266, 0.07452818, 0.22688603, 0.54255205, 0.020036066, -0.34064516, -0.09305957, -0.75619525, 0.043964792, -0.29730132, 0.06280371, 0.12086076, -0.07668516, -0.112662844, -0.24086376, -0.36517236, 0.075844325, -0.06552955, -0.045866027, -0.18776532, -0.004518283, 0.058956724, -0.18911846, -0.13380845, -0.06896893, -0.2549057, -0.6526184, 0.052574474, -0.040811114, 0.19294311, 0.15656838, 0.22821337, -0.23278742, -0.04771504, 0.48992845, 0.42360172, -0.51545364, 0.25508317, 0.11074531, 0.26328138, 0.37358037, 0.04389224, 0.49570325, 0.45158193, 0.14721355, 0.30371118, 0.098563015, -0.2637699, -0.4211758, 0.098972164, -0.11174342, 0.31638774, -0.25405046, -0.30137566, 0.1372618, 0.45964786, 0.3778571, 0.23306109, -0.2850127, 0.21528564, 0.17020327, 0.11282652, 0.2270919, 0.14639357, -0.20757972, 0.39020643, 0.29451516, 0.032260895]\n",
              "Name: w2v_avg, dtype: object"
            ]
          },
          "metadata": {},
          "execution_count": 13
        }
      ]
    },
    {
      "cell_type": "markdown",
      "source": [
        "#### tf-idf weighted average"
      ],
      "metadata": {
        "id": "s1NvwVlo54_w"
      }
    },
    {
      "cell_type": "code",
      "source": [
        "# Create a vocabulary and word vector mapping\n",
        "word2vec_vocab = w2v.wv.index_to_key\n",
        "word_vector_dict = {word: w2v.wv[word] for word in word2vec_vocab if word in tfidf.vocabulary_}\n",
        "\n",
        "feature_names = tfidf.get_feature_names_out()\n",
        "\n",
        "def tfidf_weighted_avg(document, doc_index, tfidf_matrix):\n",
        "    # Only consider words in both Word2Vec and TF-IDF vocabularies\n",
        "    valid_words = [word for word in document if word in word_vector_dict]\n",
        "\n",
        "    # initialize weighted vectors\n",
        "    weighted_vector = np.zeros(w2v.vector_size)\n",
        "\n",
        "    if not valid_words:\n",
        "        return weighted_vector\n",
        "\n",
        "    # get the tfidf row of the current document\n",
        "    doc_tfidf = tfidf_matrix[doc_index].tocoo()\n",
        "\n",
        "    # create a word and tfidf weight mapping\n",
        "    word_to_tfidf = {feature_names[i]: value for i, value in zip(doc_tfidf.col, doc_tfidf.data)}\n",
        "\n",
        "    # calculate tf-idf weighted avg\n",
        "    total_weight = 0.0\n",
        "    for word in valid_words:\n",
        "        if word in word_to_tfidf:\n",
        "            weight = word_to_tfidf[word]\n",
        "            weighted_vector += weight * word_vector_dict[word]\n",
        "            total_weight += weight\n",
        "\n",
        "    if total_weight > 0:\n",
        "        weighted_vector /= total_weight\n",
        "\n",
        "    return weighted_vector\n",
        "\n",
        "w2v_tfidf_weighted_avg = np.array([tfidf_weighted_avg(doc, idx, tfidf_matrix) for idx, doc in enumerate(data['preprocessed_text'])])\n",
        "\n",
        "w2v_tfidf_weighted_avg"
      ],
      "metadata": {
        "colab": {
          "base_uri": "https://localhost:8080/"
        },
        "id": "NGs9Xw6ep6GZ",
        "outputId": "04ace11a-922b-46a1-a51f-6635266ab8c8"
      },
      "execution_count": 14,
      "outputs": [
        {
          "output_type": "execute_result",
          "data": {
            "text/plain": [
              "array([[-0.17519841,  0.15325433, -0.04408209, ...,  0.18094589,\n",
              "         0.35405038,  0.07495607],\n",
              "       [-0.11735718,  0.39336615,  0.03604307, ...,  0.08667647,\n",
              "         0.30561559,  0.04419098],\n",
              "       [-0.13604715,  0.23498703,  0.06967061, ..., -0.00613235,\n",
              "         0.23311578,  0.04289196],\n",
              "       ...,\n",
              "       [-0.08738472,  0.18204198,  0.03902267, ...,  0.02523375,\n",
              "         0.26320416,  0.1099076 ],\n",
              "       [-0.07589763,  0.23108162,  0.13560591, ...,  0.06657761,\n",
              "         0.23205279,  0.15340754],\n",
              "       [-0.08894504,  0.26993248,  0.11168413, ..., -0.10492551,\n",
              "         0.28379555,  0.09644991]])"
            ]
          },
          "metadata": {},
          "execution_count": 14
        }
      ]
    },
    {
      "cell_type": "markdown",
      "source": [
        "#### idf weighted average"
      ],
      "metadata": {
        "id": "fifrmNFHaM1j"
      }
    },
    {
      "cell_type": "code",
      "source": [
        "# Create a vocabulary and word vector mapping\n",
        "word2vec_vocab = w2v.wv.index_to_key\n",
        "word_vector_dict = {word: w2v.wv[word] for word in word2vec_vocab if word in tfidf.vocabulary_}\n",
        "\n",
        "def weighted_average_vector(document):\n",
        "    # Only consider words in both Word2Vec and TF-IDF vocabularies\n",
        "    valid_words = [word for word in document if word in word_vector_dict]\n",
        "\n",
        "    if valid_words:\n",
        "\n",
        "      # Compute TF-IDF weights and corresponding word vectors\n",
        "      weights = np.array([tfidf.idf_[tfidf.vocabulary_[word]] for word in valid_words])\n",
        "      vectors = np.array([word_vector_dict[word] for word in valid_words])\n",
        "\n",
        "    else:\n",
        "      return np.zeros(w2v.vector_size)\n",
        "\n",
        "    # Compute the weighted average\n",
        "    if weights.size > 0:\n",
        "      weighted_average = np.dot(weights, vectors) / weights.sum()\n",
        "      return weighted_average\n",
        "\n",
        "    else:\n",
        "      return np.zeros(w2v.vector_size)\n",
        "\n",
        "# Apply the weighted average word vector\n",
        "w2v_idf_weighted_avg = np.array([weighted_average_vector(doc) for doc in data['preprocessed_text']])\n",
        "w2v_idf_weighted_avg"
      ],
      "metadata": {
        "colab": {
          "base_uri": "https://localhost:8080/"
        },
        "id": "fiT4a4UxlbR4",
        "outputId": "0f309b10-86f2-4084-e1e0-2ffd314e6d4c"
      },
      "execution_count": 15,
      "outputs": [
        {
          "output_type": "execute_result",
          "data": {
            "text/plain": [
              "array([[-0.17519841,  0.15325433, -0.04408209, ...,  0.18094589,\n",
              "         0.35405038,  0.07495607],\n",
              "       [-0.12426   ,  0.35972287,  0.04931145, ...,  0.10184444,\n",
              "         0.29847515,  0.0516447 ],\n",
              "       [-0.12905546,  0.24424488,  0.07546682, ...,  0.04737453,\n",
              "         0.24006207,  0.05171569],\n",
              "       ...,\n",
              "       [-0.08989584,  0.18228744,  0.03888369, ...,  0.02328629,\n",
              "         0.25817896,  0.10712165],\n",
              "       [-0.06989754,  0.22913487,  0.12960887, ...,  0.06290259,\n",
              "         0.22983908,  0.14802507],\n",
              "       [-0.08894504,  0.26993248,  0.11168413, ..., -0.1049255 ,\n",
              "         0.28379555,  0.09644991]])"
            ]
          },
          "metadata": {},
          "execution_count": 15
        }
      ]
    },
    {
      "cell_type": "markdown",
      "source": [
        "### GloVe (Pre-trained)"
      ],
      "metadata": {
        "id": "BrmveIxeGBx0"
      }
    },
    {
      "cell_type": "code",
      "source": [
        "# load api\n",
        "import gensim.downloader as api\n",
        "\n",
        "print(api.info()['models'].keys())"
      ],
      "metadata": {
        "colab": {
          "base_uri": "https://localhost:8080/"
        },
        "id": "4dqrJiCZBNMV",
        "outputId": "de8f972d-7964-4a0f-c623-5aa933317577"
      },
      "execution_count": 17,
      "outputs": [
        {
          "output_type": "stream",
          "name": "stdout",
          "text": [
            "dict_keys(['fasttext-wiki-news-subwords-300', 'conceptnet-numberbatch-17-06-300', 'word2vec-ruscorpora-300', 'word2vec-google-news-300', 'glove-wiki-gigaword-50', 'glove-wiki-gigaword-100', 'glove-wiki-gigaword-200', 'glove-wiki-gigaword-300', 'glove-twitter-25', 'glove-twitter-50', 'glove-twitter-100', 'glove-twitter-200', '__testing_word2vec-matrix-synopsis'])\n"
          ]
        }
      ]
    },
    {
      "cell_type": "code",
      "source": [
        "# load pretrained model\n",
        "glove = api.load(\"glove-wiki-gigaword-100\")"
      ],
      "metadata": {
        "id": "1LZ4NB28E_Cf"
      },
      "execution_count": 18,
      "outputs": []
    },
    {
      "cell_type": "markdown",
      "source": [
        "idf weighted average"
      ],
      "metadata": {
        "id": "ryqbrpB3L5dF"
      }
    },
    {
      "cell_type": "code",
      "source": [
        "# Create a vocabulary and word vector mapping\n",
        "word_vector_dict = {word: glove[word] for word in glove.key_to_index if word in tfidf.vocabulary_}\n",
        "\n",
        "def weighted_average_vector(document):\n",
        "    # Only consider words in both Word2Vec and TF-IDF vocabularies\n",
        "    valid_words = [word for word in document if word in word_vector_dict]\n",
        "\n",
        "    if valid_words:\n",
        "\n",
        "      # Compute TF-IDF weights and corresponding word vectors\n",
        "      weights = np.array([tfidf.idf_[tfidf.vocabulary_[word]] for word in valid_words])\n",
        "      vectors = np.array([word_vector_dict[word] for word in valid_words])\n",
        "\n",
        "    else:\n",
        "      return np.zeros(glove.vector_size)\n",
        "\n",
        "    # Compute the weighted average\n",
        "    if weights.size > 0:\n",
        "      weighted_average = np.dot(weights, vectors) / weights.sum()\n",
        "      return weighted_average\n",
        "\n",
        "    else:\n",
        "      return np.zeros(w2v.vector_size)\n",
        "\n",
        "# Apply the weighted average word vector\n",
        "glove_idf_weighted_avg = np.array([weighted_average_vector(doc) for doc in data['preprocessed_text']])\n",
        "glove_idf_weighted_avg"
      ],
      "metadata": {
        "colab": {
          "base_uri": "https://localhost:8080/"
        },
        "id": "u3EwgFJoBev-",
        "outputId": "9072c9bf-7c4f-4308-b8d1-b69b15da87d9"
      },
      "execution_count": 19,
      "outputs": [
        {
          "output_type": "execute_result",
          "data": {
            "text/plain": [
              "array([[ 0.08301262,  0.14794662,  0.16314122, ..., -0.07583046,\n",
              "         0.27216457,  0.19456239],\n",
              "       [ 0.07277598,  0.15601911,  0.11505128, ..., -0.15245221,\n",
              "         0.85716269,  0.17802454],\n",
              "       [-0.39085934,  0.0323345 ,  0.01380136, ..., -0.2504151 ,\n",
              "         0.35702096,  0.23101756],\n",
              "       ...,\n",
              "       [-0.11218556,  0.18163195,  0.17389542, ..., -0.2361844 ,\n",
              "         0.22393456, -0.00699955],\n",
              "       [-0.23649423,  0.37424035,  0.33494951, ..., -0.3037791 ,\n",
              "         0.12767743,  0.0169173 ],\n",
              "       [-0.06285553,  0.0545326 ,  0.24097766, ...,  0.01128499,\n",
              "         0.51512647,  0.24571222]])"
            ]
          },
          "metadata": {},
          "execution_count": 19
        }
      ]
    },
    {
      "cell_type": "markdown",
      "source": [
        "# Modeling"
      ],
      "metadata": {
        "id": "lh10LI6tYfvd"
      }
    },
    {
      "cell_type": "markdown",
      "source": [
        "## Random Forest"
      ],
      "metadata": {
        "id": "XN1z1Ic9w98H"
      }
    },
    {
      "cell_type": "code",
      "source": [
        "data.columns"
      ],
      "metadata": {
        "colab": {
          "base_uri": "https://localhost:8080/"
        },
        "id": "j90-vfyDZzKa",
        "outputId": "377d4a8f-1e31-4aec-f8d5-2922af5de3ea"
      },
      "execution_count": 20,
      "outputs": [
        {
          "output_type": "execute_result",
          "data": {
            "text/plain": [
              "Index(['text', 'category', 'cleaned_text', 'preprocessed_text', 'w2v_avg',\n",
              "       'doc2vec'],\n",
              "      dtype='object')"
            ]
          },
          "metadata": {},
          "execution_count": 20
        }
      ]
    },
    {
      "cell_type": "markdown",
      "source": [
        "### Bag of Words"
      ],
      "metadata": {
        "id": "zTmy1lEAVOC3"
      }
    },
    {
      "cell_type": "code",
      "source": [
        "y = data['category']\n",
        "X = data['preprocessed_text'].apply(lambda x: ' '.join(x))\n",
        "\n",
        "# train test split\n",
        "X_train, X_test, y_train, y_test = train_test_split(X, y, test_size=0.2, random_state=42)\n",
        "\n",
        "# vectorize X_train and X_test seperately\n",
        "cv = CountVectorizer()\n",
        "X_train = cv.fit_transform(X_train)\n",
        "X_test = cv.transform(X_test)\n",
        "\n",
        "rf = RandomForestClassifier(n_estimators=100, random_state=42)\n",
        "rf.fit(X_train, y_train)\n",
        "\n",
        "y_pred = rf.predict(X_test)\n",
        "\n",
        "print(classification_report(y_test, y_pred))"
      ],
      "metadata": {
        "colab": {
          "base_uri": "https://localhost:8080/"
        },
        "id": "-LkrUJSMVNZB",
        "outputId": "55a3750d-6e7c-4ad5-9fce-915d5e2acd30"
      },
      "execution_count": 37,
      "outputs": [
        {
          "output_type": "stream",
          "name": "stdout",
          "text": [
            "               precision    recall  f1-score   support\n",
            "\n",
            "     Business       0.69      0.86      0.77       995\n",
            "Entertainment       0.82      0.64      0.72      1024\n",
            "     Sci/Tech       0.82      0.70      0.76       977\n",
            "       Sports       0.83      0.94      0.88      1004\n",
            "\n",
            "     accuracy                           0.78      4000\n",
            "    macro avg       0.79      0.78      0.78      4000\n",
            " weighted avg       0.79      0.78      0.78      4000\n",
            "\n"
          ]
        }
      ]
    },
    {
      "cell_type": "markdown",
      "source": [
        "### TF-IDF"
      ],
      "metadata": {
        "id": "m18RwAYCdMGh"
      }
    },
    {
      "cell_type": "code",
      "source": [
        "y = data['category']\n",
        "X = data['preprocessed_text'].apply(lambda x: ' '.join(x))\n",
        "\n",
        "# train test split\n",
        "X_train, X_test, y_train, y_test = train_test_split(X, y, test_size=0.2, random_state=42)\n",
        "\n",
        "# vectorize X_train and X_test seperately\n",
        "tfidf = TfidfVectorizer(min_df = 3)\n",
        "X_train = tfidf.fit_transform(X_train)\n",
        "X_test = tfidf.transform(X_test)\n",
        "\n",
        "rf = RandomForestClassifier(n_estimators=100, random_state=42)\n",
        "rf.fit(X_train, y_train)\n",
        "\n",
        "y_pred = rf.predict(X_test)\n",
        "\n",
        "print(classification_report(y_test, y_pred))"
      ],
      "metadata": {
        "colab": {
          "base_uri": "https://localhost:8080/"
        },
        "id": "zj60nmxLfUyN",
        "outputId": "69589c55-3ccb-426e-8902-84f83f9d43bd"
      },
      "execution_count": 36,
      "outputs": [
        {
          "output_type": "stream",
          "name": "stdout",
          "text": [
            "               precision    recall  f1-score   support\n",
            "\n",
            "     Business       0.72      0.81      0.76       995\n",
            "Entertainment       0.77      0.65      0.71      1024\n",
            "     Sci/Tech       0.80      0.71      0.75       977\n",
            "       Sports       0.82      0.93      0.87      1004\n",
            "\n",
            "     accuracy                           0.78      4000\n",
            "    macro avg       0.78      0.78      0.77      4000\n",
            " weighted avg       0.78      0.78      0.77      4000\n",
            "\n"
          ]
        }
      ]
    },
    {
      "cell_type": "markdown",
      "source": [
        "### Word2Vec"
      ],
      "metadata": {
        "id": "ia6fIccTdvbF"
      }
    },
    {
      "cell_type": "markdown",
      "source": [
        "average"
      ],
      "metadata": {
        "id": "GDacyMhi-lwZ"
      }
    },
    {
      "cell_type": "code",
      "source": [
        "y = data['category']\n",
        "X = data['w2v_avg'].to_list()\n",
        "\n",
        "# train test split\n",
        "X_train, X_test, y_train, y_test = train_test_split(X, y, test_size=0.2, random_state=42)\n",
        "\n",
        "rf = RandomForestClassifier(n_estimators=100, random_state=42)\n",
        "rf.fit(X_train, y_train)\n",
        "\n",
        "y_pred = rf.predict(X_test)\n",
        "\n",
        "print(classification_report(y_test, y_pred))"
      ],
      "metadata": {
        "colab": {
          "base_uri": "https://localhost:8080/"
        },
        "id": "YJ4SU1POdmB2",
        "outputId": "9fa1f887-3a10-4f80-a22e-2167b0d9a048"
      },
      "execution_count": 22,
      "outputs": [
        {
          "output_type": "stream",
          "name": "stdout",
          "text": [
            "               precision    recall  f1-score   support\n",
            "\n",
            "     Business       0.76      0.73      0.74       995\n",
            "Entertainment       0.60      0.62      0.61      1024\n",
            "     Sci/Tech       0.71      0.67      0.69       977\n",
            "       Sports       0.76      0.79      0.77      1004\n",
            "\n",
            "     accuracy                           0.70      4000\n",
            "    macro avg       0.71      0.70      0.70      4000\n",
            " weighted avg       0.70      0.70      0.70      4000\n",
            "\n"
          ]
        }
      ]
    },
    {
      "cell_type": "markdown",
      "source": [
        "TF-IDF weighted average"
      ],
      "metadata": {
        "id": "_lbkccancwh6"
      }
    },
    {
      "cell_type": "code",
      "source": [
        "y = data['category']\n",
        "X = w2v_tfidf_weighted_avg\n",
        "\n",
        "# train test split\n",
        "X_train, X_test, y_train, y_test = train_test_split(X, y, test_size=0.2, random_state=42)\n",
        "\n",
        "rf = RandomForestClassifier(n_estimators=100, random_state=42)\n",
        "rf.fit(X_train, y_train)\n",
        "\n",
        "y_pred = rf.predict(X_test)\n",
        "\n",
        "print(classification_report(y_test, y_pred))"
      ],
      "metadata": {
        "colab": {
          "base_uri": "https://localhost:8080/"
        },
        "id": "rvBd2DnnZvPR",
        "outputId": "93169730-7b19-4111-f349-3f218cd4460e"
      },
      "execution_count": 23,
      "outputs": [
        {
          "output_type": "stream",
          "name": "stdout",
          "text": [
            "               precision    recall  f1-score   support\n",
            "\n",
            "     Business       0.73      0.69      0.71       995\n",
            "Entertainment       0.60      0.62      0.61      1024\n",
            "     Sci/Tech       0.69      0.64      0.66       977\n",
            "       Sports       0.74      0.81      0.77      1004\n",
            "\n",
            "     accuracy                           0.69      4000\n",
            "    macro avg       0.69      0.69      0.69      4000\n",
            " weighted avg       0.69      0.69      0.69      4000\n",
            "\n"
          ]
        }
      ]
    },
    {
      "cell_type": "markdown",
      "source": [
        "IDF weighted average"
      ],
      "metadata": {
        "id": "jKGeuyYRHJIH"
      }
    },
    {
      "cell_type": "code",
      "source": [
        "y = data['category']\n",
        "X = w2v_idf_weighted_avg\n",
        "\n",
        "# train test split\n",
        "X_train, X_test, y_train, y_test = train_test_split(X, y, test_size=0.2, random_state=42)\n",
        "\n",
        "rf = RandomForestClassifier(n_estimators=100, random_state=42)\n",
        "rf.fit(X_train, y_train)\n",
        "\n",
        "y_pred = rf.predict(X_test)\n",
        "\n",
        "print(classification_report(y_test, y_pred))"
      ],
      "metadata": {
        "colab": {
          "base_uri": "https://localhost:8080/"
        },
        "id": "ZM_rIOahauRW",
        "outputId": "597ea63d-937b-4cd2-e0c8-4a882da38319"
      },
      "execution_count": 24,
      "outputs": [
        {
          "output_type": "stream",
          "name": "stdout",
          "text": [
            "               precision    recall  f1-score   support\n",
            "\n",
            "     Business       0.74      0.71      0.73       995\n",
            "Entertainment       0.63      0.64      0.63      1024\n",
            "     Sci/Tech       0.70      0.67      0.68       977\n",
            "       Sports       0.77      0.82      0.79      1004\n",
            "\n",
            "     accuracy                           0.71      4000\n",
            "    macro avg       0.71      0.71      0.71      4000\n",
            " weighted avg       0.71      0.71      0.71      4000\n",
            "\n"
          ]
        }
      ]
    },
    {
      "cell_type": "markdown",
      "source": [
        "### GloVe (pre-trained, IDF weighted)"
      ],
      "metadata": {
        "id": "UJ5IOvg5HgAP"
      }
    },
    {
      "cell_type": "code",
      "source": [
        "y = data['category']\n",
        "X = glove_idf_weighted_avg\n",
        "\n",
        "# train test split\n",
        "X_train, X_test, y_train, y_test = train_test_split(X, y, test_size=0.2, random_state=42)\n",
        "\n",
        "rf = RandomForestClassifier(n_estimators=100, random_state=42)\n",
        "rf.fit(X_train, y_train)\n",
        "\n",
        "y_pred = rf.predict(X_test)\n",
        "\n",
        "print(classification_report(y_test, y_pred))"
      ],
      "metadata": {
        "colab": {
          "base_uri": "https://localhost:8080/"
        },
        "id": "YV406-XlHQ92",
        "outputId": "e7cab033-2998-4f86-d66b-e018a1181ad5"
      },
      "execution_count": 25,
      "outputs": [
        {
          "output_type": "stream",
          "name": "stdout",
          "text": [
            "               precision    recall  f1-score   support\n",
            "\n",
            "     Business       0.80      0.76      0.78       995\n",
            "Entertainment       0.75      0.72      0.73      1024\n",
            "     Sci/Tech       0.74      0.77      0.76       977\n",
            "       Sports       0.89      0.93      0.91      1004\n",
            "\n",
            "     accuracy                           0.80      4000\n",
            "    macro avg       0.80      0.80      0.80      4000\n",
            " weighted avg       0.80      0.80      0.80      4000\n",
            "\n"
          ]
        }
      ]
    },
    {
      "cell_type": "markdown",
      "source": [
        "## Deep Learning"
      ],
      "metadata": {
        "id": "ToxqcngCxM3p"
      }
    },
    {
      "cell_type": "markdown",
      "source": [
        "### Transfer Learning with GloVe"
      ],
      "metadata": {
        "id": "6uwhrt4oNXk_"
      }
    },
    {
      "cell_type": "markdown",
      "source": [
        "1. convert each document into vector sequence"
      ],
      "metadata": {
        "id": "VsJOH5PMywZR"
      }
    },
    {
      "cell_type": "code",
      "source": [
        "# define a function to convert each document in data into vector sequence\n",
        "def doc_to_vector_sequence(doc, model):\n",
        "    vector_sequence = []\n",
        "    for word in doc:\n",
        "        if word in model.key_to_index:\n",
        "            vector_sequence.append(model[word])\n",
        "        else:\n",
        "            # use zeros if not in the vocabulary\n",
        "            vector_sequence.append(np.zeros(model.vector_size))\n",
        "    return np.array(vector_sequence)\n",
        "\n",
        "# apply function\n",
        "vector_sequences = [doc_to_vector_sequence(doc, glove) for doc in data['preprocessed_text']]\n",
        "\n",
        "# verify the result\n",
        "print(vector_sequences[0].shape)\n",
        "vector_sequences[0]"
      ],
      "metadata": {
        "colab": {
          "base_uri": "https://localhost:8080/"
        },
        "id": "ASs1fhAOJuAc",
        "outputId": "dee8697f-ac3d-4cd1-c1f4-f66109146cd0"
      },
      "execution_count": 27,
      "outputs": [
        {
          "output_type": "stream",
          "name": "stdout",
          "text": [
            "(13, 100)\n"
          ]
        },
        {
          "output_type": "execute_result",
          "data": {
            "text/plain": [
              "array([[ 0.29296  , -0.20033  ,  0.64765  , ...,  0.21748  ,  1.1448   ,\n",
              "         0.72374  ],\n",
              "       [ 0.79338  , -0.033504 ,  0.060543 , ...,  0.34844  ,  0.7957   ,\n",
              "        -0.2613   ],\n",
              "       [-0.24683  , -0.045153 , -0.29972  , ..., -0.22978  , -0.63699  ,\n",
              "        -0.78636  ],\n",
              "       ...,\n",
              "       [-0.22835  ,  0.51931  ,  0.080085 , ..., -0.031722 , -0.29727  ,\n",
              "         0.056813 ],\n",
              "       [ 0.13482  ,  0.40224  , -0.42266  , ..., -0.27989  ,  0.28937  ,\n",
              "         0.043783 ],\n",
              "       [-0.0029325,  0.63036  ,  0.51482  , ..., -0.15467  ,  0.24526  ,\n",
              "         0.29353  ]], dtype=float32)"
            ]
          },
          "metadata": {},
          "execution_count": 27
        }
      ]
    },
    {
      "cell_type": "markdown",
      "source": [
        "2. padding"
      ],
      "metadata": {
        "id": "etjvIYxJy2Nm"
      }
    },
    {
      "cell_type": "code",
      "source": [
        "# visualize document length distrib\n",
        "doc_lengths = [len(doc) for doc in data['preprocessed_text']]\n",
        "\n",
        "plt.figure(figsize=(10, 6))\n",
        "plt.hist(doc_lengths, bins=30)\n",
        "plt.title('Document Length Distribution')\n",
        "plt.xlabel('Document Length')\n",
        "plt.ylabel('Number of Documents')\n",
        "plt.xticks(range(0, max(doc_lengths) + 1, 100))\n",
        "plt.show()"
      ],
      "metadata": {
        "colab": {
          "base_uri": "https://localhost:8080/",
          "height": 564
        },
        "id": "aPCSPKLLy1lB",
        "outputId": "298f6e03-c092-41dd-c65b-b4d8051e8b6a"
      },
      "execution_count": 28,
      "outputs": [
        {
          "output_type": "display_data",
          "data": {
            "text/plain": [
              "<Figure size 1000x600 with 1 Axes>"
            ],
            "image/png": "[encoded data removed]"
          },
          "metadata": {}
        }
      ]
    },
    {
      "cell_type": "code",
      "source": [
        "np.quantile(doc_lengths, 0.99)"
      ],
      "metadata": {
        "colab": {
          "base_uri": "https://localhost:8080/"
        },
        "id": "NGdd9UzSNPG8",
        "outputId": "45cc4a9f-3177-4629-8be9-7663cfca48b2"
      },
      "execution_count": 29,
      "outputs": [
        {
          "output_type": "execute_result",
          "data": {
            "text/plain": [
              "178.0199999999968"
            ]
          },
          "metadata": {},
          "execution_count": 29
        }
      ]
    },
    {
      "cell_type": "markdown",
      "source": [
        "99% documents are shorter than 180. Therefore 180 can be set as the sequence length"
      ],
      "metadata": {
        "id": "y529cN9L24wV"
      }
    },
    {
      "cell_type": "code",
      "source": [
        "# pad the sequence\n",
        "padded_sequences = pad_sequences(vector_sequences, maxlen=180, dtype='float32', padding='post', truncating='post')\n",
        "\n",
        "# verify the result\n",
        "print(padded_sequences[0].shape)\n",
        "padded_sequences[0]"
      ],
      "metadata": {
        "colab": {
          "base_uri": "https://localhost:8080/"
        },
        "id": "g8SlCbmL3AWL",
        "outputId": "34c17f15-f8ed-4d8b-8bce-82b8d42287c4"
      },
      "execution_count": 30,
      "outputs": [
        {
          "output_type": "stream",
          "name": "stdout",
          "text": [
            "(180, 100)\n"
          ]
        },
        {
          "output_type": "execute_result",
          "data": {
            "text/plain": [
              "array([[ 0.29296 , -0.20033 ,  0.64765 , ...,  0.21748 ,  1.1448  ,\n",
              "         0.72374 ],\n",
              "       [ 0.79338 , -0.033504,  0.060543, ...,  0.34844 ,  0.7957  ,\n",
              "        -0.2613  ],\n",
              "       [-0.24683 , -0.045153, -0.29972 , ..., -0.22978 , -0.63699 ,\n",
              "        -0.78636 ],\n",
              "       ...,\n",
              "       [ 0.      ,  0.      ,  0.      , ...,  0.      ,  0.      ,\n",
              "         0.      ],\n",
              "       [ 0.      ,  0.      ,  0.      , ...,  0.      ,  0.      ,\n",
              "         0.      ],\n",
              "       [ 0.      ,  0.      ,  0.      , ...,  0.      ,  0.      ,\n",
              "         0.      ]], dtype=float32)"
            ]
          },
          "metadata": {},
          "execution_count": 30
        }
      ]
    },
    {
      "cell_type": "markdown",
      "source": [
        "3. train test split and one-hot encode the target"
      ],
      "metadata": {
        "id": "-D8Hl4EcIWOi"
      }
    },
    {
      "cell_type": "code",
      "source": [
        "# one-hot encode target\n",
        "y = pd.get_dummies(data['category']).values\n",
        "X = padded_sequences\n",
        "\n",
        "X_train, X_test, y_train, y_test = train_test_split(X, y, test_size=0.2, random_state=42)\n",
        "\n",
        "print(X.shape)\n",
        "print(y)"
      ],
      "metadata": {
        "colab": {
          "base_uri": "https://localhost:8080/"
        },
        "id": "QGE0M2IeIVed",
        "outputId": "a0305830-9b3f-4b26-b643-b64de0e148e1"
      },
      "execution_count": 31,
      "outputs": [
        {
          "output_type": "stream",
          "name": "stdout",
          "text": [
            "(20000, 180, 100)\n",
            "[[1 0 0 0]\n",
            " [1 0 0 0]\n",
            " [1 0 0 0]\n",
            " ...\n",
            " [0 0 1 0]\n",
            " [0 0 1 0]\n",
            " [0 0 1 0]]\n"
          ]
        }
      ]
    },
    {
      "cell_type": "code",
      "source": [
        "sequence_len = X.shape[1]\n",
        "embedding_dim = X.shape[2]\n",
        "\n",
        "# build model\n",
        "model = Sequential()\n",
        "\n",
        "# add a convolution layer to do feature selection\n",
        "model.add(Conv1D(filters=80, kernel_size=5, activation='relu', input_shape=(sequence_len, embedding_dim)))\n",
        "model.add(MaxPooling1D(pool_size=4))\n",
        "\n",
        "# sequential modeling using LSTM\n",
        "model.add(LSTM(64))\n",
        "\n",
        "# output layer with 4 nuerons and softmax for muti-classification problem\n",
        "model.add(Dense(4, activation='softmax'))\n",
        "\n",
        "# compile\n",
        "model.compile(loss='categorical_crossentropy', optimizer='adam', metrics=['accuracy'])\n",
        "\n",
        "model.summary()"
      ],
      "metadata": {
        "colab": {
          "base_uri": "https://localhost:8080/"
        },
        "id": "CCpWWdejH9pR",
        "outputId": "7b06b8c1-070c-4aff-d509-8bda05f93db9"
      },
      "execution_count": 33,
      "outputs": [
        {
          "output_type": "stream",
          "name": "stdout",
          "text": [
            "Model: \"sequential_1\"\n",
            "_________________________________________________________________\n",
            " Layer (type)                Output Shape              Param #   \n",
            "=================================================================\n",
            " conv1d_1 (Conv1D)           (None, 176, 80)           40080     \n",
            "                                                                 \n",
            " max_pooling1d_1 (MaxPoolin  (None, 44, 80)            0         \n",
            " g1D)                                                            \n",
            "                                                                 \n",
            " lstm_1 (LSTM)               (None, 64)                37120     \n",
            "                                                                 \n",
            " dense_1 (Dense)             (None, 4)                 260       \n",
            "                                                                 \n",
            "=================================================================\n",
            "Total params: 77460 (302.58 KB)\n",
            "Trainable params: 77460 (302.58 KB)\n",
            "Non-trainable params: 0 (0.00 Byte)\n",
            "_________________________________________________________________\n"
          ]
        }
      ]
    },
    {
      "cell_type": "code",
      "source": [
        "%%time\n",
        "K.clear_session()\n",
        "# train the model\n",
        "history = model.fit(X_train, y_train, batch_size=64, epochs=10, validation_split=0.2, verbose=1)"
      ],
      "metadata": {
        "colab": {
          "base_uri": "https://localhost:8080/"
        },
        "id": "XjBnIQv_zlJK",
        "outputId": "e5a8c129-8413-4dc6-ac3a-97c8180d5e77"
      },
      "execution_count": 34,
      "outputs": [
        {
          "output_type": "stream",
          "name": "stdout",
          "text": [
            "Epoch 1/10\n",
            "200/200 [==============================] - 25s 108ms/step - loss: 0.9736 - accuracy: 0.5459 - val_loss: 0.7776 - val_accuracy: 0.7131\n",
            "Epoch 2/10\n",
            "200/200 [==============================] - 22s 109ms/step - loss: 0.6514 - accuracy: 0.7723 - val_loss: 0.6401 - val_accuracy: 0.7866\n",
            "Epoch 3/10\n",
            "200/200 [==============================] - 22s 112ms/step - loss: 0.5270 - accuracy: 0.8240 - val_loss: 0.5417 - val_accuracy: 0.8194\n",
            "Epoch 4/10\n",
            "200/200 [==============================] - 21s 107ms/step - loss: 0.4745 - accuracy: 0.8407 - val_loss: 0.5508 - val_accuracy: 0.8241\n",
            "Epoch 5/10\n",
            "200/200 [==============================] - 21s 104ms/step - loss: 0.4247 - accuracy: 0.8640 - val_loss: 0.5295 - val_accuracy: 0.8247\n",
            "Epoch 6/10\n",
            "200/200 [==============================] - 21s 108ms/step - loss: 0.3975 - accuracy: 0.8748 - val_loss: 0.5736 - val_accuracy: 0.8128\n",
            "Epoch 7/10\n",
            "200/200 [==============================] - 22s 108ms/step - loss: 0.3587 - accuracy: 0.8898 - val_loss: 0.5387 - val_accuracy: 0.8306\n",
            "Epoch 8/10\n",
            "200/200 [==============================] - 21s 107ms/step - loss: 0.3386 - accuracy: 0.8980 - val_loss: 0.5321 - val_accuracy: 0.8309\n",
            "Epoch 9/10\n",
            "200/200 [==============================] - 21s 103ms/step - loss: 0.3211 - accuracy: 0.9045 - val_loss: 0.5985 - val_accuracy: 0.8253\n",
            "Epoch 10/10\n",
            "200/200 [==============================] - 21s 104ms/step - loss: 0.2859 - accuracy: 0.9169 - val_loss: 0.5867 - val_accuracy: 0.8153\n",
            "CPU times: user 5min 1s, sys: 10.1 s, total: 5min 11s\n",
            "Wall time: 4min 27s\n"
          ]
        }
      ]
    },
    {
      "cell_type": "code",
      "source": [
        "prediction = model.predict(X_test)\n",
        "\n",
        "# map one-hot encoded y to origin values\n",
        "cat_names = pd.get_dummies(data['category']).columns.tolist()\n",
        "y_pred_label = [cat_names[i] for i in np.argmax(prediction, axis=1)]\n",
        "y_test_label = [cat_names[i] for i in np.argmax(y_test, axis=1)]\n",
        "\n",
        "print(classification_report(y_test_label, y_pred_label))"
      ],
      "metadata": {
        "colab": {
          "base_uri": "https://localhost:8080/"
        },
        "id": "8LDoxygE76hw",
        "outputId": "dec3e8fc-0c0a-43f7-db88-e0de685c92c5"
      },
      "execution_count": 35,
      "outputs": [
        {
          "output_type": "stream",
          "name": "stdout",
          "text": [
            "125/125 [==============================] - 3s 19ms/step\n",
            "               precision    recall  f1-score   support\n",
            "\n",
            "     Business       0.84      0.76      0.80       995\n",
            "Entertainment       0.70      0.78      0.74      1024\n",
            "     Sci/Tech       0.79      0.75      0.77       977\n",
            "       Sports       0.90      0.94      0.92      1004\n",
            "\n",
            "     accuracy                           0.81      4000\n",
            "    macro avg       0.81      0.81      0.81      4000\n",
            " weighted avg       0.81      0.81      0.81      4000\n",
            "\n"
          ]
        }
      ]
    },
    {
      "cell_type": "markdown",
      "source": [
        "### Regular LSTM"
      ],
      "metadata": {
        "id": "yMRg0VFNUX8s"
      }
    },
    {
      "cell_type": "code",
      "source": [
        "# get vocabulary size\n",
        "text = data['preprocessed_text']\n",
        "tokenizer = Tokenizer()\n",
        "tokenizer.fit_on_texts(text)\n",
        "word_index = tokenizer.word_index\n",
        "vocab_size = len(word_index)\n",
        "vocab_size"
      ],
      "metadata": {
        "colab": {
          "base_uri": "https://localhost:8080/"
        },
        "id": "5pYmXwfXqlbd",
        "outputId": "e369bd71-ec9d-4d9e-e43b-2d855a789bee"
      },
      "execution_count": 39,
      "outputs": [
        {
          "output_type": "execute_result",
          "data": {
            "text/plain": [
              "39229"
            ]
          },
          "metadata": {},
          "execution_count": 39
        }
      ]
    },
    {
      "cell_type": "code",
      "source": [
        "# set parameters\n",
        "vocab_size = int(vocab_size*0.99)\n",
        "embedding_dim = 100\n",
        "sequence_len = 180\n",
        "\n",
        "# preprocessing text\n",
        "tokenizer = Tokenizer(num_words=vocab_size, oov_token='<OOV>') # '<OOV>' reserves a special index for tokens not in vocabulary list\n",
        "tokenizer.fit_on_texts(text)\n",
        "sequences = tokenizer.texts_to_sequences(text)\n",
        "X = pad_sequences(sequences, maxlen=sequence_len, padding='post', truncating='post')\n",
        "y = pd.get_dummies(data['category']).values\n",
        "\n",
        "X_train, X_test, y_train, y_test = train_test_split(X, y, test_size=0.2, random_state=42)\n",
        "\n",
        "# build model\n",
        "model = Sequential()\n",
        "\n",
        "# add an embedding layer to covert sparse to dense matrix\n",
        "model.add(Embedding(vocab_size, embedding_dim, input_length=sequence_len))\n",
        "\n",
        "# add a convolution layer to do feature selection\n",
        "model.add(Conv1D(filters=80, kernel_size=5, activation='relu'))\n",
        "model.add(MaxPooling1D(pool_size=4))\n",
        "\n",
        "# sequential modeling using LSTM\n",
        "model.add(LSTM(64))\n",
        "\n",
        "# output layer with 4 nuerons and softmax for muti-classification problem\n",
        "model.add(Dense(4, activation='softmax'))\n",
        "\n",
        "# compile\n",
        "model.compile(loss='categorical_crossentropy', optimizer='adam', metrics=['accuracy'])\n",
        "\n",
        "model.summary()"
      ],
      "metadata": {
        "colab": {
          "base_uri": "https://localhost:8080/"
        },
        "id": "E-IkaOdvUeFn",
        "outputId": "4267c957-a034-4cb7-fab9-85e6d63db7b9"
      },
      "execution_count": 43,
      "outputs": [
        {
          "output_type": "stream",
          "name": "stdout",
          "text": [
            "Model: \"sequential\"\n",
            "_________________________________________________________________\n",
            " Layer (type)                Output Shape              Param #   \n",
            "=================================================================\n",
            " embedding (Embedding)       (None, 180, 100)          3844700   \n",
            "                                                                 \n",
            " conv1d (Conv1D)             (None, 176, 80)           40080     \n",
            "                                                                 \n",
            " max_pooling1d (MaxPooling1  (None, 44, 80)            0         \n",
            " D)                                                              \n",
            "                                                                 \n",
            " lstm (LSTM)                 (None, 64)                37120     \n",
            "                                                                 \n",
            " dense (Dense)               (None, 4)                 260       \n",
            "                                                                 \n",
            "=================================================================\n",
            "Total params: 3922160 (14.96 MB)\n",
            "Trainable params: 3922160 (14.96 MB)\n",
            "Non-trainable params: 0 (0.00 Byte)\n",
            "_________________________________________________________________\n"
          ]
        }
      ]
    },
    {
      "cell_type": "code",
      "source": [
        "%%time\n",
        "K.clear_session()\n",
        "# train the model\n",
        "history = model.fit(X_train, y_train, batch_size=64, epochs=10, validation_split=0.2, verbose=1)"
      ],
      "metadata": {
        "colab": {
          "base_uri": "https://localhost:8080/"
        },
        "id": "5bNWUmS0zskB",
        "outputId": "5ab9ffe6-187e-4b13-e202-618d8a99e10b"
      },
      "execution_count": 44,
      "outputs": [
        {
          "output_type": "stream",
          "name": "stdout",
          "text": [
            "Epoch 1/10\n",
            "200/200 [==============================] - 39s 180ms/step - loss: 1.1374 - accuracy: 0.4445 - val_loss: 0.8679 - val_accuracy: 0.6338\n",
            "Epoch 2/10\n",
            "200/200 [==============================] - 34s 172ms/step - loss: 0.6827 - accuracy: 0.7098 - val_loss: 0.7552 - val_accuracy: 0.7194\n",
            "Epoch 3/10\n",
            "200/200 [==============================] - 36s 178ms/step - loss: 0.4385 - accuracy: 0.8505 - val_loss: 0.7847 - val_accuracy: 0.7425\n",
            "Epoch 4/10\n",
            "200/200 [==============================] - 37s 183ms/step - loss: 0.2915 - accuracy: 0.9122 - val_loss: 0.8417 - val_accuracy: 0.7500\n",
            "Epoch 5/10\n",
            "200/200 [==============================] - 38s 189ms/step - loss: 0.2002 - accuracy: 0.9450 - val_loss: 0.7917 - val_accuracy: 0.7747\n",
            "Epoch 6/10\n",
            "200/200 [==============================] - 34s 168ms/step - loss: 0.1537 - accuracy: 0.9623 - val_loss: 0.8726 - val_accuracy: 0.7800\n",
            "Epoch 7/10\n",
            "200/200 [==============================] - 36s 180ms/step - loss: 0.1261 - accuracy: 0.9695 - val_loss: 0.9557 - val_accuracy: 0.7597\n",
            "Epoch 8/10\n",
            "200/200 [==============================] - 35s 175ms/step - loss: 0.0982 - accuracy: 0.9792 - val_loss: 0.9769 - val_accuracy: 0.7731\n",
            "Epoch 9/10\n",
            "200/200 [==============================] - 35s 174ms/step - loss: 0.0935 - accuracy: 0.9797 - val_loss: 1.0330 - val_accuracy: 0.7684\n",
            "Epoch 10/10\n",
            "200/200 [==============================] - 33s 167ms/step - loss: 0.0794 - accuracy: 0.9829 - val_loss: 1.0087 - val_accuracy: 0.7809\n",
            "CPU times: user 8min 29s, sys: 22.1 s, total: 8min 51s\n",
            "Wall time: 6min 24s\n"
          ]
        }
      ]
    },
    {
      "cell_type": "code",
      "source": [
        "prediction = model.predict(X_test)\n",
        "\n",
        "# map one-hot encoded y to origin values\n",
        "cat_names = pd.get_dummies(data['category']).columns.tolist()\n",
        "y_pred_label = [cat_names[i] for i in np.argmax(prediction, axis=1)]\n",
        "y_test_label = [cat_names[i] for i in np.argmax(y_test, axis=1)]\n",
        "\n",
        "print(classification_report(y_test_label, y_pred_label))"
      ],
      "metadata": {
        "colab": {
          "base_uri": "https://localhost:8080/"
        },
        "id": "kzW6yzHsyW3Q",
        "outputId": "ca8e1ebe-fa10-46bf-a68c-6e4833e2e264"
      },
      "execution_count": 45,
      "outputs": [
        {
          "output_type": "stream",
          "name": "stdout",
          "text": [
            "125/125 [==============================] - 3s 19ms/step\n",
            "               precision    recall  f1-score   support\n",
            "\n",
            "     Business       0.72      0.82      0.76       995\n",
            "Entertainment       0.68      0.70      0.69      1024\n",
            "     Sci/Tech       0.82      0.73      0.78       977\n",
            "       Sports       0.89      0.85      0.87      1004\n",
            "\n",
            "     accuracy                           0.77      4000\n",
            "    macro avg       0.78      0.77      0.78      4000\n",
            " weighted avg       0.78      0.77      0.78      4000\n",
            "\n"
          ]
        }
      ]
    },
    {
      "cell_type": "markdown",
      "source": [
        "### Simple RNN"
      ],
      "metadata": {
        "id": "ZkZLXT59AqsI"
      }
    },
    {
      "cell_type": "code",
      "source": [
        "# set parameters\n",
        "vocab_size = int(vocab_size*0.99)\n",
        "embedding_dim = 100\n",
        "sequence_len = 180\n",
        "\n",
        "# preprocessing text\n",
        "tokenizer = Tokenizer(num_words=vocab_size, oov_token='<OOV>') # '<OOV>' reserves a special index for tokens not in vocabulary list\n",
        "tokenizer.fit_on_texts(text)\n",
        "sequences = tokenizer.texts_to_sequences(text)\n",
        "X = pad_sequences(sequences, maxlen=sequence_len, padding='post', truncating='post')\n",
        "y = pd.get_dummies(data['category']).values\n",
        "\n",
        "X_train, X_test, y_train, y_test = train_test_split(X, y, test_size=0.2, random_state=42)\n",
        "\n",
        "# build model\n",
        "model = Sequential()\n",
        "\n",
        "# add an embedding layer to covert sparse to dense matrix\n",
        "model.add(Embedding(vocab_size, embedding_dim, input_length=sequence_len))\n",
        "\n",
        "# add a convolution layer to do feature selection\n",
        "model.add(Conv1D(filters=80, kernel_size=5, activation='relu'))\n",
        "model.add(MaxPooling1D(pool_size=4))\n",
        "\n",
        "# sequential modeling using LSTM\n",
        "model.add(SimpleRNN(64))\n",
        "\n",
        "# output layer with 4 nuerons and softmax for muti-classification problem\n",
        "model.add(Dense(4, activation='softmax'))\n",
        "\n",
        "# compile\n",
        "model.compile(loss='categorical_crossentropy', optimizer='adam', metrics=['accuracy'])\n",
        "\n",
        "model.summary()"
      ],
      "metadata": {
        "colab": {
          "base_uri": "https://localhost:8080/"
        },
        "id": "NqUGfORaApkn",
        "outputId": "b8b6e55b-5d9a-4ac9-d285-cff837bdd361"
      },
      "execution_count": 46,
      "outputs": [
        {
          "output_type": "stream",
          "name": "stdout",
          "text": [
            "Model: \"sequential\"\n",
            "_________________________________________________________________\n",
            " Layer (type)                Output Shape              Param #   \n",
            "=================================================================\n",
            " embedding (Embedding)       (None, 180, 100)          3806200   \n",
            "                                                                 \n",
            " conv1d (Conv1D)             (None, 176, 80)           40080     \n",
            "                                                                 \n",
            " max_pooling1d (MaxPooling1  (None, 44, 80)            0         \n",
            " D)                                                              \n",
            "                                                                 \n",
            " simple_rnn (SimpleRNN)      (None, 64)                9280      \n",
            "                                                                 \n",
            " dense (Dense)               (None, 4)                 260       \n",
            "                                                                 \n",
            "=================================================================\n",
            "Total params: 3855820 (14.71 MB)\n",
            "Trainable params: 3855820 (14.71 MB)\n",
            "Non-trainable params: 0 (0.00 Byte)\n",
            "_________________________________________________________________\n"
          ]
        }
      ]
    },
    {
      "cell_type": "code",
      "source": [
        "%%time\n",
        "K.clear_session()\n",
        "# train the model\n",
        "history = model.fit(X_train, y_train, batch_size=64, epochs=10, validation_split=0.2, verbose=1)"
      ],
      "metadata": {
        "colab": {
          "base_uri": "https://localhost:8080/"
        },
        "id": "WkQPUFOBBbFt",
        "outputId": "bd21e507-4424-40e2-a200-624c11b830d6"
      },
      "execution_count": 47,
      "outputs": [
        {
          "output_type": "stream",
          "name": "stdout",
          "text": [
            "Epoch 1/10\n",
            "200/200 [==============================] - 35s 169ms/step - loss: 0.8592 - accuracy: 0.6491 - val_loss: 0.5939 - val_accuracy: 0.7972\n",
            "Epoch 2/10\n",
            "200/200 [==============================] - 31s 154ms/step - loss: 0.2790 - accuracy: 0.9118 - val_loss: 0.7234 - val_accuracy: 0.7616\n",
            "Epoch 3/10\n",
            "200/200 [==============================] - 30s 149ms/step - loss: 0.1074 - accuracy: 0.9702 - val_loss: 0.8420 - val_accuracy: 0.7475\n",
            "Epoch 4/10\n",
            "200/200 [==============================] - 31s 156ms/step - loss: 0.0429 - accuracy: 0.9883 - val_loss: 0.9082 - val_accuracy: 0.7491\n",
            "Epoch 5/10\n",
            "200/200 [==============================] - 29s 147ms/step - loss: 0.0394 - accuracy: 0.9897 - val_loss: 0.9504 - val_accuracy: 0.7494\n",
            "Epoch 6/10\n",
            "200/200 [==============================] - 29s 148ms/step - loss: 0.0381 - accuracy: 0.9891 - val_loss: 1.1251 - val_accuracy: 0.7459\n",
            "Epoch 7/10\n",
            "200/200 [==============================] - 30s 149ms/step - loss: 0.0404 - accuracy: 0.9882 - val_loss: 1.1136 - val_accuracy: 0.7381\n",
            "Epoch 8/10\n",
            "200/200 [==============================] - 30s 149ms/step - loss: 0.0452 - accuracy: 0.9862 - val_loss: 1.2114 - val_accuracy: 0.7516\n",
            "Epoch 9/10\n",
            "200/200 [==============================] - 32s 161ms/step - loss: 0.0315 - accuracy: 0.9903 - val_loss: 1.2836 - val_accuracy: 0.7478\n",
            "Epoch 10/10\n",
            "200/200 [==============================] - 31s 156ms/step - loss: 0.0550 - accuracy: 0.9837 - val_loss: 1.2803 - val_accuracy: 0.7097\n",
            "CPU times: user 7min 23s, sys: 23.4 s, total: 7min 46s\n",
            "Wall time: 5min 8s\n"
          ]
        }
      ]
    },
    {
      "cell_type": "code",
      "source": [
        "prediction = model.predict(X_test)\n",
        "\n",
        "# map one-hot encoded y to origin values\n",
        "cat_names = pd.get_dummies(data['category']).columns.tolist()\n",
        "y_pred_label = [cat_names[i] for i in np.argmax(prediction, axis=1)]\n",
        "y_test_label = [cat_names[i] for i in np.argmax(y_test, axis=1)]\n",
        "\n",
        "print(classification_report(y_test_label, y_pred_label))"
      ],
      "metadata": {
        "colab": {
          "base_uri": "https://localhost:8080/"
        },
        "id": "4uZgq_9FBcbY",
        "outputId": "31b6e962-c523-4e86-d833-2c9e2228d468"
      },
      "execution_count": 48,
      "outputs": [
        {
          "output_type": "stream",
          "name": "stdout",
          "text": [
            "125/125 [==============================] - 2s 15ms/step\n",
            "               precision    recall  f1-score   support\n",
            "\n",
            "     Business       0.70      0.75      0.72       995\n",
            "Entertainment       0.72      0.59      0.65      1024\n",
            "     Sci/Tech       0.64      0.86      0.73       977\n",
            "       Sports       0.88      0.67      0.76      1004\n",
            "\n",
            "     accuracy                           0.72      4000\n",
            "    macro avg       0.73      0.72      0.72      4000\n",
            " weighted avg       0.73      0.72      0.72      4000\n",
            "\n"
          ]
        }
      ]
    }
  ]
}