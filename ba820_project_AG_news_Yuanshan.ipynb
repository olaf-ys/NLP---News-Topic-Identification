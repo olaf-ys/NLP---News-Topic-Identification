{
  "nbformat": 4,
  "nbformat_minor": 0,
  "metadata": {
    "colab": {
      "provenance": [],
      "toc_visible": true,
      "include_colab_link": true
    },
    "kernelspec": {
      "name": "python3",
      "display_name": "Python 3"
    },
    "language_info": {
      "name": "python"
    }
  },
  "cells": [
    {
      "cell_type": "markdown",
      "metadata": {
        "id": "view-in-github",
        "colab_type": "text"
      },
      "source": [
        "<a href=\"https://colab.research.google.com/github/olaf-ys/NLP-News-Topic-Identification/blob/main/ba820_project_AG_news_Yuanshan.ipynb\" target=\"_parent\"><img src=\"https://colab.research.google.com/assets/colab-badge.svg\" alt=\"Open In Colab\"/></a>"
      ]
    },
    {
      "cell_type": "markdown",
      "source": [
        "# Library"
      ],
      "metadata": {
        "id": "cybEFbxZKbCr"
      }
    },
    {
      "cell_type": "code",
      "source": [
        "import csv\n",
        "import pandas as pd\n",
        "import datetime\n",
        "import numpy as np\n",
        "\n",
        "# NLP\n",
        "import re\n",
        "import spacy\n",
        "\n",
        "import gensim\n",
        "from gensim import corpora, models\n",
        "from gensim.models.doc2vec import Doc2Vec, TaggedDocument\n",
        "from gensim.models import Word2Vec\n",
        "\n",
        "# visualization\n",
        "import matplotlib.pyplot as plt\n",
        "import seaborn as sns\n",
        "\n",
        "# sklean\n",
        "from sklearn.preprocessing import StandardScaler\n",
        "from sklearn.cluster import KMeans\n",
        "from sklearn.decomposition import TruncatedSVD\n",
        "from sklearn.feature_extraction.text import CountVectorizer, TfidfVectorizer\n",
        "from sklearn.metrics.pairwise import linear_kernel\n",
        "from sklearn.preprocessing import normalize\n",
        "from sklearn.model_selection import train_test_split\n",
        "from sklearn.linear_model import LinearRegression\n",
        "from sklearn.metrics import classification_report\n",
        "from sklearn.ensemble import RandomForestClassifier\n",
        "\n",
        "# deep learning\n",
        "from keras.preprocessing.text import Tokenizer\n",
        "from keras.preprocessing.sequence import pad_sequences\n",
        "from keras.models import Sequential\n",
        "from keras.layers import Embedding, LSTM, Dense, Dropout, Conv1D, MaxPooling1D, SimpleRNN\n",
        "from keras.callbacks import EarlyStopping\n",
        "from keras import backend as K\n",
        "\n",
        "# ignore warnings\n",
        "import warnings\n",
        "warnings.filterwarnings('ignore')"
      ],
      "metadata": {
        "id": "wJpeEXQv4sT5"
      },
      "execution_count": 1,
      "outputs": []
    },
    {
      "cell_type": "markdown",
      "source": [
        "# Load, clean, and sample the data"
      ],
      "metadata": {
        "id": "ZYM4mfYQih8H"
      }
    },
    {
      "cell_type": "code",
      "source": [
        "from google.colab import drive\n",
        "drive.mount('/content/drive')"
      ],
      "metadata": {
        "colab": {
          "base_uri": "https://localhost:8080/"
        },
        "id": "gP3FeYbSEDy7",
        "outputId": "0f3fd000-f931-40e7-d5cd-9334d16e4c05"
      },
      "execution_count": 2,
      "outputs": [
        {
          "output_type": "stream",
          "name": "stdout",
          "text": [
            "Drive already mounted at /content/drive; to attempt to forcibly remount, call drive.mount(\"/content/drive\", force_remount=True).\n"
          ]
        }
      ]
    },
    {
      "cell_type": "code",
      "source": [
        "# List to hold the corrected data\n",
        "data = []\n",
        "\n",
        "# Temporary list to hold fields that span multiple lines\n",
        "current_fields = []\n",
        "\n",
        "# Open the file and read line by line\n",
        "with open('/content/drive/MyDrive/newsSpace.txt', 'r', encoding='ISO-8859-1') as file:\n",
        "    for line in file:\n",
        "        # Check if the line ends with a backslash indicating continuation\n",
        "        if line.endswith('\\\\\\n'):\n",
        "            # Add the current line's content (except for the backslash and newline) to the current fields\n",
        "            current_fields.append(line[:-2])\n",
        "        else:\n",
        "            # This line does not end with a backslash, so it is the end of the current entry\n",
        "            # Combine any previously accumulated fields with the current line\n",
        "            current_fields.append(line)\n",
        "            full_entry = ''.join(current_fields)\n",
        "\n",
        "            # Split the full entry into fields using the tab delimiter\n",
        "            fields = full_entry.rstrip('\\n').split('\\t')\n",
        "\n",
        "            # Ensure that each line has the correct number of fields\n",
        "            if len(fields) == 9:\n",
        "                data.append(fields)\n",
        "\n",
        "            # Reset the current fields list for the next entry\n",
        "            current_fields = []\n",
        "\n",
        "# Convert the corrected data list to a DataFrame\n",
        "df = pd.DataFrame(data, columns=['source', 'url', 'title', 'image', 'category', 'description', 'rank', 'pubdate', 'video'])\n",
        "\n",
        "# Display the first few rows of the DataFrame to ensure correctness\n",
        "df.head()"
      ],
      "metadata": {
        "colab": {
          "base_uri": "https://localhost:8080/",
          "height": 310
        },
        "id": "c0lBRz7flfix",
        "outputId": "90c4b4e7-c7ac-480d-c053-dc5f9f4f8de7"
      },
      "execution_count": 3,
      "outputs": [
        {
          "output_type": "execute_result",
          "data": {
            "text/plain": [
              "           source                                                url  \\\n",
              "0  Yahoo Business  http://us.rd.yahoo.com/dailynews/rss/business/...   \n",
              "1  Yahoo Business  http://us.rd.yahoo.com/dailynews/rss/business/...   \n",
              "2  Yahoo Business  http://us.rd.yahoo.com/dailynews/rss/business/...   \n",
              "3  Yahoo Business  http://us.rd.yahoo.com/dailynews/rss/business/...   \n",
              "4  Yahoo Business  http://us.rd.yahoo.com/dailynews/rss/business/...   \n",
              "\n",
              "                                               title image  category  \\\n",
              "0  Wall St. Pullback Reflects Tech Blowout (Reuters)  none  Business   \n",
              "1  Wall St. Bears Claw Back Into the Black (Reuters)  none  Business   \n",
              "2  Carlyle Looks Toward Commercial Aerospace (Reu...  none  Business   \n",
              "3    Oil and Economy Cloud Stocks' Outlook (Reuters)  none  Business   \n",
              "4  Iraq Halts Oil Exports from Main Southern Pipe...  none  Business   \n",
              "\n",
              "                                         description rank  \\\n",
              "0  Reuters - Wall Street's long-playing drama,\"Wa...    5   \n",
              "1  Reuters - Short-sellers, Wall Street's dwindli...    5   \n",
              "2  Reuters - Private investment firm Carlyle Grou...    5   \n",
              "3  Reuters - Soaring crude prices plus worriesabo...    5   \n",
              "4  Reuters - Authorities have halted oil exportfl...    5   \n",
              "\n",
              "               pubdate video  \n",
              "0  0000-00-00 00:00:00    \\N  \n",
              "1  0000-00-00 00:00:00    \\N  \n",
              "2  0000-00-00 00:00:00    \\N  \n",
              "3  0000-00-00 00:00:00    \\N  \n",
              "4  0000-00-00 00:00:00    \\N  "
            ],
            "text/html": [
              "\n",
              "  <div id=\"df-cffe8b3c-31ae-49f1-a8cd-e2f06970580c\" class=\"colab-df-container\">\n",
              "    <div>\n",
              "<style scoped>\n",
              "    .dataframe tbody tr th:only-of-type {\n",
              "        vertical-align: middle;\n",
              "    }\n",
              "\n",
              "    .dataframe tbody tr th {\n",
              "        vertical-align: top;\n",
              "    }\n",
              "\n",
              "    .dataframe thead th {\n",
              "        text-align: right;\n",
              "    }\n",
              "</style>\n",
              "<table border=\"1\" class=\"dataframe\">\n",
              "  <thead>\n",
              "    <tr style=\"text-align: right;\">\n",
              "      <th></th>\n",
              "      <th>source</th>\n",
              "      <th>url</th>\n",
              "      <th>title</th>\n",
              "      <th>image</th>\n",
              "      <th>category</th>\n",
              "      <th>description</th>\n",
              "      <th>rank</th>\n",
              "      <th>pubdate</th>\n",
              "      <th>video</th>\n",
              "    </tr>\n",
              "  </thead>\n",
              "  <tbody>\n",
              "    <tr>\n",
              "      <th>0</th>\n",
              "      <td>Yahoo Business</td>\n",
              "      <td>http://us.rd.yahoo.com/dailynews/rss/business/...</td>\n",
              "      <td>Wall St. Pullback Reflects Tech Blowout (Reuters)</td>\n",
              "      <td>none</td>\n",
              "      <td>Business</td>\n",
              "      <td>Reuters - Wall Street's long-playing drama,\"Wa...</td>\n",
              "      <td>5</td>\n",
              "      <td>0000-00-00 00:00:00</td>\n",
              "      <td>\\N</td>\n",
              "    </tr>\n",
              "    <tr>\n",
              "      <th>1</th>\n",
              "      <td>Yahoo Business</td>\n",
              "      <td>http://us.rd.yahoo.com/dailynews/rss/business/...</td>\n",
              "      <td>Wall St. Bears Claw Back Into the Black (Reuters)</td>\n",
              "      <td>none</td>\n",
              "      <td>Business</td>\n",
              "      <td>Reuters - Short-sellers, Wall Street's dwindli...</td>\n",
              "      <td>5</td>\n",
              "      <td>0000-00-00 00:00:00</td>\n",
              "      <td>\\N</td>\n",
              "    </tr>\n",
              "    <tr>\n",
              "      <th>2</th>\n",
              "      <td>Yahoo Business</td>\n",
              "      <td>http://us.rd.yahoo.com/dailynews/rss/business/...</td>\n",
              "      <td>Carlyle Looks Toward Commercial Aerospace (Reu...</td>\n",
              "      <td>none</td>\n",
              "      <td>Business</td>\n",
              "      <td>Reuters - Private investment firm Carlyle Grou...</td>\n",
              "      <td>5</td>\n",
              "      <td>0000-00-00 00:00:00</td>\n",
              "      <td>\\N</td>\n",
              "    </tr>\n",
              "    <tr>\n",
              "      <th>3</th>\n",
              "      <td>Yahoo Business</td>\n",
              "      <td>http://us.rd.yahoo.com/dailynews/rss/business/...</td>\n",
              "      <td>Oil and Economy Cloud Stocks' Outlook (Reuters)</td>\n",
              "      <td>none</td>\n",
              "      <td>Business</td>\n",
              "      <td>Reuters - Soaring crude prices plus worriesabo...</td>\n",
              "      <td>5</td>\n",
              "      <td>0000-00-00 00:00:00</td>\n",
              "      <td>\\N</td>\n",
              "    </tr>\n",
              "    <tr>\n",
              "      <th>4</th>\n",
              "      <td>Yahoo Business</td>\n",
              "      <td>http://us.rd.yahoo.com/dailynews/rss/business/...</td>\n",
              "      <td>Iraq Halts Oil Exports from Main Southern Pipe...</td>\n",
              "      <td>none</td>\n",
              "      <td>Business</td>\n",
              "      <td>Reuters - Authorities have halted oil exportfl...</td>\n",
              "      <td>5</td>\n",
              "      <td>0000-00-00 00:00:00</td>\n",
              "      <td>\\N</td>\n",
              "    </tr>\n",
              "  </tbody>\n",
              "</table>\n",
              "</div>\n",
              "    <div class=\"colab-df-buttons\">\n",
              "\n",
              "  <div class=\"colab-df-container\">\n",
              "    <button class=\"colab-df-convert\" onclick=\"convertToInteractive('df-cffe8b3c-31ae-49f1-a8cd-e2f06970580c')\"\n",
              "            title=\"Convert this dataframe to an interactive table.\"\n",
              "            style=\"display:none;\">\n",
              "\n",
              "  <svg xmlns=\"http://www.w3.org/2000/svg\" height=\"24px\" viewBox=\"0 -960 960 960\">\n",
              "    <path d=\"M120-120v-720h720v720H120Zm60-500h600v-160H180v160Zm220 220h160v-160H400v160Zm0 220h160v-160H400v160ZM180-400h160v-160H180v160Zm440 0h160v-160H620v160ZM180-180h160v-160H180v160Zm440 0h160v-160H620v160Z\"/>\n",
              "  </svg>\n",
              "    </button>\n",
              "\n",
              "  <style>\n",
              "    .colab-df-container {\n",
              "      display:flex;\n",
              "      gap: 12px;\n",
              "    }\n",
              "\n",
              "    .colab-df-convert {\n",
              "      background-color: #E8F0FE;\n",
              "      border: none;\n",
              "      border-radius: 50%;\n",
              "      cursor: pointer;\n",
              "      display: none;\n",
              "      fill: #1967D2;\n",
              "      height: 32px;\n",
              "      padding: 0 0 0 0;\n",
              "      width: 32px;\n",
              "    }\n",
              "\n",
              "    .colab-df-convert:hover {\n",
              "      background-color: #E2EBFA;\n",
              "      box-shadow: 0px 1px 2px rgba(60, 64, 67, 0.3), 0px 1px 3px 1px rgba(60, 64, 67, 0.15);\n",
              "      fill: #174EA6;\n",
              "    }\n",
              "\n",
              "    .colab-df-buttons div {\n",
              "      margin-bottom: 4px;\n",
              "    }\n",
              "\n",
              "    [theme=dark] .colab-df-convert {\n",
              "      background-color: #3B4455;\n",
              "      fill: #D2E3FC;\n",
              "    }\n",
              "\n",
              "    [theme=dark] .colab-df-convert:hover {\n",
              "      background-color: #434B5C;\n",
              "      box-shadow: 0px 1px 3px 1px rgba(0, 0, 0, 0.15);\n",
              "      filter: drop-shadow(0px 1px 2px rgba(0, 0, 0, 0.3));\n",
              "      fill: #FFFFFF;\n",
              "    }\n",
              "  </style>\n",
              "\n",
              "    <script>\n",
              "      const buttonEl =\n",
              "        document.querySelector('#df-cffe8b3c-31ae-49f1-a8cd-e2f06970580c button.colab-df-convert');\n",
              "      buttonEl.style.display =\n",
              "        google.colab.kernel.accessAllowed ? 'block' : 'none';\n",
              "\n",
              "      async function convertToInteractive(key) {\n",
              "        const element = document.querySelector('#df-cffe8b3c-31ae-49f1-a8cd-e2f06970580c');\n",
              "        const dataTable =\n",
              "          await google.colab.kernel.invokeFunction('convertToInteractive',\n",
              "                                                    [key], {});\n",
              "        if (!dataTable) return;\n",
              "\n",
              "        const docLinkHtml = 'Like what you see? Visit the ' +\n",
              "          '<a target=\"_blank\" href=https://colab.research.google.com/notebooks/data_table.ipynb>data table notebook</a>'\n",
              "          + ' to learn more about interactive tables.';\n",
              "        element.innerHTML = '';\n",
              "        dataTable['output_type'] = 'display_data';\n",
              "        await google.colab.output.renderOutput(dataTable, element);\n",
              "        const docLink = document.createElement('div');\n",
              "        docLink.innerHTML = docLinkHtml;\n",
              "        element.appendChild(docLink);\n",
              "      }\n",
              "    </script>\n",
              "  </div>\n",
              "\n",
              "\n",
              "<div id=\"df-8e5ed1b6-effd-4a00-acd4-f0bcbb254bf7\">\n",
              "  <button class=\"colab-df-quickchart\" onclick=\"quickchart('df-8e5ed1b6-effd-4a00-acd4-f0bcbb254bf7')\"\n",
              "            title=\"Suggest charts\"\n",
              "            style=\"display:none;\">\n",
              "\n",
              "<svg xmlns=\"http://www.w3.org/2000/svg\" height=\"24px\"viewBox=\"0 0 24 24\"\n",
              "     width=\"24px\">\n",
              "    <g>\n",
              "        <path d=\"M19 3H5c-1.1 0-2 .9-2 2v14c0 1.1.9 2 2 2h14c1.1 0 2-.9 2-2V5c0-1.1-.9-2-2-2zM9 17H7v-7h2v7zm4 0h-2V7h2v10zm4 0h-2v-4h2v4z\"/>\n",
              "    </g>\n",
              "</svg>\n",
              "  </button>\n",
              "\n",
              "<style>\n",
              "  .colab-df-quickchart {\n",
              "      --bg-color: #E8F0FE;\n",
              "      --fill-color: #1967D2;\n",
              "      --hover-bg-color: #E2EBFA;\n",
              "      --hover-fill-color: #174EA6;\n",
              "      --disabled-fill-color: #AAA;\n",
              "      --disabled-bg-color: #DDD;\n",
              "  }\n",
              "\n",
              "  [theme=dark] .colab-df-quickchart {\n",
              "      --bg-color: #3B4455;\n",
              "      --fill-color: #D2E3FC;\n",
              "      --hover-bg-color: #434B5C;\n",
              "      --hover-fill-color: #FFFFFF;\n",
              "      --disabled-bg-color: #3B4455;\n",
              "      --disabled-fill-color: #666;\n",
              "  }\n",
              "\n",
              "  .colab-df-quickchart {\n",
              "    background-color: var(--bg-color);\n",
              "    border: none;\n",
              "    border-radius: 50%;\n",
              "    cursor: pointer;\n",
              "    display: none;\n",
              "    fill: var(--fill-color);\n",
              "    height: 32px;\n",
              "    padding: 0;\n",
              "    width: 32px;\n",
              "  }\n",
              "\n",
              "  .colab-df-quickchart:hover {\n",
              "    background-color: var(--hover-bg-color);\n",
              "    box-shadow: 0 1px 2px rgba(60, 64, 67, 0.3), 0 1px 3px 1px rgba(60, 64, 67, 0.15);\n",
              "    fill: var(--button-hover-fill-color);\n",
              "  }\n",
              "\n",
              "  .colab-df-quickchart-complete:disabled,\n",
              "  .colab-df-quickchart-complete:disabled:hover {\n",
              "    background-color: var(--disabled-bg-color);\n",
              "    fill: var(--disabled-fill-color);\n",
              "    box-shadow: none;\n",
              "  }\n",
              "\n",
              "  .colab-df-spinner {\n",
              "    border: 2px solid var(--fill-color);\n",
              "    border-color: transparent;\n",
              "    border-bottom-color: var(--fill-color);\n",
              "    animation:\n",
              "      spin 1s steps(1) infinite;\n",
              "  }\n",
              "\n",
              "  @keyframes spin {\n",
              "    0% {\n",
              "      border-color: transparent;\n",
              "      border-bottom-color: var(--fill-color);\n",
              "      border-left-color: var(--fill-color);\n",
              "    }\n",
              "    20% {\n",
              "      border-color: transparent;\n",
              "      border-left-color: var(--fill-color);\n",
              "      border-top-color: var(--fill-color);\n",
              "    }\n",
              "    30% {\n",
              "      border-color: transparent;\n",
              "      border-left-color: var(--fill-color);\n",
              "      border-top-color: var(--fill-color);\n",
              "      border-right-color: var(--fill-color);\n",
              "    }\n",
              "    40% {\n",
              "      border-color: transparent;\n",
              "      border-right-color: var(--fill-color);\n",
              "      border-top-color: var(--fill-color);\n",
              "    }\n",
              "    60% {\n",
              "      border-color: transparent;\n",
              "      border-right-color: var(--fill-color);\n",
              "    }\n",
              "    80% {\n",
              "      border-color: transparent;\n",
              "      border-right-color: var(--fill-color);\n",
              "      border-bottom-color: var(--fill-color);\n",
              "    }\n",
              "    90% {\n",
              "      border-color: transparent;\n",
              "      border-bottom-color: var(--fill-color);\n",
              "    }\n",
              "  }\n",
              "</style>\n",
              "\n",
              "  <script>\n",
              "    async function quickchart(key) {\n",
              "      const quickchartButtonEl =\n",
              "        document.querySelector('#' + key + ' button');\n",
              "      quickchartButtonEl.disabled = true;  // To prevent multiple clicks.\n",
              "      quickchartButtonEl.classList.add('colab-df-spinner');\n",
              "      try {\n",
              "        const charts = await google.colab.kernel.invokeFunction(\n",
              "            'suggestCharts', [key], {});\n",
              "      } catch (error) {\n",
              "        console.error('Error during call to suggestCharts:', error);\n",
              "      }\n",
              "      quickchartButtonEl.classList.remove('colab-df-spinner');\n",
              "      quickchartButtonEl.classList.add('colab-df-quickchart-complete');\n",
              "    }\n",
              "    (() => {\n",
              "      let quickchartButtonEl =\n",
              "        document.querySelector('#df-8e5ed1b6-effd-4a00-acd4-f0bcbb254bf7 button');\n",
              "      quickchartButtonEl.style.display =\n",
              "        google.colab.kernel.accessAllowed ? 'block' : 'none';\n",
              "    })();\n",
              "  </script>\n",
              "</div>\n",
              "\n",
              "    </div>\n",
              "  </div>\n"
            ],
            "application/vnd.google.colaboratory.intrinsic+json": {
              "type": "dataframe",
              "variable_name": "df"
            }
          },
          "metadata": {},
          "execution_count": 3
        }
      ]
    },
    {
      "cell_type": "markdown",
      "source": [
        "sample 5000 data points from 'Business', 'Entertainment', 'Sports', 'Sci/Tech' and merge title and description"
      ],
      "metadata": {
        "id": "Z0roPjBziqkA"
      }
    },
    {
      "cell_type": "code",
      "source": [
        "# Import pandas library\n",
        "import pandas as pd\n",
        "\n",
        "sampled_category = ['Business', 'Entertainment', 'Sports', 'Sci/Tech']\n",
        "\n",
        "lst = []\n",
        "\n",
        "for i in sampled_category:\n",
        "  lst.append(df[df['category'] == i].sample(n=5000, random_state=42))\n",
        "\n",
        "data = pd.concat(lst)\n",
        "\n",
        "data = data[['title', 'description', 'category']]\n",
        "\n",
        "data['text'] = data['title'] + ' ' + data['description']\n",
        "\n",
        "data = data[['text', 'category']].reset_index(drop=True)\n",
        "\n",
        "data.head()"
      ],
      "metadata": {
        "id": "aDmaDewh7dVu",
        "colab": {
          "base_uri": "https://localhost:8080/",
          "height": 206
        },
        "outputId": "2af7b6b9-ba04-4bf4-eabc-50a401b0d55f"
      },
      "execution_count": 4,
      "outputs": [
        {
          "output_type": "execute_result",
          "data": {
            "text/plain": [
              "                                                text  category\n",
              "0  Microsoft on Sale Mr. Softy lures PeopleSoft c...  Business\n",
              "1  IBM &#39;to sell PC business&#39; IBM is repor...  Business\n",
              "2  Gartner buys Meta Group Both Gartner and Meta ...  Business\n",
              "3  Nikkei Dips for a 2nd Straight Session  TOKYO ...  Business\n",
              "4  GM Profit Falls on European Losses  Here's how...  Business"
            ],
            "text/html": [
              "\n",
              "  <div id=\"df-e079f5b4-6fc9-49cb-b44f-71dd6766919f\" class=\"colab-df-container\">\n",
              "    <div>\n",
              "<style scoped>\n",
              "    .dataframe tbody tr th:only-of-type {\n",
              "        vertical-align: middle;\n",
              "    }\n",
              "\n",
              "    .dataframe tbody tr th {\n",
              "        vertical-align: top;\n",
              "    }\n",
              "\n",
              "    .dataframe thead th {\n",
              "        text-align: right;\n",
              "    }\n",
              "</style>\n",
              "<table border=\"1\" class=\"dataframe\">\n",
              "  <thead>\n",
              "    <tr style=\"text-align: right;\">\n",
              "      <th></th>\n",
              "      <th>text</th>\n",
              "      <th>category</th>\n",
              "    </tr>\n",
              "  </thead>\n",
              "  <tbody>\n",
              "    <tr>\n",
              "      <th>0</th>\n",
              "      <td>Microsoft on Sale Mr. Softy lures PeopleSoft c...</td>\n",
              "      <td>Business</td>\n",
              "    </tr>\n",
              "    <tr>\n",
              "      <th>1</th>\n",
              "      <td>IBM &amp;#39;to sell PC business&amp;#39; IBM is repor...</td>\n",
              "      <td>Business</td>\n",
              "    </tr>\n",
              "    <tr>\n",
              "      <th>2</th>\n",
              "      <td>Gartner buys Meta Group Both Gartner and Meta ...</td>\n",
              "      <td>Business</td>\n",
              "    </tr>\n",
              "    <tr>\n",
              "      <th>3</th>\n",
              "      <td>Nikkei Dips for a 2nd Straight Session  TOKYO ...</td>\n",
              "      <td>Business</td>\n",
              "    </tr>\n",
              "    <tr>\n",
              "      <th>4</th>\n",
              "      <td>GM Profit Falls on European Losses  Here's how...</td>\n",
              "      <td>Business</td>\n",
              "    </tr>\n",
              "  </tbody>\n",
              "</table>\n",
              "</div>\n",
              "    <div class=\"colab-df-buttons\">\n",
              "\n",
              "  <div class=\"colab-df-container\">\n",
              "    <button class=\"colab-df-convert\" onclick=\"convertToInteractive('df-e079f5b4-6fc9-49cb-b44f-71dd6766919f')\"\n",
              "            title=\"Convert this dataframe to an interactive table.\"\n",
              "            style=\"display:none;\">\n",
              "\n",
              "  <svg xmlns=\"http://www.w3.org/2000/svg\" height=\"24px\" viewBox=\"0 -960 960 960\">\n",
              "    <path d=\"M120-120v-720h720v720H120Zm60-500h600v-160H180v160Zm220 220h160v-160H400v160Zm0 220h160v-160H400v160ZM180-400h160v-160H180v160Zm440 0h160v-160H620v160ZM180-180h160v-160H180v160Zm440 0h160v-160H620v160Z\"/>\n",
              "  </svg>\n",
              "    </button>\n",
              "\n",
              "  <style>\n",
              "    .colab-df-container {\n",
              "      display:flex;\n",
              "      gap: 12px;\n",
              "    }\n",
              "\n",
              "    .colab-df-convert {\n",
              "      background-color: #E8F0FE;\n",
              "      border: none;\n",
              "      border-radius: 50%;\n",
              "      cursor: pointer;\n",
              "      display: none;\n",
              "      fill: #1967D2;\n",
              "      height: 32px;\n",
              "      padding: 0 0 0 0;\n",
              "      width: 32px;\n",
              "    }\n",
              "\n",
              "    .colab-df-convert:hover {\n",
              "      background-color: #E2EBFA;\n",
              "      box-shadow: 0px 1px 2px rgba(60, 64, 67, 0.3), 0px 1px 3px 1px rgba(60, 64, 67, 0.15);\n",
              "      fill: #174EA6;\n",
              "    }\n",
              "\n",
              "    .colab-df-buttons div {\n",
              "      margin-bottom: 4px;\n",
              "    }\n",
              "\n",
              "    [theme=dark] .colab-df-convert {\n",
              "      background-color: #3B4455;\n",
              "      fill: #D2E3FC;\n",
              "    }\n",
              "\n",
              "    [theme=dark] .colab-df-convert:hover {\n",
              "      background-color: #434B5C;\n",
              "      box-shadow: 0px 1px 3px 1px rgba(0, 0, 0, 0.15);\n",
              "      filter: drop-shadow(0px 1px 2px rgba(0, 0, 0, 0.3));\n",
              "      fill: #FFFFFF;\n",
              "    }\n",
              "  </style>\n",
              "\n",
              "    <script>\n",
              "      const buttonEl =\n",
              "        document.querySelector('#df-e079f5b4-6fc9-49cb-b44f-71dd6766919f button.colab-df-convert');\n",
              "      buttonEl.style.display =\n",
              "        google.colab.kernel.accessAllowed ? 'block' : 'none';\n",
              "\n",
              "      async function convertToInteractive(key) {\n",
              "        const element = document.querySelector('#df-e079f5b4-6fc9-49cb-b44f-71dd6766919f');\n",
              "        const dataTable =\n",
              "          await google.colab.kernel.invokeFunction('convertToInteractive',\n",
              "                                                    [key], {});\n",
              "        if (!dataTable) return;\n",
              "\n",
              "        const docLinkHtml = 'Like what you see? Visit the ' +\n",
              "          '<a target=\"_blank\" href=https://colab.research.google.com/notebooks/data_table.ipynb>data table notebook</a>'\n",
              "          + ' to learn more about interactive tables.';\n",
              "        element.innerHTML = '';\n",
              "        dataTable['output_type'] = 'display_data';\n",
              "        await google.colab.output.renderOutput(dataTable, element);\n",
              "        const docLink = document.createElement('div');\n",
              "        docLink.innerHTML = docLinkHtml;\n",
              "        element.appendChild(docLink);\n",
              "      }\n",
              "    </script>\n",
              "  </div>\n",
              "\n",
              "\n",
              "<div id=\"df-85ae0f89-7b89-4a53-b126-6c3cd4822966\">\n",
              "  <button class=\"colab-df-quickchart\" onclick=\"quickchart('df-85ae0f89-7b89-4a53-b126-6c3cd4822966')\"\n",
              "            title=\"Suggest charts\"\n",
              "            style=\"display:none;\">\n",
              "\n",
              "<svg xmlns=\"http://www.w3.org/2000/svg\" height=\"24px\"viewBox=\"0 0 24 24\"\n",
              "     width=\"24px\">\n",
              "    <g>\n",
              "        <path d=\"M19 3H5c-1.1 0-2 .9-2 2v14c0 1.1.9 2 2 2h14c1.1 0 2-.9 2-2V5c0-1.1-.9-2-2-2zM9 17H7v-7h2v7zm4 0h-2V7h2v10zm4 0h-2v-4h2v4z\"/>\n",
              "    </g>\n",
              "</svg>\n",
              "  </button>\n",
              "\n",
              "<style>\n",
              "  .colab-df-quickchart {\n",
              "      --bg-color: #E8F0FE;\n",
              "      --fill-color: #1967D2;\n",
              "      --hover-bg-color: #E2EBFA;\n",
              "      --hover-fill-color: #174EA6;\n",
              "      --disabled-fill-color: #AAA;\n",
              "      --disabled-bg-color: #DDD;\n",
              "  }\n",
              "\n",
              "  [theme=dark] .colab-df-quickchart {\n",
              "      --bg-color: #3B4455;\n",
              "      --fill-color: #D2E3FC;\n",
              "      --hover-bg-color: #434B5C;\n",
              "      --hover-fill-color: #FFFFFF;\n",
              "      --disabled-bg-color: #3B4455;\n",
              "      --disabled-fill-color: #666;\n",
              "  }\n",
              "\n",
              "  .colab-df-quickchart {\n",
              "    background-color: var(--bg-color);\n",
              "    border: none;\n",
              "    border-radius: 50%;\n",
              "    cursor: pointer;\n",
              "    display: none;\n",
              "    fill: var(--fill-color);\n",
              "    height: 32px;\n",
              "    padding: 0;\n",
              "    width: 32px;\n",
              "  }\n",
              "\n",
              "  .colab-df-quickchart:hover {\n",
              "    background-color: var(--hover-bg-color);\n",
              "    box-shadow: 0 1px 2px rgba(60, 64, 67, 0.3), 0 1px 3px 1px rgba(60, 64, 67, 0.15);\n",
              "    fill: var(--button-hover-fill-color);\n",
              "  }\n",
              "\n",
              "  .colab-df-quickchart-complete:disabled,\n",
              "  .colab-df-quickchart-complete:disabled:hover {\n",
              "    background-color: var(--disabled-bg-color);\n",
              "    fill: var(--disabled-fill-color);\n",
              "    box-shadow: none;\n",
              "  }\n",
              "\n",
              "  .colab-df-spinner {\n",
              "    border: 2px solid var(--fill-color);\n",
              "    border-color: transparent;\n",
              "    border-bottom-color: var(--fill-color);\n",
              "    animation:\n",
              "      spin 1s steps(1) infinite;\n",
              "  }\n",
              "\n",
              "  @keyframes spin {\n",
              "    0% {\n",
              "      border-color: transparent;\n",
              "      border-bottom-color: var(--fill-color);\n",
              "      border-left-color: var(--fill-color);\n",
              "    }\n",
              "    20% {\n",
              "      border-color: transparent;\n",
              "      border-left-color: var(--fill-color);\n",
              "      border-top-color: var(--fill-color);\n",
              "    }\n",
              "    30% {\n",
              "      border-color: transparent;\n",
              "      border-left-color: var(--fill-color);\n",
              "      border-top-color: var(--fill-color);\n",
              "      border-right-color: var(--fill-color);\n",
              "    }\n",
              "    40% {\n",
              "      border-color: transparent;\n",
              "      border-right-color: var(--fill-color);\n",
              "      border-top-color: var(--fill-color);\n",
              "    }\n",
              "    60% {\n",
              "      border-color: transparent;\n",
              "      border-right-color: var(--fill-color);\n",
              "    }\n",
              "    80% {\n",
              "      border-color: transparent;\n",
              "      border-right-color: var(--fill-color);\n",
              "      border-bottom-color: var(--fill-color);\n",
              "    }\n",
              "    90% {\n",
              "      border-color: transparent;\n",
              "      border-bottom-color: var(--fill-color);\n",
              "    }\n",
              "  }\n",
              "</style>\n",
              "\n",
              "  <script>\n",
              "    async function quickchart(key) {\n",
              "      const quickchartButtonEl =\n",
              "        document.querySelector('#' + key + ' button');\n",
              "      quickchartButtonEl.disabled = true;  // To prevent multiple clicks.\n",
              "      quickchartButtonEl.classList.add('colab-df-spinner');\n",
              "      try {\n",
              "        const charts = await google.colab.kernel.invokeFunction(\n",
              "            'suggestCharts', [key], {});\n",
              "      } catch (error) {\n",
              "        console.error('Error during call to suggestCharts:', error);\n",
              "      }\n",
              "      quickchartButtonEl.classList.remove('colab-df-spinner');\n",
              "      quickchartButtonEl.classList.add('colab-df-quickchart-complete');\n",
              "    }\n",
              "    (() => {\n",
              "      let quickchartButtonEl =\n",
              "        document.querySelector('#df-85ae0f89-7b89-4a53-b126-6c3cd4822966 button');\n",
              "      quickchartButtonEl.style.display =\n",
              "        google.colab.kernel.accessAllowed ? 'block' : 'none';\n",
              "    })();\n",
              "  </script>\n",
              "</div>\n",
              "\n",
              "    </div>\n",
              "  </div>\n"
            ],
            "application/vnd.google.colaboratory.intrinsic+json": {
              "type": "dataframe",
              "variable_name": "data",
              "summary": "{\n  \"name\": \"data\",\n  \"rows\": 20000,\n  \"fields\": [\n    {\n      \"column\": \"text\",\n      \"properties\": {\n        \"dtype\": \"string\",\n        \"num_unique_values\": 19833,\n        \"samples\": [\n          \"Schoolboy quizzed over sex video Police in India question a schoolboy in connection with the filming and sale of video clips of a sexual act.\",\n          \"Cisco denies Brazilian tax lambada <h4>Shhh! That's the forbidden fraud</h4><p>Cisco has denied wrongdoing in the tax fraud scandal that engulfed its Brazilian tentacle earlier this week.\\u00e2\\u0080\\u00a6</p><a href=\\\"http://ad.uk.doubleclick.net/jump/reg.rss.4159/main;sz=336x280;ord=2234567892?\\\" target=\\\"_blank\\\"><img src=\\\"http://ad.uk.doubleclick.net/ad/reg.rss.4159/main;sz=336x280;ord=2234567892?\\\" border=\\\"0\\\" alt=\\\"\\\"></a>\",\n          \"France's Chirac decorates Clint Eastwood     (AP) <p><a href=\\\"http://us.rd.yahoo.com/dailynews/rss/entertainment/*http://news.yahoo.com/s/ap/20070217/ap_en_mo/people_eastwood\\\"><img src=\\\"http://d.yimg.com/us.yimg.com/p/ap/20070217/capt.dlm10302171300.france_eastwood_dlm103.jpg?x=130&y=91&sig=rbE1RYk9s8bySYflSovbGA--\\\" align=\\\"left\\\" height=\\\"91\\\" width=\\\"130\\\" alt=\\\"French President Jacques Chirac pins the medal of the Legion of Honor on the lapel of U.S. actor and director Clint Eastwood during a ceremony at the Elysee Palace in Paris, Saturday Feb. 17, 2007. (AP Photo/Remy de la Mauviniere, Pool)\\\" border=\\\"0\\\" /></a>AP - French President Jacques Chirac inducted American actor-director Clint Eastwood into the Legion of Honor on Saturday, saying he represents \\\"the best of Hollywood.\\\"</p><br clear=\\\"all\\\"/>\"\n        ],\n        \"semantic_type\": \"\",\n        \"description\": \"\"\n      }\n    },\n    {\n      \"column\": \"category\",\n      \"properties\": {\n        \"dtype\": \"category\",\n        \"num_unique_values\": 4,\n        \"samples\": [\n          \"Entertainment\",\n          \"Sci/Tech\",\n          \"Business\"\n        ],\n        \"semantic_type\": \"\",\n        \"description\": \"\"\n      }\n    }\n  ]\n}"
            }
          },
          "metadata": {},
          "execution_count": 4
        }
      ]
    },
    {
      "cell_type": "markdown",
      "source": [
        "# Train test split"
      ],
      "metadata": {
        "id": "BFS0qznObWw8"
      }
    },
    {
      "cell_type": "code",
      "source": [
        "X_train, X_test, y_train, y_test = train_test_split(data['text'], data['category'], test_size=0.2, random_state=42)\n",
        "df_X_train = pd.DataFrame(X_train)\n",
        "df_X_test = pd.DataFrame(X_test)"
      ],
      "metadata": {
        "id": "1Cy-hs497Nc7"
      },
      "execution_count": 5,
      "outputs": []
    },
    {
      "cell_type": "code",
      "source": [
        "df_X_train.head()"
      ],
      "metadata": {
        "id": "nipOygaM7eSl",
        "outputId": "4a0fe001-21be-42d9-f645-7d9e745bd2f9",
        "colab": {
          "base_uri": "https://localhost:8080/",
          "height": 206
        }
      },
      "execution_count": 6,
      "outputs": [
        {
          "output_type": "execute_result",
          "data": {
            "text/plain": [
              "                                                   text\n",
              "5894  Security Incident Prompts British Soul-Searchi...\n",
              "3728  OPEC Head Sees Oil Demand Dropping (Reuters) R...\n",
              "8958  MLB: Yankees Even Series with Twins The Major ...\n",
              "7671  Japanese hostage probably killed in Iraq A bod...\n",
              "5999  Oscar buzz focuses on screen bios A look at fi..."
            ],
            "text/html": [
              "\n",
              "  <div id=\"df-5b538a5c-5423-4acc-bf8c-c81d6b8f82be\" class=\"colab-df-container\">\n",
              "    <div>\n",
              "<style scoped>\n",
              "    .dataframe tbody tr th:only-of-type {\n",
              "        vertical-align: middle;\n",
              "    }\n",
              "\n",
              "    .dataframe tbody tr th {\n",
              "        vertical-align: top;\n",
              "    }\n",
              "\n",
              "    .dataframe thead th {\n",
              "        text-align: right;\n",
              "    }\n",
              "</style>\n",
              "<table border=\"1\" class=\"dataframe\">\n",
              "  <thead>\n",
              "    <tr style=\"text-align: right;\">\n",
              "      <th></th>\n",
              "      <th>text</th>\n",
              "    </tr>\n",
              "  </thead>\n",
              "  <tbody>\n",
              "    <tr>\n",
              "      <th>5894</th>\n",
              "      <td>Security Incident Prompts British Soul-Searchi...</td>\n",
              "    </tr>\n",
              "    <tr>\n",
              "      <th>3728</th>\n",
              "      <td>OPEC Head Sees Oil Demand Dropping (Reuters) R...</td>\n",
              "    </tr>\n",
              "    <tr>\n",
              "      <th>8958</th>\n",
              "      <td>MLB: Yankees Even Series with Twins The Major ...</td>\n",
              "    </tr>\n",
              "    <tr>\n",
              "      <th>7671</th>\n",
              "      <td>Japanese hostage probably killed in Iraq A bod...</td>\n",
              "    </tr>\n",
              "    <tr>\n",
              "      <th>5999</th>\n",
              "      <td>Oscar buzz focuses on screen bios A look at fi...</td>\n",
              "    </tr>\n",
              "  </tbody>\n",
              "</table>\n",
              "</div>\n",
              "    <div class=\"colab-df-buttons\">\n",
              "\n",
              "  <div class=\"colab-df-container\">\n",
              "    <button class=\"colab-df-convert\" onclick=\"convertToInteractive('df-5b538a5c-5423-4acc-bf8c-c81d6b8f82be')\"\n",
              "            title=\"Convert this dataframe to an interactive table.\"\n",
              "            style=\"display:none;\">\n",
              "\n",
              "  <svg xmlns=\"http://www.w3.org/2000/svg\" height=\"24px\" viewBox=\"0 -960 960 960\">\n",
              "    <path d=\"M120-120v-720h720v720H120Zm60-500h600v-160H180v160Zm220 220h160v-160H400v160Zm0 220h160v-160H400v160ZM180-400h160v-160H180v160Zm440 0h160v-160H620v160ZM180-180h160v-160H180v160Zm440 0h160v-160H620v160Z\"/>\n",
              "  </svg>\n",
              "    </button>\n",
              "\n",
              "  <style>\n",
              "    .colab-df-container {\n",
              "      display:flex;\n",
              "      gap: 12px;\n",
              "    }\n",
              "\n",
              "    .colab-df-convert {\n",
              "      background-color: #E8F0FE;\n",
              "      border: none;\n",
              "      border-radius: 50%;\n",
              "      cursor: pointer;\n",
              "      display: none;\n",
              "      fill: #1967D2;\n",
              "      height: 32px;\n",
              "      padding: 0 0 0 0;\n",
              "      width: 32px;\n",
              "    }\n",
              "\n",
              "    .colab-df-convert:hover {\n",
              "      background-color: #E2EBFA;\n",
              "      box-shadow: 0px 1px 2px rgba(60, 64, 67, 0.3), 0px 1px 3px 1px rgba(60, 64, 67, 0.15);\n",
              "      fill: #174EA6;\n",
              "    }\n",
              "\n",
              "    .colab-df-buttons div {\n",
              "      margin-bottom: 4px;\n",
              "    }\n",
              "\n",
              "    [theme=dark] .colab-df-convert {\n",
              "      background-color: #3B4455;\n",
              "      fill: #D2E3FC;\n",
              "    }\n",
              "\n",
              "    [theme=dark] .colab-df-convert:hover {\n",
              "      background-color: #434B5C;\n",
              "      box-shadow: 0px 1px 3px 1px rgba(0, 0, 0, 0.15);\n",
              "      filter: drop-shadow(0px 1px 2px rgba(0, 0, 0, 0.3));\n",
              "      fill: #FFFFFF;\n",
              "    }\n",
              "  </style>\n",
              "\n",
              "    <script>\n",
              "      const buttonEl =\n",
              "        document.querySelector('#df-5b538a5c-5423-4acc-bf8c-c81d6b8f82be button.colab-df-convert');\n",
              "      buttonEl.style.display =\n",
              "        google.colab.kernel.accessAllowed ? 'block' : 'none';\n",
              "\n",
              "      async function convertToInteractive(key) {\n",
              "        const element = document.querySelector('#df-5b538a5c-5423-4acc-bf8c-c81d6b8f82be');\n",
              "        const dataTable =\n",
              "          await google.colab.kernel.invokeFunction('convertToInteractive',\n",
              "                                                    [key], {});\n",
              "        if (!dataTable) return;\n",
              "\n",
              "        const docLinkHtml = 'Like what you see? Visit the ' +\n",
              "          '<a target=\"_blank\" href=https://colab.research.google.com/notebooks/data_table.ipynb>data table notebook</a>'\n",
              "          + ' to learn more about interactive tables.';\n",
              "        element.innerHTML = '';\n",
              "        dataTable['output_type'] = 'display_data';\n",
              "        await google.colab.output.renderOutput(dataTable, element);\n",
              "        const docLink = document.createElement('div');\n",
              "        docLink.innerHTML = docLinkHtml;\n",
              "        element.appendChild(docLink);\n",
              "      }\n",
              "    </script>\n",
              "  </div>\n",
              "\n",
              "\n",
              "<div id=\"df-199c0981-f84d-4158-8f88-4e1700ad5dea\">\n",
              "  <button class=\"colab-df-quickchart\" onclick=\"quickchart('df-199c0981-f84d-4158-8f88-4e1700ad5dea')\"\n",
              "            title=\"Suggest charts\"\n",
              "            style=\"display:none;\">\n",
              "\n",
              "<svg xmlns=\"http://www.w3.org/2000/svg\" height=\"24px\"viewBox=\"0 0 24 24\"\n",
              "     width=\"24px\">\n",
              "    <g>\n",
              "        <path d=\"M19 3H5c-1.1 0-2 .9-2 2v14c0 1.1.9 2 2 2h14c1.1 0 2-.9 2-2V5c0-1.1-.9-2-2-2zM9 17H7v-7h2v7zm4 0h-2V7h2v10zm4 0h-2v-4h2v4z\"/>\n",
              "    </g>\n",
              "</svg>\n",
              "  </button>\n",
              "\n",
              "<style>\n",
              "  .colab-df-quickchart {\n",
              "      --bg-color: #E8F0FE;\n",
              "      --fill-color: #1967D2;\n",
              "      --hover-bg-color: #E2EBFA;\n",
              "      --hover-fill-color: #174EA6;\n",
              "      --disabled-fill-color: #AAA;\n",
              "      --disabled-bg-color: #DDD;\n",
              "  }\n",
              "\n",
              "  [theme=dark] .colab-df-quickchart {\n",
              "      --bg-color: #3B4455;\n",
              "      --fill-color: #D2E3FC;\n",
              "      --hover-bg-color: #434B5C;\n",
              "      --hover-fill-color: #FFFFFF;\n",
              "      --disabled-bg-color: #3B4455;\n",
              "      --disabled-fill-color: #666;\n",
              "  }\n",
              "\n",
              "  .colab-df-quickchart {\n",
              "    background-color: var(--bg-color);\n",
              "    border: none;\n",
              "    border-radius: 50%;\n",
              "    cursor: pointer;\n",
              "    display: none;\n",
              "    fill: var(--fill-color);\n",
              "    height: 32px;\n",
              "    padding: 0;\n",
              "    width: 32px;\n",
              "  }\n",
              "\n",
              "  .colab-df-quickchart:hover {\n",
              "    background-color: var(--hover-bg-color);\n",
              "    box-shadow: 0 1px 2px rgba(60, 64, 67, 0.3), 0 1px 3px 1px rgba(60, 64, 67, 0.15);\n",
              "    fill: var(--button-hover-fill-color);\n",
              "  }\n",
              "\n",
              "  .colab-df-quickchart-complete:disabled,\n",
              "  .colab-df-quickchart-complete:disabled:hover {\n",
              "    background-color: var(--disabled-bg-color);\n",
              "    fill: var(--disabled-fill-color);\n",
              "    box-shadow: none;\n",
              "  }\n",
              "\n",
              "  .colab-df-spinner {\n",
              "    border: 2px solid var(--fill-color);\n",
              "    border-color: transparent;\n",
              "    border-bottom-color: var(--fill-color);\n",
              "    animation:\n",
              "      spin 1s steps(1) infinite;\n",
              "  }\n",
              "\n",
              "  @keyframes spin {\n",
              "    0% {\n",
              "      border-color: transparent;\n",
              "      border-bottom-color: var(--fill-color);\n",
              "      border-left-color: var(--fill-color);\n",
              "    }\n",
              "    20% {\n",
              "      border-color: transparent;\n",
              "      border-left-color: var(--fill-color);\n",
              "      border-top-color: var(--fill-color);\n",
              "    }\n",
              "    30% {\n",
              "      border-color: transparent;\n",
              "      border-left-color: var(--fill-color);\n",
              "      border-top-color: var(--fill-color);\n",
              "      border-right-color: var(--fill-color);\n",
              "    }\n",
              "    40% {\n",
              "      border-color: transparent;\n",
              "      border-right-color: var(--fill-color);\n",
              "      border-top-color: var(--fill-color);\n",
              "    }\n",
              "    60% {\n",
              "      border-color: transparent;\n",
              "      border-right-color: var(--fill-color);\n",
              "    }\n",
              "    80% {\n",
              "      border-color: transparent;\n",
              "      border-right-color: var(--fill-color);\n",
              "      border-bottom-color: var(--fill-color);\n",
              "    }\n",
              "    90% {\n",
              "      border-color: transparent;\n",
              "      border-bottom-color: var(--fill-color);\n",
              "    }\n",
              "  }\n",
              "</style>\n",
              "\n",
              "  <script>\n",
              "    async function quickchart(key) {\n",
              "      const quickchartButtonEl =\n",
              "        document.querySelector('#' + key + ' button');\n",
              "      quickchartButtonEl.disabled = true;  // To prevent multiple clicks.\n",
              "      quickchartButtonEl.classList.add('colab-df-spinner');\n",
              "      try {\n",
              "        const charts = await google.colab.kernel.invokeFunction(\n",
              "            'suggestCharts', [key], {});\n",
              "      } catch (error) {\n",
              "        console.error('Error during call to suggestCharts:', error);\n",
              "      }\n",
              "      quickchartButtonEl.classList.remove('colab-df-spinner');\n",
              "      quickchartButtonEl.classList.add('colab-df-quickchart-complete');\n",
              "    }\n",
              "    (() => {\n",
              "      let quickchartButtonEl =\n",
              "        document.querySelector('#df-199c0981-f84d-4158-8f88-4e1700ad5dea button');\n",
              "      quickchartButtonEl.style.display =\n",
              "        google.colab.kernel.accessAllowed ? 'block' : 'none';\n",
              "    })();\n",
              "  </script>\n",
              "</div>\n",
              "\n",
              "    </div>\n",
              "  </div>\n"
            ],
            "application/vnd.google.colaboratory.intrinsic+json": {
              "type": "dataframe",
              "variable_name": "df_X_train",
              "summary": "{\n  \"name\": \"df_X_train\",\n  \"rows\": 16000,\n  \"fields\": [\n    {\n      \"column\": \"text\",\n      \"properties\": {\n        \"dtype\": \"string\",\n        \"num_unique_values\": 15898,\n        \"samples\": [\n          \"11 Charged in Software Counterfeiting Case (AP) AP - Prosecutors have charged 11 people in California, Texas and Washington state with conspiring to distribute more than &#36;30 million of counterfeit computer software and products.\",\n          \" Lester Beats Cleveland in Return From Cancer   Jon Lester, whose rookie season ended when he was diagnosed with cancer, pitches six innings to win his first game in 11 months and lead Boston over Cleveland, 6-2. \",\n          \"PE is good for SEO Progressive enhancement is just as important for SEO as it is for design and accessibility. PE helps make sure your site delivers the best user experience.\"\n        ],\n        \"semantic_type\": \"\",\n        \"description\": \"\"\n      }\n    }\n  ]\n}"
            }
          },
          "metadata": {},
          "execution_count": 6
        }
      ]
    },
    {
      "cell_type": "markdown",
      "source": [
        "# Preprocessing"
      ],
      "metadata": {
        "id": "Fcv2cnwHOddZ"
      }
    },
    {
      "cell_type": "code",
      "source": [
        "# Load the model, disabling unnecessary pipeline components (i.e. dependency parsing and named entity recognition)\n",
        "nlp = spacy.load(\"en_core_web_sm\", disable=[\"parser\", \"ner\"])\n",
        "\n",
        "def preprocess_text(text):\n",
        "    # Initialize an empty list to store cleaned texts\n",
        "    cleaned_text = []\n",
        "\n",
        "    # Clean each text\n",
        "    for doc in text:\n",
        "        doc = doc.lower() # Convert to lowercase\n",
        "        doc = re.sub(r'[^a-z\\s]', ' ', doc) # Remove special characters and digits\n",
        "        doc = re.sub(r'\\s+', ' ', doc).strip() # Remove extra white spaces\n",
        "        cleaned_text.append(doc)\n",
        "\n",
        "\n",
        "    preprocessed_text = []\n",
        "\n",
        "    # Use nlp.pipe for batch processing of cleaned texts\n",
        "    for doc in nlp.pipe(cleaned_text, batch_size=50): # use batch training to parallel computation\n",
        "        # For each doc, extract lemmas of non-stop words\n",
        "        lemmatized_text = [token.lemma_ for token in doc if not token.is_stop]\n",
        "        preprocessed_text.append(lemmatized_text)\n",
        "\n",
        "    return preprocessed_text"
      ],
      "metadata": {
        "id": "JLEn2ijA3fvL"
      },
      "execution_count": 7,
      "outputs": []
    },
    {
      "cell_type": "code",
      "source": [
        "df_X_train['preprocessed_text'] = preprocess_text(df_X_train['text'].tolist())\n",
        "df_X_test['preprocessed_text'] = preprocess_text(df_X_test['text'].tolist())\n",
        "df_X_train[['text', 'preprocessed_text']].head()"
      ],
      "metadata": {
        "id": "_nuKmgdH7top",
        "outputId": "78392788-9050-47a1-cef5-3d082ddf4e93",
        "colab": {
          "base_uri": "https://localhost:8080/",
          "height": 206
        }
      },
      "execution_count": 8,
      "outputs": [
        {
          "output_type": "execute_result",
          "data": {
            "text/plain": [
              "                                                   text  \\\n",
              "5894  Security Incident Prompts British Soul-Searchi...   \n",
              "3728  OPEC Head Sees Oil Demand Dropping (Reuters) R...   \n",
              "8958  MLB: Yankees Even Series with Twins The Major ...   \n",
              "7671  Japanese hostage probably killed in Iraq A bod...   \n",
              "5999  Oscar buzz focuses on screen bios A look at fi...   \n",
              "\n",
              "                                      preprocessed_text  \n",
              "5894  [security, incident, prompt, british, soul, se...  \n",
              "3728  [opec, head, see, oil, demand, drop, reuters, ...  \n",
              "8958  [mlb, yankee, series, twin, major, league, bas...  \n",
              "7671  [japanese, hostage, probably, kill, iraq, body...  \n",
              "5999  [oscar, buzz, focus, screen, bio, look, film, ...  "
            ],
            "text/html": [
              "\n",
              "  <div id=\"df-da8f8ff1-16e8-4761-8793-366cbccc5054\" class=\"colab-df-container\">\n",
              "    <div>\n",
              "<style scoped>\n",
              "    .dataframe tbody tr th:only-of-type {\n",
              "        vertical-align: middle;\n",
              "    }\n",
              "\n",
              "    .dataframe tbody tr th {\n",
              "        vertical-align: top;\n",
              "    }\n",
              "\n",
              "    .dataframe thead th {\n",
              "        text-align: right;\n",
              "    }\n",
              "</style>\n",
              "<table border=\"1\" class=\"dataframe\">\n",
              "  <thead>\n",
              "    <tr style=\"text-align: right;\">\n",
              "      <th></th>\n",
              "      <th>text</th>\n",
              "      <th>preprocessed_text</th>\n",
              "    </tr>\n",
              "  </thead>\n",
              "  <tbody>\n",
              "    <tr>\n",
              "      <th>5894</th>\n",
              "      <td>Security Incident Prompts British Soul-Searchi...</td>\n",
              "      <td>[security, incident, prompt, british, soul, se...</td>\n",
              "    </tr>\n",
              "    <tr>\n",
              "      <th>3728</th>\n",
              "      <td>OPEC Head Sees Oil Demand Dropping (Reuters) R...</td>\n",
              "      <td>[opec, head, see, oil, demand, drop, reuters, ...</td>\n",
              "    </tr>\n",
              "    <tr>\n",
              "      <th>8958</th>\n",
              "      <td>MLB: Yankees Even Series with Twins The Major ...</td>\n",
              "      <td>[mlb, yankee, series, twin, major, league, bas...</td>\n",
              "    </tr>\n",
              "    <tr>\n",
              "      <th>7671</th>\n",
              "      <td>Japanese hostage probably killed in Iraq A bod...</td>\n",
              "      <td>[japanese, hostage, probably, kill, iraq, body...</td>\n",
              "    </tr>\n",
              "    <tr>\n",
              "      <th>5999</th>\n",
              "      <td>Oscar buzz focuses on screen bios A look at fi...</td>\n",
              "      <td>[oscar, buzz, focus, screen, bio, look, film, ...</td>\n",
              "    </tr>\n",
              "  </tbody>\n",
              "</table>\n",
              "</div>\n",
              "    <div class=\"colab-df-buttons\">\n",
              "\n",
              "  <div class=\"colab-df-container\">\n",
              "    <button class=\"colab-df-convert\" onclick=\"convertToInteractive('df-da8f8ff1-16e8-4761-8793-366cbccc5054')\"\n",
              "            title=\"Convert this dataframe to an interactive table.\"\n",
              "            style=\"display:none;\">\n",
              "\n",
              "  <svg xmlns=\"http://www.w3.org/2000/svg\" height=\"24px\" viewBox=\"0 -960 960 960\">\n",
              "    <path d=\"M120-120v-720h720v720H120Zm60-500h600v-160H180v160Zm220 220h160v-160H400v160Zm0 220h160v-160H400v160ZM180-400h160v-160H180v160Zm440 0h160v-160H620v160ZM180-180h160v-160H180v160Zm440 0h160v-160H620v160Z\"/>\n",
              "  </svg>\n",
              "    </button>\n",
              "\n",
              "  <style>\n",
              "    .colab-df-container {\n",
              "      display:flex;\n",
              "      gap: 12px;\n",
              "    }\n",
              "\n",
              "    .colab-df-convert {\n",
              "      background-color: #E8F0FE;\n",
              "      border: none;\n",
              "      border-radius: 50%;\n",
              "      cursor: pointer;\n",
              "      display: none;\n",
              "      fill: #1967D2;\n",
              "      height: 32px;\n",
              "      padding: 0 0 0 0;\n",
              "      width: 32px;\n",
              "    }\n",
              "\n",
              "    .colab-df-convert:hover {\n",
              "      background-color: #E2EBFA;\n",
              "      box-shadow: 0px 1px 2px rgba(60, 64, 67, 0.3), 0px 1px 3px 1px rgba(60, 64, 67, 0.15);\n",
              "      fill: #174EA6;\n",
              "    }\n",
              "\n",
              "    .colab-df-buttons div {\n",
              "      margin-bottom: 4px;\n",
              "    }\n",
              "\n",
              "    [theme=dark] .colab-df-convert {\n",
              "      background-color: #3B4455;\n",
              "      fill: #D2E3FC;\n",
              "    }\n",
              "\n",
              "    [theme=dark] .colab-df-convert:hover {\n",
              "      background-color: #434B5C;\n",
              "      box-shadow: 0px 1px 3px 1px rgba(0, 0, 0, 0.15);\n",
              "      filter: drop-shadow(0px 1px 2px rgba(0, 0, 0, 0.3));\n",
              "      fill: #FFFFFF;\n",
              "    }\n",
              "  </style>\n",
              "\n",
              "    <script>\n",
              "      const buttonEl =\n",
              "        document.querySelector('#df-da8f8ff1-16e8-4761-8793-366cbccc5054 button.colab-df-convert');\n",
              "      buttonEl.style.display =\n",
              "        google.colab.kernel.accessAllowed ? 'block' : 'none';\n",
              "\n",
              "      async function convertToInteractive(key) {\n",
              "        const element = document.querySelector('#df-da8f8ff1-16e8-4761-8793-366cbccc5054');\n",
              "        const dataTable =\n",
              "          await google.colab.kernel.invokeFunction('convertToInteractive',\n",
              "                                                    [key], {});\n",
              "        if (!dataTable) return;\n",
              "\n",
              "        const docLinkHtml = 'Like what you see? Visit the ' +\n",
              "          '<a target=\"_blank\" href=https://colab.research.google.com/notebooks/data_table.ipynb>data table notebook</a>'\n",
              "          + ' to learn more about interactive tables.';\n",
              "        element.innerHTML = '';\n",
              "        dataTable['output_type'] = 'display_data';\n",
              "        await google.colab.output.renderOutput(dataTable, element);\n",
              "        const docLink = document.createElement('div');\n",
              "        docLink.innerHTML = docLinkHtml;\n",
              "        element.appendChild(docLink);\n",
              "      }\n",
              "    </script>\n",
              "  </div>\n",
              "\n",
              "\n",
              "<div id=\"df-ed4f1589-e937-4d42-b591-f8d933eaf4cc\">\n",
              "  <button class=\"colab-df-quickchart\" onclick=\"quickchart('df-ed4f1589-e937-4d42-b591-f8d933eaf4cc')\"\n",
              "            title=\"Suggest charts\"\n",
              "            style=\"display:none;\">\n",
              "\n",
              "<svg xmlns=\"http://www.w3.org/2000/svg\" height=\"24px\"viewBox=\"0 0 24 24\"\n",
              "     width=\"24px\">\n",
              "    <g>\n",
              "        <path d=\"M19 3H5c-1.1 0-2 .9-2 2v14c0 1.1.9 2 2 2h14c1.1 0 2-.9 2-2V5c0-1.1-.9-2-2-2zM9 17H7v-7h2v7zm4 0h-2V7h2v10zm4 0h-2v-4h2v4z\"/>\n",
              "    </g>\n",
              "</svg>\n",
              "  </button>\n",
              "\n",
              "<style>\n",
              "  .colab-df-quickchart {\n",
              "      --bg-color: #E8F0FE;\n",
              "      --fill-color: #1967D2;\n",
              "      --hover-bg-color: #E2EBFA;\n",
              "      --hover-fill-color: #174EA6;\n",
              "      --disabled-fill-color: #AAA;\n",
              "      --disabled-bg-color: #DDD;\n",
              "  }\n",
              "\n",
              "  [theme=dark] .colab-df-quickchart {\n",
              "      --bg-color: #3B4455;\n",
              "      --fill-color: #D2E3FC;\n",
              "      --hover-bg-color: #434B5C;\n",
              "      --hover-fill-color: #FFFFFF;\n",
              "      --disabled-bg-color: #3B4455;\n",
              "      --disabled-fill-color: #666;\n",
              "  }\n",
              "\n",
              "  .colab-df-quickchart {\n",
              "    background-color: var(--bg-color);\n",
              "    border: none;\n",
              "    border-radius: 50%;\n",
              "    cursor: pointer;\n",
              "    display: none;\n",
              "    fill: var(--fill-color);\n",
              "    height: 32px;\n",
              "    padding: 0;\n",
              "    width: 32px;\n",
              "  }\n",
              "\n",
              "  .colab-df-quickchart:hover {\n",
              "    background-color: var(--hover-bg-color);\n",
              "    box-shadow: 0 1px 2px rgba(60, 64, 67, 0.3), 0 1px 3px 1px rgba(60, 64, 67, 0.15);\n",
              "    fill: var(--button-hover-fill-color);\n",
              "  }\n",
              "\n",
              "  .colab-df-quickchart-complete:disabled,\n",
              "  .colab-df-quickchart-complete:disabled:hover {\n",
              "    background-color: var(--disabled-bg-color);\n",
              "    fill: var(--disabled-fill-color);\n",
              "    box-shadow: none;\n",
              "  }\n",
              "\n",
              "  .colab-df-spinner {\n",
              "    border: 2px solid var(--fill-color);\n",
              "    border-color: transparent;\n",
              "    border-bottom-color: var(--fill-color);\n",
              "    animation:\n",
              "      spin 1s steps(1) infinite;\n",
              "  }\n",
              "\n",
              "  @keyframes spin {\n",
              "    0% {\n",
              "      border-color: transparent;\n",
              "      border-bottom-color: var(--fill-color);\n",
              "      border-left-color: var(--fill-color);\n",
              "    }\n",
              "    20% {\n",
              "      border-color: transparent;\n",
              "      border-left-color: var(--fill-color);\n",
              "      border-top-color: var(--fill-color);\n",
              "    }\n",
              "    30% {\n",
              "      border-color: transparent;\n",
              "      border-left-color: var(--fill-color);\n",
              "      border-top-color: var(--fill-color);\n",
              "      border-right-color: var(--fill-color);\n",
              "    }\n",
              "    40% {\n",
              "      border-color: transparent;\n",
              "      border-right-color: var(--fill-color);\n",
              "      border-top-color: var(--fill-color);\n",
              "    }\n",
              "    60% {\n",
              "      border-color: transparent;\n",
              "      border-right-color: var(--fill-color);\n",
              "    }\n",
              "    80% {\n",
              "      border-color: transparent;\n",
              "      border-right-color: var(--fill-color);\n",
              "      border-bottom-color: var(--fill-color);\n",
              "    }\n",
              "    90% {\n",
              "      border-color: transparent;\n",
              "      border-bottom-color: var(--fill-color);\n",
              "    }\n",
              "  }\n",
              "</style>\n",
              "\n",
              "  <script>\n",
              "    async function quickchart(key) {\n",
              "      const quickchartButtonEl =\n",
              "        document.querySelector('#' + key + ' button');\n",
              "      quickchartButtonEl.disabled = true;  // To prevent multiple clicks.\n",
              "      quickchartButtonEl.classList.add('colab-df-spinner');\n",
              "      try {\n",
              "        const charts = await google.colab.kernel.invokeFunction(\n",
              "            'suggestCharts', [key], {});\n",
              "      } catch (error) {\n",
              "        console.error('Error during call to suggestCharts:', error);\n",
              "      }\n",
              "      quickchartButtonEl.classList.remove('colab-df-spinner');\n",
              "      quickchartButtonEl.classList.add('colab-df-quickchart-complete');\n",
              "    }\n",
              "    (() => {\n",
              "      let quickchartButtonEl =\n",
              "        document.querySelector('#df-ed4f1589-e937-4d42-b591-f8d933eaf4cc button');\n",
              "      quickchartButtonEl.style.display =\n",
              "        google.colab.kernel.accessAllowed ? 'block' : 'none';\n",
              "    })();\n",
              "  </script>\n",
              "</div>\n",
              "\n",
              "    </div>\n",
              "  </div>\n"
            ],
            "application/vnd.google.colaboratory.intrinsic+json": {
              "type": "dataframe",
              "summary": "{\n  \"name\": \"df_X_train[['text', 'preprocessed_text']]\",\n  \"rows\": 5,\n  \"fields\": [\n    {\n      \"column\": \"text\",\n      \"properties\": {\n        \"dtype\": \"string\",\n        \"num_unique_values\": 5,\n        \"samples\": [\n          \"OPEC Head Sees Oil Demand Dropping (Reuters) Reuters - Demand for oil will decline by 1million barrels per day (bpd) in the second quarter of 2005,the head of the OPEC producers' cartel said on Monday.\",\n          \"Oscar buzz focuses on screen bios A look at films contending for the Oscars.\",\n          \"MLB: Yankees Even Series with Twins The Major League Baseball playoffs continued Wednesday, with the series opener between the Houston Astros and Atlanta Braves and the second games of the best-of-five series between the New York Yankees and Minnesota Twins and the Boston Red Sox and \"\n        ],\n        \"semantic_type\": \"\",\n        \"description\": \"\"\n      }\n    },\n    {\n      \"column\": \"preprocessed_text\",\n      \"properties\": {\n        \"dtype\": \"object\",\n        \"semantic_type\": \"\",\n        \"description\": \"\"\n      }\n    }\n  ]\n}"
            }
          },
          "metadata": {},
          "execution_count": 8
        }
      ]
    },
    {
      "cell_type": "markdown",
      "source": [
        "# Determine threshold for minimum word frequency"
      ],
      "metadata": {
        "id": "3GbrwZM6Ke1T"
      }
    },
    {
      "cell_type": "code",
      "source": [
        "tokens = df_X_train['preprocessed_text'].explode()\n",
        "\n",
        "# tokens and their frequencies\n",
        "token_frequency = tokens.value_counts()\n",
        "\n",
        "token_frequency.describe()"
      ],
      "metadata": {
        "colab": {
          "base_uri": "https://localhost:8080/"
        },
        "id": "Z7HmqbjpKD9a",
        "outputId": "5467f858-6f59-43de-c350-599ee92c59b3"
      },
      "execution_count": 9,
      "outputs": [
        {
          "output_type": "execute_result",
          "data": {
            "text/plain": [
              "count    34626.000000\n",
              "mean        16.996419\n",
              "std        156.840771\n",
              "min          1.000000\n",
              "25%          1.000000\n",
              "50%          2.000000\n",
              "75%          5.000000\n",
              "max      11443.000000\n",
              "Name: preprocessed_text, dtype: float64"
            ]
          },
          "metadata": {},
          "execution_count": 9
        }
      ]
    },
    {
      "cell_type": "markdown",
      "source": [
        "- The training data contains a total of 34626 unique words.\n",
        "- The median frequency of word occurrences is 2, meaning half of the words appear no more than twice.\n",
        "- The average frequency of word occurrences is about 17, but this figure is likely skewed by a few extremely high-frequency words such as `com`, `http`, `s`, `p`, `img`, etc.\n",
        "- The most common word appears 11443 times, while the least common words appear only once."
      ],
      "metadata": {
        "id": "gh3ITyfHKSM7"
      }
    },
    {
      "cell_type": "code",
      "source": [
        "tokens = df_X_train['preprocessed_text'].explode()\n",
        "\n",
        "# tokens and their frequencies\n",
        "token_frequency = tokens.value_counts()\n",
        "\n",
        "# frequencies and their times of being observed\n",
        "frequency_obs = token_frequency.value_counts()\n",
        "\n",
        "# total obersvations = number of total tokens\n",
        "total_obs = token_frequency.count()\n",
        "\n",
        "# frequencies and their prob of being observed\n",
        "frequency_probability = (frequency_obs/total_obs)[0:20]\n",
        "\n",
        "cumulative_percentage = frequency_probability.cumsum()\n",
        "\n",
        "# bar plot\n",
        "plt.figure(figsize=(10, 6))\n",
        "plt.bar(frequency_probability.index, frequency_probability.values)\n",
        "plt.step(frequency_probability.index, cumulative_percentage, where = 'mid', color = 'red')\n",
        "plt.title('Token Document Frequenct Dus')\n",
        "plt.xlabel('Document Frequency')\n",
        "plt.ylabel('Probability')\n",
        "plt.xticks(range(1, 21))\n",
        "plt.yticks(np.arange(0, 1, 0.1))\n",
        "plt.grid(linestyle='--')\n",
        "\n",
        "plt.show()"
      ],
      "metadata": {
        "colab": {
          "base_uri": "https://localhost:8080/",
          "height": 564
        },
        "id": "jyCYZ2oK-2_q",
        "outputId": "939e1bbb-76da-429b-e919-4e74fa37e0a7"
      },
      "execution_count": 10,
      "outputs": [
        {
          "output_type": "display_data",
          "data": {
            "text/plain": [
              "<Figure size 1000x600 with 1 Axes>"
            ],
            "image/png": "[encoded data removed]"
          },
          "metadata": {}
        }
      ]
    },
    {
      "cell_type": "markdown",
      "source": [
        "- more than 40% of tokens appear no more than once\n",
        "- more than 60% of tokens appear no more than twice\n",
        "\n",
        "Therefore, the proper range of thresholds for min_count/min_df can be 3 or more"
      ],
      "metadata": {
        "id": "POLPFhMeH54k"
      }
    },
    {
      "cell_type": "code",
      "source": [
        "thres = 3"
      ],
      "metadata": {
        "id": "_iHLJNLpsKXy"
      },
      "execution_count": 11,
      "outputs": []
    },
    {
      "cell_type": "markdown",
      "source": [
        "# Modeling"
      ],
      "metadata": {
        "id": "lh10LI6tYfvd"
      }
    },
    {
      "cell_type": "markdown",
      "source": [
        "## Random Forest"
      ],
      "metadata": {
        "id": "XN1z1Ic9w98H"
      }
    },
    {
      "cell_type": "code",
      "source": [
        "rf = RandomForestClassifier(n_estimators=100, random_state=42)\n",
        "\n",
        "def evaluate_model(X_train, X_test):\n",
        "  rf.fit(X_train, y_train)\n",
        "  y_pred = rf.predict(X_test)\n",
        "  print(classification_report(y_test, y_pred))"
      ],
      "metadata": {
        "id": "ZneJam9JUemz"
      },
      "execution_count": 12,
      "outputs": []
    },
    {
      "cell_type": "markdown",
      "source": [
        "### Bag of Words"
      ],
      "metadata": {
        "id": "zTmy1lEAVOC3"
      }
    },
    {
      "cell_type": "code",
      "source": [
        "df_X_train['preprocessed_text_str'] = df_X_train['preprocessed_text'].apply(lambda x: ' '.join(x))\n",
        "df_X_test['preprocessed_text_str'] = df_X_test['preprocessed_text'].apply(lambda x: ' '.join(x))\n",
        "\n",
        "# vectorize X_train and X_test seperately\n",
        "cv = CountVectorizer(min_df= thres)\n",
        "X_train = cv.fit_transform(df_X_train['preprocessed_text_str'])\n",
        "X_test = cv.transform(df_X_test['preprocessed_text_str'])\n",
        "\n",
        "evaluate_model(X_train, X_test)"
      ],
      "metadata": {
        "colab": {
          "base_uri": "https://localhost:8080/"
        },
        "id": "-LkrUJSMVNZB",
        "outputId": "01dbc1fd-beb1-4141-d388-e325c60a7382"
      },
      "execution_count": 13,
      "outputs": [
        {
          "output_type": "stream",
          "name": "stdout",
          "text": [
            "               precision    recall  f1-score   support\n",
            "\n",
            "     Business       0.70      0.83      0.76       995\n",
            "Entertainment       0.79      0.65      0.71      1024\n",
            "     Sci/Tech       0.81      0.70      0.75       977\n",
            "       Sports       0.82      0.93      0.87      1004\n",
            "\n",
            "     accuracy                           0.78      4000\n",
            "    macro avg       0.78      0.78      0.77      4000\n",
            " weighted avg       0.78      0.78      0.77      4000\n",
            "\n"
          ]
        }
      ]
    },
    {
      "cell_type": "markdown",
      "source": [
        "### TF-IDF"
      ],
      "metadata": {
        "id": "m18RwAYCdMGh"
      }
    },
    {
      "cell_type": "code",
      "source": [
        "# vectorize X_train and X_test seperately\n",
        "tfidf = TfidfVectorizer(min_df = thres)\n",
        "tfidf_train = tfidf.fit_transform(df_X_train['preprocessed_text_str'])\n",
        "tfidf_test = tfidf.transform(df_X_test['preprocessed_text_str'])\n",
        "\n",
        "evaluate_model(tfidf_train, tfidf_test)"
      ],
      "metadata": {
        "colab": {
          "base_uri": "https://localhost:8080/"
        },
        "id": "zj60nmxLfUyN",
        "outputId": "394abd59-632c-47fa-c457-1ce937859b6a"
      },
      "execution_count": 14,
      "outputs": [
        {
          "output_type": "stream",
          "name": "stdout",
          "text": [
            "               precision    recall  f1-score   support\n",
            "\n",
            "     Business       0.73      0.83      0.77       995\n",
            "Entertainment       0.77      0.66      0.71      1024\n",
            "     Sci/Tech       0.80      0.71      0.75       977\n",
            "       Sports       0.82      0.92      0.87      1004\n",
            "\n",
            "     accuracy                           0.78      4000\n",
            "    macro avg       0.78      0.78      0.78      4000\n",
            " weighted avg       0.78      0.78      0.78      4000\n",
            "\n"
          ]
        }
      ]
    },
    {
      "cell_type": "markdown",
      "source": [
        "### Word2Vec"
      ],
      "metadata": {
        "id": "ia6fIccTdvbF"
      }
    },
    {
      "cell_type": "code",
      "source": [
        "# train a Word2Vec model\n",
        "w2v = Word2Vec(sentences=df_X_train['preprocessed_text'], vector_size=100, window=2, min_count=thres, workers=2)"
      ],
      "metadata": {
        "id": "CTczfVgHirOc"
      },
      "execution_count": 15,
      "outputs": []
    },
    {
      "cell_type": "markdown",
      "source": [
        "#### Average"
      ],
      "metadata": {
        "id": "GDacyMhi-lwZ"
      }
    },
    {
      "cell_type": "code",
      "source": [
        "# get average word embedding\n",
        "def avg(model, document):\n",
        "\n",
        "    # Retrieve vectors for words in the vocabulary from the model\n",
        "    vectors = [model.wv[word] for word in document if word in model.wv.key_to_index]\n",
        "    if vectors:\n",
        "        return np.mean(vectors, axis=0)\n",
        "    else:\n",
        "        return np.zeros(model.vector_size)\n",
        "\n",
        "X_train = np.array([avg(w2v, doc) for doc in df_X_train['preprocessed_text']])\n",
        "X_test = np.array([avg(w2v, doc) for doc in df_X_test['preprocessed_text']])\n",
        "\n",
        "evaluate_model(X_train, X_test)"
      ],
      "metadata": {
        "id": "EFvF09gkhpvO",
        "outputId": "4f503758-0acd-4918-d2f4-3daa47f4e82b",
        "colab": {
          "base_uri": "https://localhost:8080/"
        }
      },
      "execution_count": 16,
      "outputs": [
        {
          "output_type": "stream",
          "name": "stdout",
          "text": [
            "               precision    recall  f1-score   support\n",
            "\n",
            "     Business       0.74      0.74      0.74       995\n",
            "Entertainment       0.64      0.63      0.63      1024\n",
            "     Sci/Tech       0.70      0.68      0.69       977\n",
            "       Sports       0.81      0.85      0.83      1004\n",
            "\n",
            "     accuracy                           0.72      4000\n",
            "    macro avg       0.72      0.72      0.72      4000\n",
            " weighted avg       0.72      0.72      0.72      4000\n",
            "\n"
          ]
        }
      ]
    },
    {
      "cell_type": "markdown",
      "source": [
        "#### IDF weighted average"
      ],
      "metadata": {
        "id": "7cVM4vYhS7mp"
      }
    },
    {
      "cell_type": "code",
      "source": [
        "# Create a vocabulary and word vector mapping\n",
        "word_vector_dict = {word: w2v.wv[word] for word in w2v.wv.index_to_key if word in tfidf.vocabulary_}\n",
        "\n",
        "def idf_weighted_average(model, document):\n",
        "    valid_words = [word for word in document if word in word_vector_dict]\n",
        "    if not valid_words:\n",
        "        return np.zeros(model.vector_size)\n",
        "\n",
        "    weights = np.array([tfidf.idf_[tfidf.vocabulary_[word]] for word in valid_words])\n",
        "    vectors = np.array([word_vector_dict[word] for word in valid_words])\n",
        "\n",
        "    weighted_average = np.dot(weights, vectors) / weights.sum() if weights.size > 0 else np.zeros(model.vector_size)\n",
        "\n",
        "    return weighted_average\n",
        "\n",
        "# Apply the weighted average word vector\n",
        "X_train = np.array([idf_weighted_average(w2v, doc) for doc in df_X_train['preprocessed_text']])\n",
        "X_test = np.array([idf_weighted_average(w2v, doc) for doc in df_X_test['preprocessed_text']])\n",
        "\n",
        "evaluate_model(X_train, X_test)"
      ],
      "metadata": {
        "id": "Td-5niloSdIS",
        "outputId": "26e78d15-a3b1-47f8-fe35-1359b464b1f2",
        "colab": {
          "base_uri": "https://localhost:8080/"
        }
      },
      "execution_count": 17,
      "outputs": [
        {
          "output_type": "stream",
          "name": "stdout",
          "text": [
            "               precision    recall  f1-score   support\n",
            "\n",
            "     Business       0.75      0.73      0.74       995\n",
            "Entertainment       0.65      0.64      0.65      1024\n",
            "     Sci/Tech       0.69      0.69      0.69       977\n",
            "       Sports       0.83      0.87      0.85      1004\n",
            "\n",
            "     accuracy                           0.73      4000\n",
            "    macro avg       0.73      0.73      0.73      4000\n",
            " weighted avg       0.73      0.73      0.73      4000\n",
            "\n"
          ]
        }
      ]
    },
    {
      "cell_type": "markdown",
      "source": [
        "#### TF-IDF weighted average"
      ],
      "metadata": {
        "id": "_lbkccancwh6"
      }
    },
    {
      "cell_type": "code",
      "source": [
        "# Create a vocabulary and word vector mapping\n",
        "word2vec_vocab = w2v.wv.index_to_key\n",
        "word_vector_dict = {word: w2v.wv[word] for word in word2vec_vocab if word in tfidf.vocabulary_}\n",
        "\n",
        "feature_names = tfidf.get_feature_names_out()\n",
        "\n",
        "def tfidf_weighted_avg(document, doc_index, tfidf_matrix):\n",
        "    # Only consider words in both Word2Vec and TF-IDF vocabularies\n",
        "    valid_words = [word for word in document if word in word_vector_dict]\n",
        "\n",
        "    # initialize weighted vectors\n",
        "    weighted_vector = np.zeros(w2v.vector_size)\n",
        "\n",
        "    if not valid_words:\n",
        "        return weighted_vector\n",
        "\n",
        "    # get the tfidf row of the current document\n",
        "    doc_tfidf = tfidf_matrix[doc_index].tocoo()\n",
        "\n",
        "    # create a word and tfidf weight mapping\n",
        "    word_to_tfidf = {feature_names[i]: value for i, value in zip(doc_tfidf.col, doc_tfidf.data)}\n",
        "\n",
        "    # calculate tf-idf weighted avg\n",
        "    total_weight = 0.0\n",
        "    for word in valid_words:\n",
        "        if word in word_to_tfidf:\n",
        "            weight = word_to_tfidf[word]\n",
        "            weighted_vector += weight * word_vector_dict[word]\n",
        "            total_weight += weight\n",
        "\n",
        "    if total_weight > 0:\n",
        "        weighted_vector /= total_weight\n",
        "\n",
        "    return weighted_vector\n",
        "\n",
        "X_train = np.array([tfidf_weighted_avg(doc, i, tfidf_train) for i, doc in enumerate(df_X_train['preprocessed_text'])])\n",
        "X_test = np.array([tfidf_weighted_avg(doc, i, tfidf_test) for i, doc in enumerate(df_X_test['preprocessed_text'])])\n",
        "\n",
        "evaluate_model(X_train, X_test)"
      ],
      "metadata": {
        "colab": {
          "base_uri": "https://localhost:8080/"
        },
        "id": "rvBd2DnnZvPR",
        "outputId": "489c51f9-b360-4848-ae11-41b683b9db7f"
      },
      "execution_count": 18,
      "outputs": [
        {
          "output_type": "stream",
          "name": "stdout",
          "text": [
            "               precision    recall  f1-score   support\n",
            "\n",
            "     Business       0.74      0.71      0.73       995\n",
            "Entertainment       0.64      0.65      0.64      1024\n",
            "     Sci/Tech       0.70      0.68      0.69       977\n",
            "       Sports       0.81      0.86      0.84      1004\n",
            "\n",
            "     accuracy                           0.72      4000\n",
            "    macro avg       0.72      0.72      0.72      4000\n",
            " weighted avg       0.72      0.72      0.72      4000\n",
            "\n"
          ]
        }
      ]
    },
    {
      "cell_type": "markdown",
      "source": [
        "### GloVe (pre-trained)"
      ],
      "metadata": {
        "id": "UJ5IOvg5HgAP"
      }
    },
    {
      "cell_type": "code",
      "source": [
        "# load api\n",
        "import gensim.downloader as api\n",
        "\n",
        "print(api.info()['models'].keys())"
      ],
      "metadata": {
        "id": "xnsDzmiFTm12",
        "colab": {
          "base_uri": "https://localhost:8080/"
        },
        "outputId": "f4375686-ea69-4e75-9e5a-da4f3ba293d2"
      },
      "execution_count": 19,
      "outputs": [
        {
          "output_type": "stream",
          "name": "stdout",
          "text": [
            "dict_keys(['fasttext-wiki-news-subwords-300', 'conceptnet-numberbatch-17-06-300', 'word2vec-ruscorpora-300', 'word2vec-google-news-300', 'glove-wiki-gigaword-50', 'glove-wiki-gigaword-100', 'glove-wiki-gigaword-200', 'glove-wiki-gigaword-300', 'glove-twitter-25', 'glove-twitter-50', 'glove-twitter-100', 'glove-twitter-200', '__testing_word2vec-matrix-synopsis'])\n"
          ]
        }
      ]
    },
    {
      "cell_type": "code",
      "source": [
        "# load pretrained model\n",
        "glove = api.load(\"glove-wiki-gigaword-100\")"
      ],
      "metadata": {
        "id": "hYWqVO98Tnnv"
      },
      "execution_count": 20,
      "outputs": []
    },
    {
      "cell_type": "markdown",
      "source": [
        "#### Average"
      ],
      "metadata": {
        "id": "Td6u5AyxYAgn"
      }
    },
    {
      "cell_type": "code",
      "source": [
        "# get average word embedding\n",
        "def avg(model, document):\n",
        "\n",
        "    # Retrieve vectors for words in the vocabulary from the model\n",
        "    vectors = [model[word] for word in document if word in model.key_to_index]\n",
        "    if vectors:\n",
        "        return np.mean(vectors, axis=0)\n",
        "    else:\n",
        "        return np.zeros(model.vector_size)\n",
        "\n",
        "X_train = np.array([avg(glove, doc) for doc in df_X_train['preprocessed_text']])\n",
        "X_test = np.array([avg(glove, doc) for doc in df_X_test['preprocessed_text']])\n",
        "\n",
        "evaluate_model(X_train, X_test)"
      ],
      "metadata": {
        "colab": {
          "base_uri": "https://localhost:8080/"
        },
        "id": "6VKt7fpLc6Vw",
        "outputId": "13b0c54e-735a-45a7-ff30-799f39fc4fc8"
      },
      "execution_count": 21,
      "outputs": [
        {
          "output_type": "stream",
          "name": "stdout",
          "text": [
            "               precision    recall  f1-score   support\n",
            "\n",
            "     Business       0.80      0.78      0.79       995\n",
            "Entertainment       0.76      0.73      0.74      1024\n",
            "     Sci/Tech       0.75      0.77      0.76       977\n",
            "       Sports       0.89      0.93      0.91      1004\n",
            "\n",
            "     accuracy                           0.80      4000\n",
            "    macro avg       0.80      0.80      0.80      4000\n",
            " weighted avg       0.80      0.80      0.80      4000\n",
            "\n"
          ]
        }
      ]
    },
    {
      "cell_type": "markdown",
      "source": [
        "## Deep Learning"
      ],
      "metadata": {
        "id": "ToxqcngCxM3p"
      }
    },
    {
      "cell_type": "markdown",
      "source": [
        "### LSTM (Transfer Learning with GloVe)"
      ],
      "metadata": {
        "id": "6uwhrt4oNXk_"
      }
    },
    {
      "cell_type": "markdown",
      "source": [
        "1. convert each document into vector sequence"
      ],
      "metadata": {
        "id": "VsJOH5PMywZR"
      }
    },
    {
      "cell_type": "code",
      "source": [
        "# define a function to convert each document in data into vector sequence\n",
        "def doc_to_vector_sequence(doc, model):\n",
        "    vector_sequence = []\n",
        "    for word in doc:\n",
        "        if word in model.key_to_index:\n",
        "            vector_sequence.append(model[word])\n",
        "        else:\n",
        "            # use zeros if not in the vocabulary\n",
        "            vector_sequence.append(np.zeros(model.vector_size))\n",
        "    return np.array(vector_sequence)\n",
        "\n",
        "# apply function\n",
        "X_train_sequence = [doc_to_vector_sequence(doc, glove) for doc in df_X_train['preprocessed_text']]\n",
        "X_test_sequence = [doc_to_vector_sequence(doc, glove) for doc in df_X_test['preprocessed_text']]\n",
        "\n",
        "# verify the result\n",
        "print(X_train_sequence[0].shape)\n",
        "X_train_sequence[0]"
      ],
      "metadata": {
        "colab": {
          "base_uri": "https://localhost:8080/"
        },
        "id": "ASs1fhAOJuAc",
        "outputId": "c37569eb-2e81-4c3a-e5ad-3e9667b4b1a8"
      },
      "execution_count": 22,
      "outputs": [
        {
          "output_type": "stream",
          "name": "stdout",
          "text": [
            "(25, 100)\n"
          ]
        },
        {
          "output_type": "execute_result",
          "data": {
            "text/plain": [
              "array([[-0.54812 , -0.59526 ,  0.51106 , ...,  0.044368,  0.35067 ,\n",
              "         0.53382 ],\n",
              "       [-0.065712, -0.72067 ,  0.031713, ...,  0.32525 , -0.094653,\n",
              "        -0.48188 ],\n",
              "       [-0.086022, -0.2014  ,  0.0733  , ...,  0.08761 , -0.41186 ,\n",
              "         0.25028 ],\n",
              "       ...,\n",
              "       [-0.23321 ,  0.19875 , -0.21014 , ...,  0.75232 ,  1.3898  ,\n",
              "         0.4525  ],\n",
              "       [-0.26094 ,  0.16636 , -0.19749 , ...,  0.16511 ,  0.60506 ,\n",
              "        -0.43092 ],\n",
              "       [ 0.24786 ,  0.44341 , -1.3163  , ...,  0.14317 ,  0.73518 ,\n",
              "         0.58781 ]], dtype=float32)"
            ]
          },
          "metadata": {},
          "execution_count": 22
        }
      ]
    },
    {
      "cell_type": "markdown",
      "source": [
        "2. padding"
      ],
      "metadata": {
        "id": "etjvIYxJy2Nm"
      }
    },
    {
      "cell_type": "code",
      "source": [
        "# visualize document length distrib\n",
        "doc_lengths = [len(doc) for doc in df_X_train['preprocessed_text']]\n",
        "\n",
        "plt.figure(figsize=(10, 6))\n",
        "plt.hist(doc_lengths, bins=30)\n",
        "plt.title('Document Length Distribution')\n",
        "plt.xlabel('Document Length')\n",
        "plt.ylabel('Number of Documents')\n",
        "plt.xticks(range(0, max(doc_lengths) + 1, 100))\n",
        "plt.show()"
      ],
      "metadata": {
        "colab": {
          "base_uri": "https://localhost:8080/",
          "height": 564
        },
        "id": "aPCSPKLLy1lB",
        "outputId": "a4948029-9497-406d-df6e-7be209452c42"
      },
      "execution_count": 23,
      "outputs": [
        {
          "output_type": "display_data",
          "data": {
            "text/plain": [
              "<Figure size 1000x600 with 1 Axes>"
            ],
            "image/png": "[encoded data removed]"
          },
          "metadata": {}
        }
      ]
    },
    {
      "cell_type": "code",
      "source": [
        "np.quantile(doc_lengths, 0.99)"
      ],
      "metadata": {
        "colab": {
          "base_uri": "https://localhost:8080/"
        },
        "id": "NGdd9UzSNPG8",
        "outputId": "b09e21bd-04d0-4b00-f48f-639b8edb4c70"
      },
      "execution_count": 24,
      "outputs": [
        {
          "output_type": "execute_result",
          "data": {
            "text/plain": [
              "183.0"
            ]
          },
          "metadata": {},
          "execution_count": 24
        }
      ]
    },
    {
      "cell_type": "markdown",
      "source": [
        "99% documents are shorter than 183. Therefore 180 can be set as the sequence length"
      ],
      "metadata": {
        "id": "y529cN9L24wV"
      }
    },
    {
      "cell_type": "code",
      "source": [
        "# pad the sequence\n",
        "X_train_padded = pad_sequences(X_train_sequence, maxlen=180, dtype='float32', padding='post', truncating='post')\n",
        "X_test_padded = pad_sequences(X_test_sequence, maxlen=180, dtype='float32', padding='post', truncating='post')\n",
        "\n",
        "# verify the result\n",
        "print(X_train_padded[0].shape)\n",
        "X_train_padded[0]"
      ],
      "metadata": {
        "colab": {
          "base_uri": "https://localhost:8080/"
        },
        "id": "g8SlCbmL3AWL",
        "outputId": "ad25104f-fe5b-448a-e241-12ddb5881f67"
      },
      "execution_count": 25,
      "outputs": [
        {
          "output_type": "stream",
          "name": "stdout",
          "text": [
            "(180, 100)\n"
          ]
        },
        {
          "output_type": "execute_result",
          "data": {
            "text/plain": [
              "array([[-0.54812 , -0.59526 ,  0.51106 , ...,  0.044368,  0.35067 ,\n",
              "         0.53382 ],\n",
              "       [-0.065712, -0.72067 ,  0.031713, ...,  0.32525 , -0.094653,\n",
              "        -0.48188 ],\n",
              "       [-0.086022, -0.2014  ,  0.0733  , ...,  0.08761 , -0.41186 ,\n",
              "         0.25028 ],\n",
              "       ...,\n",
              "       [ 0.      ,  0.      ,  0.      , ...,  0.      ,  0.      ,\n",
              "         0.      ],\n",
              "       [ 0.      ,  0.      ,  0.      , ...,  0.      ,  0.      ,\n",
              "         0.      ],\n",
              "       [ 0.      ,  0.      ,  0.      , ...,  0.      ,  0.      ,\n",
              "         0.      ]], dtype=float32)"
            ]
          },
          "metadata": {},
          "execution_count": 25
        }
      ]
    },
    {
      "cell_type": "markdown",
      "source": [
        "3. One-hot encode the target"
      ],
      "metadata": {
        "id": "-D8Hl4EcIWOi"
      }
    },
    {
      "cell_type": "code",
      "source": [
        "# one-hot encode target\n",
        "y_train_onehot = pd.get_dummies(y_train).values\n",
        "y_test_onehot = pd.get_dummies(y_test).values"
      ],
      "metadata": {
        "id": "QGE0M2IeIVed"
      },
      "execution_count": 26,
      "outputs": []
    },
    {
      "cell_type": "code",
      "source": [
        "sequence_len = X_train_padded.shape[1]\n",
        "embedding_dim = X_train_padded.shape[2]\n",
        "\n",
        "# build model\n",
        "model = Sequential()\n",
        "\n",
        "# add a convolution layer to do feature selection\n",
        "model.add(Conv1D(filters=80, kernel_size=5, activation='relu', input_shape=(sequence_len, embedding_dim)))\n",
        "model.add(MaxPooling1D(pool_size=4))\n",
        "\n",
        "# sequential modeling using LSTM\n",
        "model.add(LSTM(64))\n",
        "\n",
        "# output layer with 4 nuerons and softmax for muti-classification problem\n",
        "model.add(Dense(4, activation='softmax'))\n",
        "\n",
        "# compile\n",
        "model.compile(loss='categorical_crossentropy', optimizer='adam', metrics=['accuracy'])\n",
        "\n",
        "model.summary()"
      ],
      "metadata": {
        "colab": {
          "base_uri": "https://localhost:8080/"
        },
        "id": "CCpWWdejH9pR",
        "outputId": "e997808d-73ef-40c7-a263-bf2a5d896c51"
      },
      "execution_count": 27,
      "outputs": [
        {
          "output_type": "stream",
          "name": "stdout",
          "text": [
            "Model: \"sequential\"\n",
            "_________________________________________________________________\n",
            " Layer (type)                Output Shape              Param #   \n",
            "=================================================================\n",
            " conv1d (Conv1D)             (None, 176, 80)           40080     \n",
            "                                                                 \n",
            " max_pooling1d (MaxPooling1  (None, 44, 80)            0         \n",
            " D)                                                              \n",
            "                                                                 \n",
            " lstm (LSTM)                 (None, 64)                37120     \n",
            "                                                                 \n",
            " dense (Dense)               (None, 4)                 260       \n",
            "                                                                 \n",
            "=================================================================\n",
            "Total params: 77460 (302.58 KB)\n",
            "Trainable params: 77460 (302.58 KB)\n",
            "Non-trainable params: 0 (0.00 Byte)\n",
            "_________________________________________________________________\n"
          ]
        }
      ]
    },
    {
      "cell_type": "code",
      "source": [
        "%%time\n",
        "K.clear_session()\n",
        "# train the model\n",
        "history = model.fit(X_train_padded, y_train_onehot, batch_size=64, epochs=10, validation_split=0.2, verbose=1)"
      ],
      "metadata": {
        "colab": {
          "base_uri": "https://localhost:8080/"
        },
        "id": "XjBnIQv_zlJK",
        "outputId": "4f72c7bb-8f9d-46f8-ccd4-3b7f493aa827"
      },
      "execution_count": 28,
      "outputs": [
        {
          "output_type": "stream",
          "name": "stdout",
          "text": [
            "Epoch 1/10\n",
            "200/200 [==============================] - 15s 66ms/step - loss: 1.0051 - accuracy: 0.5195 - val_loss: 0.7834 - val_accuracy: 0.6491\n",
            "Epoch 2/10\n",
            "200/200 [==============================] - 12s 62ms/step - loss: 0.7186 - accuracy: 0.6770 - val_loss: 0.7116 - val_accuracy: 0.6712\n",
            "Epoch 3/10\n",
            "200/200 [==============================] - 12s 62ms/step - loss: 0.5994 - accuracy: 0.7846 - val_loss: 0.5758 - val_accuracy: 0.8047\n",
            "Epoch 4/10\n",
            "200/200 [==============================] - 12s 61ms/step - loss: 0.5074 - accuracy: 0.8334 - val_loss: 0.5516 - val_accuracy: 0.8144\n",
            "Epoch 5/10\n",
            "200/200 [==============================] - 12s 61ms/step - loss: 0.4416 - accuracy: 0.8551 - val_loss: 0.6245 - val_accuracy: 0.8169\n",
            "Epoch 6/10\n",
            "200/200 [==============================] - 12s 62ms/step - loss: 0.4089 - accuracy: 0.8664 - val_loss: 0.5121 - val_accuracy: 0.8256\n",
            "Epoch 7/10\n",
            "200/200 [==============================] - 12s 61ms/step - loss: 0.3830 - accuracy: 0.8771 - val_loss: 0.5440 - val_accuracy: 0.8181\n",
            "Epoch 8/10\n",
            "200/200 [==============================] - 13s 64ms/step - loss: 0.3586 - accuracy: 0.8877 - val_loss: 0.5266 - val_accuracy: 0.8284\n",
            "Epoch 9/10\n",
            "200/200 [==============================] - 13s 63ms/step - loss: 0.3233 - accuracy: 0.9005 - val_loss: 0.5614 - val_accuracy: 0.8284\n",
            "Epoch 10/10\n",
            "200/200 [==============================] - 12s 62ms/step - loss: 0.2918 - accuracy: 0.9122 - val_loss: 0.5950 - val_accuracy: 0.8303\n",
            "CPU times: user 3min 13s, sys: 5.17 s, total: 3min 18s\n",
            "Wall time: 2min 25s\n"
          ]
        }
      ]
    },
    {
      "cell_type": "code",
      "source": [
        "def evaluate_model(X_test):\n",
        "  # predict\n",
        "  prediction = model.predict(X_test)\n",
        "\n",
        "  # convert the predictions to class indices\n",
        "  y_pred = np.argmax(prediction, axis=1)\n",
        "\n",
        "  # convert the true labels to class indices\n",
        "  y_true = np.argmax(y_test_onehot, axis=1)\n",
        "\n",
        "  # Retrieve category names\n",
        "  cat_names = pd.get_dummies(y_train).columns.tolist()\n",
        "  y_pred_label = [cat_names[i] for i in y_pred]\n",
        "  y_test_label = [cat_names[i] for i in y_true]\n",
        "\n",
        "  # evaluate\n",
        "  print(classification_report(y_test_label, y_pred_label))"
      ],
      "metadata": {
        "id": "yWQmYrZV4nfi"
      },
      "execution_count": 29,
      "outputs": []
    },
    {
      "cell_type": "code",
      "source": [
        "evaluate_model(X_test_padded)"
      ],
      "metadata": {
        "colab": {
          "base_uri": "https://localhost:8080/"
        },
        "id": "r32H12QnMP15",
        "outputId": "3c4cf392-627d-4ef2-c727-ed06d2960b9b"
      },
      "execution_count": 30,
      "outputs": [
        {
          "output_type": "stream",
          "name": "stdout",
          "text": [
            "125/125 [==============================] - 2s 13ms/step\n",
            "               precision    recall  f1-score   support\n",
            "\n",
            "     Business       0.76      0.86      0.81       995\n",
            "Entertainment       0.87      0.67      0.75      1024\n",
            "     Sci/Tech       0.81      0.82      0.81       977\n",
            "       Sports       0.88      0.97      0.92      1004\n",
            "\n",
            "     accuracy                           0.83      4000\n",
            "    macro avg       0.83      0.83      0.82      4000\n",
            " weighted avg       0.83      0.83      0.82      4000\n",
            "\n"
          ]
        }
      ]
    },
    {
      "cell_type": "markdown",
      "source": [
        "### LSTM"
      ],
      "metadata": {
        "id": "ubAW8Eol53OH"
      }
    },
    {
      "cell_type": "code",
      "source": [
        "# Tokenize and vectorize text\n",
        "tokenizer = Tokenizer(oov_token='<OOV>')\n",
        "tokenizer.fit_on_texts(pd.concat([df_X_train['preprocessed_text'], df_X_test['preprocessed_text']], axis=0))\n",
        "\n",
        "# Determine vocab_size\n",
        "vocab_size = len(tokenizer.word_index) + 1  # +1 for the OOV token\n",
        "\n",
        "# Convert to sequence\n",
        "X_train_sequences = tokenizer.texts_to_sequences(df_X_train['preprocessed_text'])\n",
        "X_test_sequences = tokenizer.texts_to_sequences(df_X_test['preprocessed_text'])\n",
        "\n",
        "X_train_padded = pad_sequences(X_train_sequences, maxlen=sequence_len, padding='post', truncating='post')\n",
        "X_test_padded = pad_sequences(X_test_sequences, maxlen=sequence_len, padding='post', truncating='post')\n",
        "\n",
        "# build model\n",
        "model = Sequential()\n",
        "\n",
        "# add an embedding layer to covert sparse to dense matrix\n",
        "model.add(Embedding(vocab_size, embedding_dim, input_length=sequence_len))\n",
        "\n",
        "# add a convolution layer to do feature selection\n",
        "model.add(Conv1D(filters=80, kernel_size=5, activation='relu'))\n",
        "model.add(MaxPooling1D(pool_size=4))\n",
        "\n",
        "# sequential modeling using LSTM\n",
        "model.add(LSTM(64))\n",
        "\n",
        "# output layer with 4 nuerons and softmax for muti-classification problem\n",
        "model.add(Dense(4, activation='softmax'))\n",
        "\n",
        "# compile\n",
        "model.compile(loss='categorical_crossentropy', optimizer='adam', metrics=['accuracy'])\n",
        "\n",
        "model.summary()"
      ],
      "metadata": {
        "colab": {
          "base_uri": "https://localhost:8080/"
        },
        "id": "cpHvv5FJCV4N",
        "outputId": "9ddc3200-65de-4ade-cb79-955400b39328"
      },
      "execution_count": 31,
      "outputs": [
        {
          "output_type": "stream",
          "name": "stdout",
          "text": [
            "Model: \"sequential\"\n",
            "_________________________________________________________________\n",
            " Layer (type)                Output Shape              Param #   \n",
            "=================================================================\n",
            " embedding (Embedding)       (None, 180, 100)          3924400   \n",
            "                                                                 \n",
            " conv1d (Conv1D)             (None, 176, 80)           40080     \n",
            "                                                                 \n",
            " max_pooling1d (MaxPooling1  (None, 44, 80)            0         \n",
            " D)                                                              \n",
            "                                                                 \n",
            " lstm (LSTM)                 (None, 64)                37120     \n",
            "                                                                 \n",
            " dense (Dense)               (None, 4)                 260       \n",
            "                                                                 \n",
            "=================================================================\n",
            "Total params: 4001860 (15.27 MB)\n",
            "Trainable params: 4001860 (15.27 MB)\n",
            "Non-trainable params: 0 (0.00 Byte)\n",
            "_________________________________________________________________\n"
          ]
        }
      ]
    },
    {
      "cell_type": "code",
      "source": [
        "%%time\n",
        "K.clear_session()\n",
        "# train the model\n",
        "history = model.fit(X_train_padded, y_train_onehot, batch_size=64, epochs=10, validation_split=0.2, verbose=1)"
      ],
      "metadata": {
        "colab": {
          "base_uri": "https://localhost:8080/"
        },
        "id": "5bNWUmS0zskB",
        "outputId": "a48329c8-467c-414d-c7c4-4f7038272422"
      },
      "execution_count": 32,
      "outputs": [
        {
          "output_type": "stream",
          "name": "stdout",
          "text": [
            "Epoch 1/10\n",
            "200/200 [==============================] - 23s 107ms/step - loss: 1.1774 - accuracy: 0.4171 - val_loss: 0.8783 - val_accuracy: 0.6419\n",
            "Epoch 2/10\n",
            "200/200 [==============================] - 21s 104ms/step - loss: 0.6591 - accuracy: 0.7543 - val_loss: 0.6602 - val_accuracy: 0.7763\n",
            "Epoch 3/10\n",
            "200/200 [==============================] - 20s 102ms/step - loss: 0.4016 - accuracy: 0.8805 - val_loss: 0.6738 - val_accuracy: 0.7900\n",
            "Epoch 4/10\n",
            "200/200 [==============================] - 21s 106ms/step - loss: 0.2799 - accuracy: 0.9246 - val_loss: 0.7541 - val_accuracy: 0.7834\n",
            "Epoch 5/10\n",
            "200/200 [==============================] - 26s 128ms/step - loss: 0.2317 - accuracy: 0.9434 - val_loss: 0.7465 - val_accuracy: 0.7794\n",
            "Epoch 6/10\n",
            "200/200 [==============================] - 22s 108ms/step - loss: 0.1818 - accuracy: 0.9580 - val_loss: 0.7944 - val_accuracy: 0.7825\n",
            "Epoch 7/10\n",
            "200/200 [==============================] - 21s 103ms/step - loss: 0.1569 - accuracy: 0.9640 - val_loss: 0.9222 - val_accuracy: 0.7894\n",
            "Epoch 8/10\n",
            "200/200 [==============================] - 21s 106ms/step - loss: 0.1438 - accuracy: 0.9667 - val_loss: 0.8652 - val_accuracy: 0.7875\n",
            "Epoch 9/10\n",
            "200/200 [==============================] - 21s 106ms/step - loss: 0.1375 - accuracy: 0.9688 - val_loss: 0.8497 - val_accuracy: 0.7844\n",
            "Epoch 10/10\n",
            "200/200 [==============================] - 22s 111ms/step - loss: 0.1240 - accuracy: 0.9719 - val_loss: 0.9540 - val_accuracy: 0.7772\n",
            "CPU times: user 5min 26s, sys: 20.4 s, total: 5min 46s\n",
            "Wall time: 4min 23s\n"
          ]
        }
      ]
    },
    {
      "cell_type": "code",
      "source": [
        "evaluate_model(X_test_padded)"
      ],
      "metadata": {
        "colab": {
          "base_uri": "https://localhost:8080/"
        },
        "id": "VxatrkDOMnzU",
        "outputId": "4bff7aee-f77e-472f-a004-1ca875c86fec"
      },
      "execution_count": 33,
      "outputs": [
        {
          "output_type": "stream",
          "name": "stdout",
          "text": [
            "125/125 [==============================] - 2s 13ms/step\n",
            "               precision    recall  f1-score   support\n",
            "\n",
            "     Business       0.75      0.82      0.78       995\n",
            "Entertainment       0.70      0.70      0.70      1024\n",
            "     Sci/Tech       0.76      0.79      0.78       977\n",
            "       Sports       0.92      0.81      0.86      1004\n",
            "\n",
            "     accuracy                           0.78      4000\n",
            "    macro avg       0.78      0.78      0.78      4000\n",
            " weighted avg       0.78      0.78      0.78      4000\n",
            "\n"
          ]
        }
      ]
    },
    {
      "cell_type": "markdown",
      "source": [
        "### Simple RNN"
      ],
      "metadata": {
        "id": "ZkZLXT59AqsI"
      }
    },
    {
      "cell_type": "code",
      "source": [
        "# Tokenize and vectorize text\n",
        "tokenizer = Tokenizer(oov_token='<OOV>')\n",
        "tokenizer.fit_on_texts(pd.concat([df_X_train['preprocessed_text'], df_X_test['preprocessed_text']], axis=0))\n",
        "\n",
        "# Determine vocab_size\n",
        "vocab_size = len(tokenizer.word_index) + 1  # +1 for the OOV token\n",
        "\n",
        "# Convert to sequence\n",
        "X_train_sequences = tokenizer.texts_to_sequences(df_X_train['preprocessed_text'])\n",
        "X_test_sequences = tokenizer.texts_to_sequences(df_X_test['preprocessed_text'])\n",
        "\n",
        "X_train_padded = pad_sequences(X_train_sequences, maxlen=sequence_len, padding='post', truncating='post')\n",
        "X_test_padded = pad_sequences(X_test_sequences, maxlen=sequence_len, padding='post', truncating='post')\n",
        "\n",
        "# build model\n",
        "model = Sequential()\n",
        "\n",
        "# add an embedding layer to covert sparse to dense matrix\n",
        "model.add(Embedding(vocab_size, embedding_dim, input_length=sequence_len))\n",
        "\n",
        "# add a convolution layer to do feature selection\n",
        "model.add(Conv1D(filters=80, kernel_size=5, activation='relu'))\n",
        "model.add(MaxPooling1D(pool_size=4))\n",
        "\n",
        "# sequential modeling using SimpleRNN\n",
        "model.add(SimpleRNN(64))\n",
        "\n",
        "# output layer with 4 nuerons and softmax for muti-classification problem\n",
        "model.add(Dense(4, activation='softmax'))\n",
        "\n",
        "# compile\n",
        "model.compile(loss='categorical_crossentropy', optimizer='adam', metrics=['accuracy'])\n",
        "\n",
        "model.summary()"
      ],
      "metadata": {
        "colab": {
          "base_uri": "https://localhost:8080/"
        },
        "outputId": "2e609f16-030d-4c0c-cf18-56f8cb693111",
        "id": "OC5Gkho-M4nw"
      },
      "execution_count": 34,
      "outputs": [
        {
          "output_type": "stream",
          "name": "stdout",
          "text": [
            "Model: \"sequential\"\n",
            "_________________________________________________________________\n",
            " Layer (type)                Output Shape              Param #   \n",
            "=================================================================\n",
            " embedding (Embedding)       (None, 180, 100)          3924400   \n",
            "                                                                 \n",
            " conv1d (Conv1D)             (None, 176, 80)           40080     \n",
            "                                                                 \n",
            " max_pooling1d (MaxPooling1  (None, 44, 80)            0         \n",
            " D)                                                              \n",
            "                                                                 \n",
            " simple_rnn (SimpleRNN)      (None, 64)                9280      \n",
            "                                                                 \n",
            " dense (Dense)               (None, 4)                 260       \n",
            "                                                                 \n",
            "=================================================================\n",
            "Total params: 3974020 (15.16 MB)\n",
            "Trainable params: 3974020 (15.16 MB)\n",
            "Non-trainable params: 0 (0.00 Byte)\n",
            "_________________________________________________________________\n"
          ]
        }
      ]
    },
    {
      "cell_type": "code",
      "source": [
        "%%time\n",
        "K.clear_session()\n",
        "# train the model\n",
        "history = model.fit(X_train_padded, y_train_onehot, batch_size=64, epochs=10, validation_split=0.2, verbose=1)"
      ],
      "metadata": {
        "colab": {
          "base_uri": "https://localhost:8080/"
        },
        "outputId": "d2d52868-cb44-4a48-f02d-2ef3fdbb0dee",
        "id": "179RqD0PM4ny"
      },
      "execution_count": 35,
      "outputs": [
        {
          "output_type": "stream",
          "name": "stdout",
          "text": [
            "Epoch 1/10\n",
            "200/200 [==============================] - 21s 100ms/step - loss: 0.8569 - accuracy: 0.6538 - val_loss: 0.7320 - val_accuracy: 0.7281\n",
            "Epoch 2/10\n",
            "200/200 [==============================] - 18s 90ms/step - loss: 0.2942 - accuracy: 0.9066 - val_loss: 0.6660 - val_accuracy: 0.7859\n",
            "Epoch 3/10\n",
            "200/200 [==============================] - 18s 91ms/step - loss: 0.0991 - accuracy: 0.9720 - val_loss: 0.8589 - val_accuracy: 0.7572\n",
            "Epoch 4/10\n",
            "200/200 [==============================] - 18s 90ms/step - loss: 0.0344 - accuracy: 0.9916 - val_loss: 0.9482 - val_accuracy: 0.7784\n",
            "Epoch 5/10\n",
            "200/200 [==============================] - 18s 92ms/step - loss: 0.0209 - accuracy: 0.9948 - val_loss: 1.0225 - val_accuracy: 0.7725\n",
            "Epoch 6/10\n",
            "200/200 [==============================] - 18s 88ms/step - loss: 0.0317 - accuracy: 0.9904 - val_loss: 1.0796 - val_accuracy: 0.7559\n",
            "Epoch 7/10\n",
            "200/200 [==============================] - 18s 90ms/step - loss: 0.0423 - accuracy: 0.9889 - val_loss: 1.2118 - val_accuracy: 0.7538\n",
            "Epoch 8/10\n",
            "200/200 [==============================] - 19s 95ms/step - loss: 0.0630 - accuracy: 0.9813 - val_loss: 1.2063 - val_accuracy: 0.7278\n",
            "Epoch 9/10\n",
            "200/200 [==============================] - 19s 95ms/step - loss: 0.0638 - accuracy: 0.9800 - val_loss: 1.1846 - val_accuracy: 0.7519\n",
            "Epoch 10/10\n",
            "200/200 [==============================] - 18s 91ms/step - loss: 0.0328 - accuracy: 0.9913 - val_loss: 1.2329 - val_accuracy: 0.7513\n",
            "CPU times: user 4min 46s, sys: 14 s, total: 5min\n",
            "Wall time: 3min 23s\n"
          ]
        }
      ]
    },
    {
      "cell_type": "code",
      "source": [
        "evaluate_model(X_test_padded)"
      ],
      "metadata": {
        "colab": {
          "base_uri": "https://localhost:8080/"
        },
        "outputId": "a59ae02f-390d-4a1a-8aca-89599f784559",
        "id": "3jdZCm2fM4nz"
      },
      "execution_count": 36,
      "outputs": [
        {
          "output_type": "stream",
          "name": "stdout",
          "text": [
            "125/125 [==============================] - 1s 10ms/step\n",
            "               precision    recall  f1-score   support\n",
            "\n",
            "     Business       0.75      0.77      0.76       995\n",
            "Entertainment       0.71      0.70      0.71      1024\n",
            "     Sci/Tech       0.80      0.68      0.73       977\n",
            "       Sports       0.80      0.90      0.85      1004\n",
            "\n",
            "     accuracy                           0.76      4000\n",
            "    macro avg       0.77      0.76      0.76      4000\n",
            " weighted avg       0.76      0.76      0.76      4000\n",
            "\n"
          ]
        }
      ]
    }
  ]
}